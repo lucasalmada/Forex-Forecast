{
 "cells": [
  {
   "cell_type": "code",
   "execution_count": null,
   "metadata": {},
   "outputs": [],
   "source": [
    "import pandas as pd\n",
    "import MetaTrader5 as mt5\n",
    "from sup_res import zig_zag,plot_zig_zag\n",
    "from backtesting import Strategy, Backtest\n",
    "import warnings\n",
    "warnings.filterwarnings(\"ignore\")\n",
    "\n",
    "if not mt5.initialize():\n",
    "    print(\"initialize() failed\")\n",
    "    mt5.shutdown()"
   ]
  },
  {
   "cell_type": "code",
   "execution_count": null,
   "metadata": {},
   "outputs": [],
   "source": [
    "ativo = 'EURUSD'\n",
    "df = pd.DataFrame(mt5.copy_rates_from_pos(ativo, mt5.TIMEFRAME_M5, 0, 20000))\n",
    "df['Data'] = pd.to_datetime(df['time'], unit='s').apply(lambda x: str(x))\n",
    "df = df[['Data','open','high','low','close','real_volume']]\n",
    "df.columns = ['Data','Open','High','Low','Close','Vol']\n",
    "df = df.rename(columns = {'real_volume':'vol'})"
   ]
  },
  {
   "cell_type": "code",
   "execution_count": null,
   "metadata": {},
   "outputs": [],
   "source": []
  },
  {
   "cell_type": "code",
   "execution_count": null,
   "metadata": {},
   "outputs": [],
   "source": [
    "df['Data_d'] = df['Data'].apply(lambda x: x[:10])\n",
    "\n",
    "lista_data = df['Data_d'].unique()\n",
    "\n",
    "df_new = df[df['Data_d'] == lista_data[3]]\n",
    "df_2 = df[df['Data_d'] == lista_data[4]]"
   ]
  },
  {
   "cell_type": "code",
   "execution_count": null,
   "metadata": {},
   "outputs": [],
   "source": [
    "plot_zig_zag(df_new,df_2,zig_zag_percent=0.2, merge_distance=None,\n",
    "                         merge_percent=0.3, min_bars_between_peaks=10, peaks='All')"
   ]
  },
  {
   "cell_type": "code",
   "execution_count": null,
   "metadata": {},
   "outputs": [],
   "source": [
    "df['Data_d'] = df['Data'].apply(lambda x: x[:10])\n",
    "\n",
    "lista_data = df['Data_d'].unique()\n",
    "\n",
    "\n",
    "df_total = None\n",
    "\n",
    "for num,data in enumerate(lista_data):\n",
    "\n",
    "    try:\n",
    "        df_new = df[df['Data_d'] == lista_data[num]]\n",
    "        df_2 = df[df['Data_d'] == lista_data[num + 1]]\n",
    "\n",
    "        levels = zig_zag(df_new,zig_zag_percent=0.2, merge_distance=None,\n",
    "                                merge_percent=0.3, min_bars_between_peaks=10, peaks='All')\n",
    "\n",
    "        lista_price = [x['price'] for x in levels]\n",
    "\n",
    "        df_2['prox_linha'] = df_2['Close'].apply(lambda x: min(lista_price, key=lambda y:abs(y-x)))\n",
    "\n",
    "        df_total = pd.concat([df_total,df_2])\n",
    "\n",
    "    except:\n",
    "\n",
    "        pass\n",
    "\n",
    "\n",
    "\n",
    "\n"
   ]
  },
  {
   "cell_type": "code",
   "execution_count": null,
   "metadata": {},
   "outputs": [],
   "source": [
    "df_total['Data'] = pd.to_datetime(df_total['Data'])\n",
    "df_total = df_total.set_index('Data')\n"
   ]
  },
  {
   "cell_type": "code",
   "execution_count": null,
   "metadata": {},
   "outputs": [],
   "source": [
    "#sup = 2, res = -2\n",
    "#Verificar Win rate pra Low, High e Close. Close é cruzamento, Low,High é encostar\n",
    "#estrategia 1 -> Cruzar no sup_res, entrar no candle que cruzou\n",
    "#estrategia 2 -> Cruzar no sup_res, entrar proximo candle revertendo \n",
    "#estrategia 3 -> Toque no sup_res e proximo candle revertendo (inclusive pode ser o próprio candle) \n",
    "\n",
    "'''df_total['sup_res'] = df_total[['Close','prox_linha']].apply(lambda x: 2 if (x['Close'] - x['prox_linha'] < 0.0004) and (x['Close'] - x['prox_linha'] > 0) \n",
    "                                                        else -2 if (x['Close'] - x['prox_linha'] < -0.0004) and (x['Close'] - x['prox_linha'] < 0) \n",
    "                                                        else 1 if (abs(x['Close'] - x['prox_linha']) > 0.0004)\n",
    "                                                        else 0, axis = 1)'''\n",
    "df_total ['diff'] = df_total['Close'] - df_total['prox_linha']\n",
    "df_total['prox_linha_ant'] = df_total['prox_linha'].shift(1)\n",
    "\n",
    "df_total['sup'] = df_total[['Close','prox_linha','prox_linha_ant']].apply(lambda x: 1 if (x['Close'] - x['prox_linha'] > 0)\n",
    "                                                            else -1 if (x['Close'] - x['prox_linha'] < 0) and\n",
    "                                                            (x['prox_linha'] == x['prox_linha_ant'])\n",
    "                                                            else 0,axis = 1)\n",
    "\n",
    "df_total['res'] = df_total[['Close','prox_linha','prox_linha_ant']].apply(lambda x: 2 if (x['Close'] - x['prox_linha'] < 0)\n",
    "                                                            else -1 if (x['Close'] - x['prox_linha'] > 0) and\n",
    "                                                            (x['prox_linha'] == x['prox_linha_ant'])\n",
    "                                                            else 0,axis = 1)\n",
    "\n",
    "\n",
    "\n",
    "# 1--> Cruzou pra baixo, 2 --> Cruzou pra baixo \n",
    "df_total['cruzamento_sup'] = df_total['sup'].diff().apply(lambda x: 1 if x == -2 else 0)\n",
    "df_total['cruzamento_res'] = df_total['res'].diff().apply(lambda x: 2 if x == -3 else 0)\n",
    "#df_total['cruzamento'] = df_total['sup_res'].diff().apply(lambda x: 1 if x == -2 else 2 if x == -3 else 0)\n",
    "\n",
    "df_total['signal'] = 0\n",
    "for index, row in df_total.iterrows():\n",
    "    if row['cruzamento_sup'] == 1:\n",
    "        df_total.loc[index,'signal'] = row['cruzamento_sup']\n",
    "    elif row['cruzamento_res'] == 2:\n",
    "        df_total.loc[index,'signal'] = row['cruzamento_res']\n",
    "\n",
    "#estrategia 1\n",
    "#df_total['acao'] = df_total['cruzamento'].apply(lambda x: 'call' if x == 1 else 'sell' if x == 2 else 0)\n",
    "\n",
    "#df_total['signal'] = df_total['cruzamento']\n",
    "\n",
    "lista = df_total['signal'].values\n",
    "tempo_lista =15\n",
    "for num, i in enumerate(lista):\n",
    "    #print(num,i)\n",
    "    if i != 0:\n",
    "        for i in range(tempo_lista):\n",
    "            try:\n",
    "                n_num = num + i + 1\n",
    "                lista[n_num] = 0\n",
    "            except:\n",
    "                pass\n",
    "\n",
    "pontos = 0.0008\n",
    "rate_tp = 1\n",
    "\n",
    "def SIGNAL():\n",
    "        return df_total.signal\n",
    "\n",
    "class MyCandlesStrat(Strategy):\n",
    "    def init(self):\n",
    "        super().init()\n",
    "        self.signal1 = self.I(SIGNAL)\n",
    "\n",
    "    def next(self):\n",
    "        super().next() \n",
    "        sl = pontos\n",
    "        tp = pontos * rate_tp\n",
    "        if self.signal1==1:\n",
    "            sl1 = self.data.Close[-1] - sl\n",
    "            tp1 = self.data.Close[-1] + tp\n",
    "            self.buy(sl=sl1, tp=tp1)\n",
    "        elif self.signal1==2:\n",
    "            sl1 = self.data.Close[-1] + sl\n",
    "            tp1 = self.data.Close[-1] - tp\n",
    "            self.sell(sl=sl1, tp=tp1)\n",
    "\n",
    "bt = Backtest(df_total, MyCandlesStrat, cash=100000000, commission=0,hedging=True)\n",
    "stats = bt.run()\n",
    "bt.plot()"
   ]
  },
  {
   "cell_type": "code",
   "execution_count": null,
   "metadata": {},
   "outputs": [],
   "source": [
    "df_trades = stats['_trades']\n",
    "#df_trades = df_trades.drop_duplicates('EntryTime')\n",
    "df_trades['Hora_h'] = df_trades['EntryTime'].apply(lambda x: x.hour)\n",
    "df_trades['resultado_binario'] = df_trades['ReturnPct'].apply(lambda x: 1 if x > 0 else 0)\n",
    "\n",
    "#print(f'Time_period: {time_period} -- var_bb: {var_bb} -- pontos: {pontos}--Rate_tp: {rate_tp}')\n",
    "df_new_hora = df_trades[['Hora_h','resultado_binario']]\n",
    "df_new_hora = df_trades.groupby(['Hora_h'],as_index=False).agg(qtd_operacoes=('resultado_binario', 'count'), taxa_acerto=('resultado_binario', 'mean'))\n",
    "\n",
    "#df_new_hora['pontos_liquido'] = df_new_hora.apply(calc_pontos, axis = 1)\n",
    "print(df_new_hora)"
   ]
  },
  {
   "cell_type": "code",
   "execution_count": null,
   "metadata": {},
   "outputs": [],
   "source": [
    "df_total[['Close','prox_linha','diff','sup','cruzamento_sup', 'signal']].iloc[0:50]"
   ]
  },
  {
   "cell_type": "code",
   "execution_count": null,
   "metadata": {},
   "outputs": [],
   "source": [
    "df_2[df_2['res'] == -3]"
   ]
  },
  {
   "cell_type": "code",
   "execution_count": null,
   "metadata": {},
   "outputs": [],
   "source": []
  }
 ],
 "metadata": {
  "kernelspec": {
   "display_name": "Python 3",
   "language": "python",
   "name": "python3"
  },
  "language_info": {
   "codemirror_mode": {
    "name": "ipython",
    "version": 3
   },
   "file_extension": ".py",
   "mimetype": "text/x-python",
   "name": "python",
   "nbconvert_exporter": "python",
   "pygments_lexer": "ipython3",
   "version": "3.10.4 (tags/v3.10.4:9d38120, Mar 23 2022, 23:13:41) [MSC v.1929 64 bit (AMD64)]"
  },
  "orig_nbformat": 4,
  "vscode": {
   "interpreter": {
    "hash": "3e680e901da43b1ff7896a65bb9fdc0d88fdcb475def19e54fa2d4ad7c5b5275"
   }
  }
 },
 "nbformat": 4,
 "nbformat_minor": 2
}
