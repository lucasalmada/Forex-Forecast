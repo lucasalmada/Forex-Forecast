{
 "cells": [
  {
   "cell_type": "code",
   "execution_count": 15,
   "metadata": {},
   "outputs": [],
   "source": [
    "import pandas as pd\n",
    "import talib as ta\n",
    "import matplotlib.pyplot as plt\n",
    "import warnings\n",
    "import lightgbm as lgb\n",
    "from workflow import main_indicators,Larry_completo_teste,Larry_completo\n",
    "from sklearn.model_selection import train_test_split\n",
    "import plotly.express as px\n",
    "from datetime import datetime\n",
    "warnings.filterwarnings(\"ignore\")"
   ]
  },
  {
   "cell_type": "code",
   "execution_count": 109,
   "metadata": {},
   "outputs": [],
   "source": [
    "ativo = 'wdo_1_full'\n",
    "colnames = ['Data','Open','High','Low','Close','Vol']\n",
    "df = pd.read_csv(f'./Dados/{ativo}.csv', names = colnames, skiprows=1)\n",
    "\n",
    "#df = df.iloc[:1000]"
   ]
  },
  {
   "cell_type": "code",
   "execution_count": 17,
   "metadata": {},
   "outputs": [],
   "source": [
    "ativo = 'EURUSD5'\n",
    "colnames = ['Data','Open','High','Low','Close','Vol']\n",
    "df = pd.read_csv(f'./Dados/{ativo}.csv', sep = '\\t', names = colnames)\n",
    "#df = df[df['Data'] > '2022-01-01']"
   ]
  },
  {
   "cell_type": "code",
   "execution_count": 18,
   "metadata": {},
   "outputs": [
    {
     "name": "stdout",
     "output_type": "stream",
     "text": [
      "Venda: 0.5201393728222996% -- Compra: 0.5223165388828039%\n",
      "Venda: 0.15046000000000548 -- Compra: 0.1284599999999858\n",
      "Agrupado por Mes\n",
      "     resultado_binario  resultado_valor\n",
      "Mes                                    \n",
      "01            0.505643         0.000002\n",
      "02            0.525872         0.000043\n",
      "03            0.528932         0.000058\n",
      "04            0.509091         0.000011\n",
      "05            0.516962         0.000022\n",
      "06            0.520058         0.000019\n",
      "07            0.514607         0.000016\n",
      "08            0.551675         0.000053\n",
      "09            0.523948         0.000016\n",
      "10            0.534328         0.000016\n",
      "11            0.510240        -0.000012\n",
      "12            0.500550        -0.000026\n",
      "     resultado_binario  resultado_valor\n",
      "Mes                                    \n",
      "01                 448          0.00146\n",
      "02                 437          0.03573\n",
      "03                 649          0.07151\n",
      "04                 672          0.01397\n",
      "05                 701          0.03026\n",
      "06                 713          0.02601\n",
      "07                 687          0.02108\n",
      "08                 774          0.07376\n",
      "09                 722          0.02156\n",
      "10                 716          0.02122\n",
      "11                 573         -0.01372\n",
      "12                 455         -0.02392\n",
      "\n",
      "---------------------------------------------------\n"
     ]
    }
   ],
   "source": [
    "df = main_indicators(df)\n",
    "\n",
    "df_acao = Larry_completo(df, tempo_fechar=-5, excluir_seguidos = True, acao = 'all', x_stop = 5)\n",
    "\n",
    "df_acao['Hora'] = df_acao['Data'].apply(lambda x: x[11:])\n",
    "df_acao['Hora_h'] = df_acao['Hora'].apply(lambda x: x[:2])\n",
    "\n",
    "#df_acao = df_acao[df_acao['tend'] == 0]\n",
    "\n",
    "compra = df_acao[df_acao['acao'] =='call']['resultado_binario'].sum()/df_acao[df_acao['acao'] =='call'].shape[0]\n",
    "venda = df_acao[df_acao['acao'] =='sell']['resultado_binario'].sum()/df_acao[df_acao['acao'] =='sell'].shape[0]\n",
    "\n",
    "compra_result = df_acao[df_acao['acao'] =='call']['resultado_valor'].sum()\n",
    "venda_result = df_acao[df_acao['acao'] =='sell']['resultado_valor'].sum()\n",
    "\n",
    "print(f'Venda: {venda}% -- Compra: {compra}%')\n",
    "print(f'Venda: {venda_result} -- Compra: {compra_result}')\n",
    "\n",
    "df_acao['Hora'] = df_acao['Data'].apply(lambda x: x[11:])\n",
    "df_acao['Hora_h'] = df_acao['Hora'].apply(lambda x: x[:2])\n",
    "df_acao['Mes'] = df_acao['Data'].apply(lambda x: x[5:7])\n",
    "\n",
    "#Retirar hora especifica\n",
    "#df_acao = df_acao[df_acao['Hora_h'] != '10']\n",
    "\n",
    "\n",
    "df_new_hora = df_acao[['Hora_h','resultado_binario','resultado_valor']]\n",
    "df_new_mes = df_acao[['Mes','resultado_binario','resultado_valor']]\n",
    "\n",
    "print('Agrupado por Mes')\n",
    "\n",
    "print(df_new_mes.groupby(['Mes']).mean())\n",
    "\n",
    "print(df_new_mes.groupby(['Mes']).sum())\n",
    "\n",
    "print('')\n",
    "print('---------------------------------------------------')"
   ]
  },
  {
   "cell_type": "code",
   "execution_count": 34,
   "metadata": {},
   "outputs": [],
   "source": [
    "df = df_acao.copy()\n",
    "#df = df[df['acao'] == 'sell']\n",
    "df['Hora_h'] = df['Hora_h'].apply(lambda x: int(x))\n",
    "\n",
    "df = df.drop(columns = ['MA_9_diff_value', 'MA_9_tend', 'MA_9_tend_diff', 'preco','stop', 'realizacao_simplista', 'stop_real', 'tend','Hora','Mes'])\n",
    "\n",
    "inicio = '2022-01-01'\n",
    "termino = '2022-01-01'\n",
    "\n",
    "df_train = df[(df['Data'] > '2020-01-01') & (df_acao['Data'] < inicio)]\n",
    "df_train = df_train.set_index(['Data','resultado_valor','acao'])\n",
    "\n",
    "df_test = df[(df['Data'] > inicio)]\n",
    "df_test = df_test.set_index(['Data','resultado_valor','acao'])\n",
    "\n",
    "y_train = df_train['resultado_binario']\n",
    "x_train = df_train.drop(columns=['resultado_binario'])\n",
    "\n",
    "y_test = df_test['resultado_binario']\n",
    "x_test = df_test.drop(columns=['resultado_binario'])"
   ]
  },
  {
   "cell_type": "code",
   "execution_count": 35,
   "metadata": {},
   "outputs": [],
   "source": [
    "from sklearn.ensemble import ExtraTreesClassifier\n",
    "from sklearn.linear_model import LogisticRegression\n",
    "from sklearn.model_selection import train_test_split\n",
    "import lightgbm as lgb"
   ]
  },
  {
   "cell_type": "code",
   "execution_count": 42,
   "metadata": {},
   "outputs": [
    {
     "name": "stdout",
     "output_type": "stream",
     "text": [
      "LightGBM Model accuracy score: 0.5136\n",
      "Training set score: 1.0000\n",
      "Test set score: 0.5136\n"
     ]
    }
   ],
   "source": [
    "clf = ExtraTreesClassifier()\n",
    "#clf = LogisticRegression()\n",
    "#clf = lgb.LGBMClassifier()\n",
    "clf.fit(x_train, y_train)\n",
    "\n",
    "# predict the results\n",
    "y_pred=clf.predict(x_test)\n",
    "y_proba = clf.predict_proba(x_test)[:,1]\n",
    "# view accuracy\n",
    "from sklearn.metrics import accuracy_score\n",
    "accuracy=accuracy_score(y_pred, y_test)\n",
    "print('LightGBM Model accuracy score: {0:0.4f}'.format(accuracy_score(y_test, y_pred)))\n",
    "\n",
    "print('Training set score: {:.4f}'.format(clf.score(x_train, y_train)))\n",
    "\n",
    "print('Test set score: {:.4f}'.format(clf.score(x_test, y_test)))"
   ]
  },
  {
   "cell_type": "code",
   "execution_count": 43,
   "metadata": {},
   "outputs": [
    {
     "data": {
      "text/html": [
       "<div>\n",
       "<style scoped>\n",
       "    .dataframe tbody tr th:only-of-type {\n",
       "        vertical-align: middle;\n",
       "    }\n",
       "\n",
       "    .dataframe tbody tr th {\n",
       "        vertical-align: top;\n",
       "    }\n",
       "\n",
       "    .dataframe thead th {\n",
       "        text-align: right;\n",
       "    }\n",
       "</style>\n",
       "<table border=\"1\" class=\"dataframe\">\n",
       "  <thead>\n",
       "    <tr style=\"text-align: right;\">\n",
       "      <th></th>\n",
       "      <th>thr</th>\n",
       "      <th>qtd_operacoes</th>\n",
       "      <th>acc</th>\n",
       "      <th>valor</th>\n",
       "    </tr>\n",
       "  </thead>\n",
       "  <tbody>\n",
       "    <tr>\n",
       "      <th>0</th>\n",
       "      <td>0.5</td>\n",
       "      <td>2656</td>\n",
       "      <td>0.526355</td>\n",
       "      <td>0.07655</td>\n",
       "    </tr>\n",
       "    <tr>\n",
       "      <th>1</th>\n",
       "      <td>0.6</td>\n",
       "      <td>600</td>\n",
       "      <td>0.508333</td>\n",
       "      <td>0.01974</td>\n",
       "    </tr>\n",
       "    <tr>\n",
       "      <th>2</th>\n",
       "      <td>0.7</td>\n",
       "      <td>33</td>\n",
       "      <td>0.545455</td>\n",
       "      <td>-0.00056</td>\n",
       "    </tr>\n",
       "    <tr>\n",
       "      <th>3</th>\n",
       "      <td>0.8</td>\n",
       "      <td>1</td>\n",
       "      <td>1.000000</td>\n",
       "      <td>0.00100</td>\n",
       "    </tr>\n",
       "  </tbody>\n",
       "</table>\n",
       "</div>"
      ],
      "text/plain": [
       "   thr  qtd_operacoes       acc    valor\n",
       "0  0.5           2656  0.526355  0.07655\n",
       "1  0.6            600  0.508333  0.01974\n",
       "2  0.7             33  0.545455 -0.00056\n",
       "3  0.8              1  1.000000  0.00100"
      ]
     },
     "execution_count": 43,
     "metadata": {},
     "output_type": "execute_result"
    }
   ],
   "source": [
    "df_thr = x_test.copy()\n",
    "df_thr = df_thr.reset_index()\n",
    "df_thr['pred'] = y_pred\n",
    "df_thr['proba'] = y_proba\n",
    "df_thr['resultado_binario'] = y_test.values\n",
    "\n",
    "lista_full = []\n",
    "for thr in [0.5,0.6,0.7,0.8]:\n",
    "\n",
    "    df_temp = df_thr[df_thr['proba'] > thr]\n",
    "\n",
    "    qtd_operacoes = df_temp.shape[0]\n",
    "\n",
    "    acc = df_temp[df_temp['resultado_binario'] ==1].shape[0]/qtd_operacoes\n",
    "\n",
    "    valor = df_temp['resultado_valor'].sum()\n",
    "\n",
    "    lista_full.append([thr,qtd_operacoes,acc,valor])\n",
    "\n",
    "df_a = pd.DataFrame(lista_full)\n",
    "df_a.columns = ['thr','qtd_operacoes','acc','valor']\n",
    "df_a"
   ]
  },
  {
   "cell_type": "code",
   "execution_count": 14,
   "metadata": {},
   "outputs": [
    {
     "name": "stdout",
     "output_type": "stream",
     "text": [
      "Venda: 0.5154921853578284% -- Compra: 0.5169991570665917%\n",
      "Venda: 0.02453999999999934 -- Compra: 0.03254000000000001\n",
      "Agrupado por Mes\n",
      "     resultado_binario  resultado_valor\n",
      "Mes                                    \n",
      "01            0.623529         0.000178\n",
      "02            0.475410         0.000072\n",
      "03            0.586207         0.000084\n",
      "04            0.506329         0.000046\n",
      "05            0.395349         0.000122\n",
      "06            0.442857        -0.000127\n",
      "07            0.750000        -0.000085\n",
      "08            0.551724         0.000177\n",
      "09            0.588235         0.000168\n",
      "10            0.666667         0.000387\n",
      "11            0.250000        -0.000313\n",
      "12            0.642857         0.000549\n",
      "     resultado_binario  resultado_valor\n",
      "Mes                                    \n",
      "01                  53          0.01509\n",
      "02                  29          0.00439\n",
      "03                  51          0.00732\n",
      "04                  40          0.00364\n",
      "05                  17          0.00526\n",
      "06                  31         -0.00889\n",
      "07                   6         -0.00068\n",
      "08                  16          0.00514\n",
      "09                  10          0.00286\n",
      "10                   2          0.00116\n",
      "11                   1         -0.00125\n",
      "12                  27          0.02304\n",
      "\n",
      "---------------------------------------------------\n"
     ]
    }
   ],
   "source": [
    "thr = 0.6\n",
    "novo = df_thr[df_thr['proba'] > thr]\n",
    "\n",
    "compra_result = novo[novo['acao'] =='call']['resultado_valor'].sum()\n",
    "venda_result = novo[novo['acao'] =='sell']['resultado_valor'].sum()\n",
    "\n",
    "print(f'Venda: {venda}% -- Compra: {compra}%')\n",
    "print(f'Venda: {venda_result} -- Compra: {compra_result}')\n",
    "\n",
    "novo['Hora'] = novo['Data'].apply(lambda x: x[11:])\n",
    "novo['Hora_h'] = novo['Hora'].apply(lambda x: x[:2])\n",
    "novo['Mes'] = novo['Data'].apply(lambda x: x[5:7])\n",
    "\n",
    "#Retirar hora especifica\n",
    "#df_acao = df_acao[df_acao['Hora_h'] != '10']\n",
    "\n",
    "\n",
    "df_new_hora = novo[['Hora_h','resultado_binario','resultado_valor']]\n",
    "df_new_mes = novo[['Mes','resultado_binario','resultado_valor']]\n",
    "\n",
    "print('Agrupado por Mes')\n",
    "\n",
    "print(df_new_mes.groupby(['Mes']).mean())\n",
    "\n",
    "print(df_new_mes.groupby(['Mes']).sum())\n",
    "\n",
    "print('')\n",
    "print('---------------------------------------------------')"
   ]
  },
  {
   "cell_type": "code",
   "execution_count": 21,
   "metadata": {},
   "outputs": [
    {
     "data": {
      "text/plain": [
       "array([0.02798949, 0.02760532, 0.02806069, 0.02815617, 0.04163741,\n",
       "       0.02886301, 0.02809464, 0.01860846, 0.0287792 , 0.02808466,\n",
       "       0.02842642, 0.03630936, 0.03642234, 0.03614883, 0.03585711,\n",
       "       0.03916325, 0.03858573, 0.03519122, 0.03777918, 0.03755228,\n",
       "       0.03724774, 0.03817417, 0.03899376, 0.03541305, 0.03684869,\n",
       "       0.03769752, 0.03493416, 0.03487815, 0.02848586, 0.03001213])"
      ]
     },
     "execution_count": 21,
     "metadata": {},
     "output_type": "execute_result"
    }
   ],
   "source": [
    "clf.feature_importances_"
   ]
  },
  {
   "cell_type": "code",
   "execution_count": 22,
   "metadata": {},
   "outputs": [
    {
     "data": {
      "text/plain": [
       "array(['Open', 'High', 'Low', 'Close', 'Vol', 'MA_5', 'MA_21', 'SAR',\n",
       "       'BB_up', 'BB_mid', 'BB_low', 'OBV', 'macd', 'macdsignal',\n",
       "       'macdhist', 'fastk', 'fastd', 'RSI', 'MOM', 'TRIX', 'CCI', 'ADX',\n",
       "       'dist_bb', 'dist_media', 'dist_media_abs', 'dist_price_media',\n",
       "       'dist_RSI_70', 'dist_RSI_30', 'MA_9', 'MA_100'], dtype=object)"
      ]
     },
     "execution_count": 22,
     "metadata": {},
     "output_type": "execute_result"
    }
   ],
   "source": [
    "clf.feature_names_in_"
   ]
  },
  {
   "cell_type": "code",
   "execution_count": null,
   "metadata": {},
   "outputs": [],
   "source": []
  }
 ],
 "metadata": {
  "kernelspec": {
   "display_name": "Python 3",
   "language": "python",
   "name": "python3"
  },
  "language_info": {
   "codemirror_mode": {
    "name": "ipython",
    "version": 3
   },
   "file_extension": ".py",
   "mimetype": "text/x-python",
   "name": "python",
   "nbconvert_exporter": "python",
   "pygments_lexer": "ipython3",
   "version": "3.10.4 (tags/v3.10.4:9d38120, Mar 23 2022, 23:13:41) [MSC v.1929 64 bit (AMD64)]"
  },
  "orig_nbformat": 4,
  "vscode": {
   "interpreter": {
    "hash": "3e680e901da43b1ff7896a65bb9fdc0d88fdcb475def19e54fa2d4ad7c5b5275"
   }
  }
 },
 "nbformat": 4,
 "nbformat_minor": 2
}
