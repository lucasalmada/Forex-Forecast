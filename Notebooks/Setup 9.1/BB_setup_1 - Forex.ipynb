{
 "cells": [
  {
   "cell_type": "code",
   "execution_count": null,
   "metadata": {},
   "outputs": [],
   "source": [
    "import pandas as pd\n",
    "#import MetaTrader5 as mt5\n",
    "import talib as ta\n",
    "from bb_setup_1 import setup\n",
    "import warnings\n",
    "warnings.filterwarnings(\"ignore\")"
   ]
  },
  {
   "cell_type": "code",
   "execution_count": null,
   "metadata": {},
   "outputs": [],
   "source": [
    "pontos = 3\n",
    "rate_stop = 1\n",
    "rate_tp = 2\n",
    "spread = 0.00005\n",
    "\n",
    "df_total = None\n",
    "\n",
    "for timeframe in [5,15]:\n",
    "    for var_bb in [2.5,3]:\n",
    "        for pontos in [0.0050, 0.0070,0.0100]:\n",
    "            for rate_tp in [1.5,2,2.5,3,5]:\n",
    "                \n",
    "                ativo = f'GBPUSD{timeframe}'\n",
    "                colnames = ['Data','Open','High','Low','Close','Vol']\n",
    "                df = pd.read_csv(f'./Dados/{ativo}.csv', names = colnames, sep = '\\t')\n",
    "                df = df[df['Data'] > '2022-06-01']\n",
    "\n",
    "                df_acao = setup(df,var_bb = var_bb,time_period = 20,pontos = pontos,rate_stop = 1,rate_tp = rate_tp)\n",
    "\n",
    "                qtd_operacoes = df_acao.shape[0]\n",
    "                taxa_acerto = df_acao['resultado_binario'].sum()/qtd_operacoes\n",
    "                operacoes_certas = qtd_operacoes * taxa_acerto\n",
    "                operacoes_erradas = qtd_operacoes - operacoes_certas\n",
    "                pontos_bruto =  (operacoes_certas * rate_tp - operacoes_erradas * rate_stop) * pontos\n",
    "\n",
    "                pontos_liquido = pontos_bruto - spread * qtd_operacoes\n",
    "\n",
    "\n",
    "                df_new = pd.DataFrame([[ativo,var_bb,rate_tp,rate_stop,pontos,qtd_operacoes,taxa_acerto,pontos_bruto,pontos_liquido]],\n",
    "                            columns = ['ativo','var_bb','rate_tp','rate_stop','pontos','qtd_operacoes','taxa_acerto','pontos_bruto','pontos_liquido'])\n",
    "\n",
    "                df_total = pd.concat([df_total,df_new])\n",
    "\n",
    "                print(df_total.to_string())"
   ]
  },
  {
   "cell_type": "code",
   "execution_count": null,
   "metadata": {},
   "outputs": [],
   "source": [
    "#df_total.to_csv('result_bb_setup_1_eurusd.csv')\n",
    "df_total = pd.read_csv('result_bb_setup_1_eurusd.csv')"
   ]
  },
  {
   "cell_type": "code",
   "execution_count": null,
   "metadata": {},
   "outputs": [],
   "source": [
    "df_1 = df_total[df_total['ativo'] == 'EURUSD1']\n",
    "df_5 = df_total[df_total['ativo'] == 'EURUSD5']\n",
    "df_15 = df_total[df_total['ativo'] == 'EURUSD15']"
   ]
  },
  {
   "cell_type": "code",
   "execution_count": null,
   "metadata": {},
   "outputs": [],
   "source": [
    "df_1.sort_values(by = 'pontos_liquido', ascending = False).head(10)"
   ]
  },
  {
   "cell_type": "code",
   "execution_count": null,
   "metadata": {},
   "outputs": [],
   "source": [
    "df_5.sort_values(by = 'pontos_liquido', ascending = False).head(20)"
   ]
  },
  {
   "cell_type": "code",
   "execution_count": null,
   "metadata": {},
   "outputs": [],
   "source": [
    "df_15.sort_values(by = 'pontos_liquido', ascending = False).head(50)"
   ]
  },
  {
   "cell_type": "code",
   "execution_count": null,
   "metadata": {},
   "outputs": [],
   "source": [
    "df_15.loc[[85]]"
   ]
  },
  {
   "cell_type": "code",
   "execution_count": null,
   "metadata": {},
   "outputs": [],
   "source": [
    "timeframe = 15\n",
    "for index,row in df_15.sort_values(by = 'pontos_liquido', ascending = False).loc[[115]].iterrows():\n",
    "\n",
    "    pontos = row['pontos']\n",
    "    rate_tp = row['rate_tp']\n",
    "    var_bb = row['var_bb']\n",
    "\n",
    "    ativo = f'EURUSD{timeframe}'\n",
    "    colnames = ['Data','Open','High','Low','Close','Vol']\n",
    "    df = pd.read_csv(f'./Dados/{ativo}.csv', names = colnames, sep='\\t')\n",
    "    #df = pd.read_csv(f'./Dados/{ativo}.csv', names = colnames, skiprows=1)\n",
    "    df = df[df['Data'] > '2022-01-01']\n",
    "\n",
    "    df_acao = setup(df,var_bb = var_bb,time_period = 20,pontos = pontos,rate_stop = 1,rate_tp = rate_tp)\n",
    "\n",
    "    qtd_operacoes = df_acao.shape[0]\n",
    "    taxa_acerto = df_acao['resultado_binario'].sum()/qtd_operacoes\n",
    "    operacoes_certas = qtd_operacoes * taxa_acerto\n",
    "    operacoes_erradas = qtd_operacoes - operacoes_certas\n",
    "    pontos_bruto =  (operacoes_certas * rate_tp - operacoes_erradas * rate_stop) * pontos\n",
    "\n",
    "    pontos_liquido = pontos_bruto - spread * qtd_operacoes\n",
    "\n",
    "\n",
    "    print(f'Timeframe: {timeframe} --pontos: {pontos} --- rate_tp: {rate_tp} -- var_bb: {var_bb}')\n",
    "\n",
    "    print(f'Pontos_liquido: {pontos_liquido} -- Total_operacoes: {qtd_operacoes}')\n",
    "\n",
    "    df_acao['Hora'] = df_acao['Data'].apply(lambda x: x[11:])\n",
    "    df_acao['Hora_h'] = df_acao['Hora'].apply(lambda x: x[:2])\n",
    "    df_acao['Mes'] = df_acao['Data'].apply(lambda x: x[5:7])\n",
    "\n",
    "    df_new_mes = df_acao[['Mes','resultado_binario']]\n",
    "    df_new_hora = df_acao[['Hora_h','resultado_binario']]\n",
    "\n",
    "    def calc_pontos(x):\n",
    "        qtd_operacoes = x['qtd_operacoes']\n",
    "        taxa_acerto = x['taxa_acerto']\n",
    "        operacoes_certas = qtd_operacoes * taxa_acerto\n",
    "        operacoes_erradas = qtd_operacoes - operacoes_certas\n",
    "        pontos_bruto =  (operacoes_certas * rate_tp - operacoes_erradas * rate_stop) * pontos\n",
    "\n",
    "        pontos_liquido = pontos_bruto - spread * qtd_operacoes\n",
    "\n",
    "        return pontos_liquido\n",
    "\n",
    "    print('Agrupado por Hora')\n",
    "    df_new_hora = df_new_hora.groupby(['Hora_h'],as_index=False).agg(qtd_operacoes=('resultado_binario', 'count'), taxa_acerto=('resultado_binario', 'mean'))\n",
    "\n",
    "    df_new_hora['pontos_liquido'] = df_new_hora.apply(calc_pontos, axis = 1)\n",
    "    print(df_new_hora.to_string())\n",
    "\n",
    "    print('Agrupado por Mes')\n",
    "    df_new_mes = df_new_mes.groupby(['Mes'],as_index=False).agg(qtd_operacoes=('resultado_binario', 'count'), taxa_acerto=('resultado_binario', 'mean'))\n",
    "\n",
    "    df_new_mes['pontos_liquido'] = df_new_mes.apply(calc_pontos, axis = 1)\n",
    "    print(df_new_mes.to_string())\n",
    "    print('')\n"
   ]
  },
  {
   "cell_type": "code",
   "execution_count": null,
   "metadata": {},
   "outputs": [],
   "source": [
    "ativo = f'EURUSD{15}_new'\n",
    "colnames = ['Data','Open','High','Low','Close','Vol']\n",
    "#df = pd.read_csv(f'./Dados/{ativo}.csv', names = colnames, sep='\\t')\n",
    "df = pd.read_csv(f'./Dados/{ativo}.csv', names = colnames, skiprows=1)\n",
    "df = df[df['Data'] > '2022-01-01']\n",
    "\n",
    "var_bb = 2\n",
    "rate_tp = 1.5\n",
    "pontos = 0.0003\n",
    "\n",
    "df_acao = setup(df,var_bb = var_bb,time_period = 20,pontos = pontos,rate_stop = 1,rate_tp = rate_tp)"
   ]
  },
  {
   "cell_type": "code",
   "execution_count": null,
   "metadata": {},
   "outputs": [],
   "source": [
    "df_acao[['Data','acao','stop','tp','resultado_binario']].tail(20)"
   ]
  },
  {
   "cell_type": "code",
   "execution_count": null,
   "metadata": {},
   "outputs": [],
   "source": [
    "df_acao['resultado_binario'].sum()/df_acao.shape[0]"
   ]
  },
  {
   "cell_type": "code",
   "execution_count": null,
   "metadata": {},
   "outputs": [],
   "source": []
  }
 ],
 "metadata": {
  "kernelspec": {
   "display_name": "Python 3",
   "language": "python",
   "name": "python3"
  },
  "language_info": {
   "codemirror_mode": {
    "name": "ipython",
    "version": 3
   },
   "file_extension": ".py",
   "mimetype": "text/x-python",
   "name": "python",
   "nbconvert_exporter": "python",
   "pygments_lexer": "ipython3",
   "version": "3.10.4 (tags/v3.10.4:9d38120, Mar 23 2022, 23:13:41) [MSC v.1929 64 bit (AMD64)]"
  },
  "orig_nbformat": 4,
  "vscode": {
   "interpreter": {
    "hash": "3e680e901da43b1ff7896a65bb9fdc0d88fdcb475def19e54fa2d4ad7c5b5275"
   }
  }
 },
 "nbformat": 4,
 "nbformat_minor": 2
}
