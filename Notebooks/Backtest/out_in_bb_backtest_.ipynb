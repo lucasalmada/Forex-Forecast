{
 "cells": [
  {
   "cell_type": "code",
   "execution_count": 30,
   "metadata": {},
   "outputs": [],
   "source": [
    "import pandas as pd\n",
    "import MetaTrader5 as mt5\n",
    "import talib as ta\n",
    "from datetime import datetime,timedelta\n",
    "from out_in_bb_backtest import setup_tsl,setup_stop_tp,setup_estr_2\n",
    "import numpy as np\n",
    "from backtesting import Strategy, Backtest\n",
    "import warnings\n",
    "warnings.filterwarnings(\"ignore\")\n",
    "\n",
    "if not mt5.initialize():\n",
    "    print(\"initialize() failed\")\n",
    "    mt5.shutdown()\n",
    "\n",
    "#ativo = 'EURUSD'\n",
    "ativo = 'WDO@N'\n",
    "df = pd.DataFrame(mt5.copy_rates_from_pos(ativo, mt5.TIMEFRAME_M1, 0, 40000))\n",
    "df['Data'] = pd.to_datetime(df['time'], unit='s').apply(lambda x: str(x))\n",
    "df = df[['Data','open','high','low','close','real_volume']]\n",
    "df.columns = ['Data','Open','High','Low','Close','Vol']\n",
    "df_puro = df.rename(columns = {'real_volume':'vol'})\n",
    "df2 = df_puro.copy()"
   ]
  },
  {
   "cell_type": "code",
   "execution_count": 31,
   "metadata": {},
   "outputs": [
    {
     "data": {
      "text/html": [
       "<div>\n",
       "<style scoped>\n",
       "    .dataframe tbody tr th:only-of-type {\n",
       "        vertical-align: middle;\n",
       "    }\n",
       "\n",
       "    .dataframe tbody tr th {\n",
       "        vertical-align: top;\n",
       "    }\n",
       "\n",
       "    .dataframe thead th {\n",
       "        text-align: right;\n",
       "    }\n",
       "</style>\n",
       "<table border=\"1\" class=\"dataframe\">\n",
       "  <thead>\n",
       "    <tr style=\"text-align: right;\">\n",
       "      <th></th>\n",
       "      <th>Data</th>\n",
       "      <th>Open</th>\n",
       "      <th>High</th>\n",
       "      <th>Low</th>\n",
       "      <th>Close</th>\n",
       "      <th>Vol</th>\n",
       "    </tr>\n",
       "  </thead>\n",
       "  <tbody>\n",
       "    <tr>\n",
       "      <th>0</th>\n",
       "      <td>2022-10-10 09:39:00</td>\n",
       "      <td>5210.0</td>\n",
       "      <td>5212.0</td>\n",
       "      <td>5209.5</td>\n",
       "      <td>5211.5</td>\n",
       "      <td>4187</td>\n",
       "    </tr>\n",
       "    <tr>\n",
       "      <th>1</th>\n",
       "      <td>2022-10-10 09:40:00</td>\n",
       "      <td>5211.0</td>\n",
       "      <td>5214.5</td>\n",
       "      <td>5211.0</td>\n",
       "      <td>5211.5</td>\n",
       "      <td>7115</td>\n",
       "    </tr>\n",
       "    <tr>\n",
       "      <th>2</th>\n",
       "      <td>2022-10-10 09:41:00</td>\n",
       "      <td>5211.5</td>\n",
       "      <td>5212.5</td>\n",
       "      <td>5210.0</td>\n",
       "      <td>5210.0</td>\n",
       "      <td>5252</td>\n",
       "    </tr>\n",
       "    <tr>\n",
       "      <th>3</th>\n",
       "      <td>2022-10-10 09:42:00</td>\n",
       "      <td>5210.0</td>\n",
       "      <td>5211.0</td>\n",
       "      <td>5209.0</td>\n",
       "      <td>5210.0</td>\n",
       "      <td>7384</td>\n",
       "    </tr>\n",
       "    <tr>\n",
       "      <th>4</th>\n",
       "      <td>2022-10-10 09:43:00</td>\n",
       "      <td>5210.0</td>\n",
       "      <td>5210.0</td>\n",
       "      <td>5202.0</td>\n",
       "      <td>5204.5</td>\n",
       "      <td>30656</td>\n",
       "    </tr>\n",
       "    <tr>\n",
       "      <th>...</th>\n",
       "      <td>...</td>\n",
       "      <td>...</td>\n",
       "      <td>...</td>\n",
       "      <td>...</td>\n",
       "      <td>...</td>\n",
       "      <td>...</td>\n",
       "    </tr>\n",
       "    <tr>\n",
       "      <th>39995</th>\n",
       "      <td>2023-01-23 10:54:00</td>\n",
       "      <td>5218.0</td>\n",
       "      <td>5219.5</td>\n",
       "      <td>5216.0</td>\n",
       "      <td>5216.0</td>\n",
       "      <td>8434</td>\n",
       "    </tr>\n",
       "    <tr>\n",
       "      <th>39996</th>\n",
       "      <td>2023-01-23 10:55:00</td>\n",
       "      <td>5216.0</td>\n",
       "      <td>5217.0</td>\n",
       "      <td>5213.0</td>\n",
       "      <td>5213.0</td>\n",
       "      <td>6174</td>\n",
       "    </tr>\n",
       "    <tr>\n",
       "      <th>39997</th>\n",
       "      <td>2023-01-23 10:56:00</td>\n",
       "      <td>5213.0</td>\n",
       "      <td>5216.5</td>\n",
       "      <td>5213.0</td>\n",
       "      <td>5213.0</td>\n",
       "      <td>6439</td>\n",
       "    </tr>\n",
       "    <tr>\n",
       "      <th>39998</th>\n",
       "      <td>2023-01-23 10:57:00</td>\n",
       "      <td>5213.0</td>\n",
       "      <td>5214.0</td>\n",
       "      <td>5210.0</td>\n",
       "      <td>5212.0</td>\n",
       "      <td>12701</td>\n",
       "    </tr>\n",
       "    <tr>\n",
       "      <th>39999</th>\n",
       "      <td>2023-01-23 10:58:00</td>\n",
       "      <td>5211.5</td>\n",
       "      <td>5212.5</td>\n",
       "      <td>5210.5</td>\n",
       "      <td>5211.5</td>\n",
       "      <td>4697</td>\n",
       "    </tr>\n",
       "  </tbody>\n",
       "</table>\n",
       "<p>40000 rows × 6 columns</p>\n",
       "</div>"
      ],
      "text/plain": [
       "                      Data    Open    High     Low   Close    Vol\n",
       "0      2022-10-10 09:39:00  5210.0  5212.0  5209.5  5211.5   4187\n",
       "1      2022-10-10 09:40:00  5211.0  5214.5  5211.0  5211.5   7115\n",
       "2      2022-10-10 09:41:00  5211.5  5212.5  5210.0  5210.0   5252\n",
       "3      2022-10-10 09:42:00  5210.0  5211.0  5209.0  5210.0   7384\n",
       "4      2022-10-10 09:43:00  5210.0  5210.0  5202.0  5204.5  30656\n",
       "...                    ...     ...     ...     ...     ...    ...\n",
       "39995  2023-01-23 10:54:00  5218.0  5219.5  5216.0  5216.0   8434\n",
       "39996  2023-01-23 10:55:00  5216.0  5217.0  5213.0  5213.0   6174\n",
       "39997  2023-01-23 10:56:00  5213.0  5216.5  5213.0  5213.0   6439\n",
       "39998  2023-01-23 10:57:00  5213.0  5214.0  5210.0  5212.0  12701\n",
       "39999  2023-01-23 10:58:00  5211.5  5212.5  5210.5  5211.5   4697\n",
       "\n",
       "[40000 rows x 6 columns]"
      ]
     },
     "execution_count": 31,
     "metadata": {},
     "output_type": "execute_result"
    }
   ],
   "source": [
    "df2"
   ]
  },
  {
   "cell_type": "code",
   "execution_count": 34,
   "metadata": {},
   "outputs": [
    {
     "name": "stdout",
     "output_type": "stream",
     "text": [
      "Time_period: 14 -- var_bb: 1.8 -- pontos: 10--Rate_tp: 1\n",
      "   Hora_h  qtd_operacoes  taxa_acerto\n",
      "0       9              1     1.000000\n",
      "1      10              9     0.555556\n",
      "2      11              6     0.833333\n",
      "3      12              3     0.666667\n",
      "4      13              3     1.000000\n",
      "5      14              6     0.833333\n",
      "6      15              4     0.500000\n",
      "7      16              2     0.500000\n",
      "8      17              4     0.750000\n",
      "9      18              2     0.000000\n"
     ]
    }
   ],
   "source": [
    "time_period = 14\n",
    "var_bb = 1.8\n",
    "pontos = 10\n",
    "rate_stop = 1\n",
    "rate_tp = 1\n",
    "spread = 0.5\n",
    "timeframe = 5\n",
    "\n",
    "df=df_puro.copy()\n",
    "bt = setup_estr_2(df,timeperiod=time_period,var_bb=var_bb,pontos = pontos,rate_tp = rate_tp,EMA=False)\n",
    "#bt = setup_tsl(df,timeperiod=time_period,var_bb=var_bb,pontos = pontos,rate_tp = rate_tp,EMA=False)\n",
    "\n",
    "stats = bt.run()\n",
    "#bt.plot()\n",
    "\n",
    "df_trades = stats['_trades']\n",
    "#df_trades = df_trades.drop_duplicates('EntryTime')\n",
    "df_trades['Hora_h'] = df_trades['EntryTime'].apply(lambda x: x.hour)\n",
    "df_trades['resultado_binario'] = df_trades['ReturnPct'].apply(lambda x: 1 if x > 0 else 0)\n",
    "\n",
    "print(f'Time_period: {time_period} -- var_bb: {var_bb} -- pontos: {pontos}--Rate_tp: {rate_tp}')\n",
    "df_new_hora = df_trades[['Hora_h','resultado_binario']]\n",
    "df_new_hora = df_trades.groupby(['Hora_h'],as_index=False).agg(qtd_operacoes=('resultado_binario', 'count'), taxa_acerto=('resultado_binario', 'mean'))\n",
    "\n",
    "#df_new_hora['pontos_liquido'] = df_new_hora.apply(calc_pontos, axis = 1)\n",
    "print(df_new_hora)"
   ]
  },
  {
   "cell_type": "code",
   "execution_count": 35,
   "metadata": {},
   "outputs": [
    {
     "data": {
      "text/plain": [
       "40"
      ]
     },
     "execution_count": 35,
     "metadata": {},
     "output_type": "execute_result"
    }
   ],
   "source": [
    "df_new_hora['qtd_operacoes'].sum()"
   ]
  },
  {
   "cell_type": "code",
   "execution_count": 29,
   "metadata": {},
   "outputs": [
    {
     "ename": "FileNotFoundError",
     "evalue": "[Errno 2] No such file or directory: 'resultado_win_1M_ema_True_stop_tp.xlsx'",
     "output_type": "error",
     "traceback": [
      "\u001b[1;31m---------------------------------------------------------------------------\u001b[0m",
      "\u001b[1;31mFileNotFoundError\u001b[0m                         Traceback (most recent call last)",
      "\u001b[1;32mc:\\Users\\Usuário\\Documents\\Github\\Forex-Forecast\\Notebooks\\Backtest\\out_in_bb_backtest_.ipynb Cell 4\u001b[0m in \u001b[0;36m<cell line: 1>\u001b[1;34m()\u001b[0m\n\u001b[1;32m----> <a href='vscode-notebook-cell:/c%3A/Users/Usu%C3%A1rio/Documents/Github/Forex-Forecast/Notebooks/Backtest/out_in_bb_backtest_.ipynb#W2sZmlsZQ%3D%3D?line=0'>1</a>\u001b[0m result \u001b[39m=\u001b[39m pd\u001b[39m.\u001b[39;49mread_excel(\u001b[39m'\u001b[39;49m\u001b[39mresultado_win_1M_ema_True_stop_tp.xlsx\u001b[39;49m\u001b[39m'\u001b[39;49m)\n\u001b[0;32m      <a href='vscode-notebook-cell:/c%3A/Users/Usu%C3%A1rio/Documents/Github/Forex-Forecast/Notebooks/Backtest/out_in_bb_backtest_.ipynb#W2sZmlsZQ%3D%3D?line=1'>2</a>\u001b[0m result\u001b[39m.\u001b[39msort_values(by \u001b[39m=\u001b[39m \u001b[39m'\u001b[39m\u001b[39mTaxa_acerto\u001b[39m\u001b[39m'\u001b[39m, ascending\u001b[39m=\u001b[39m\u001b[39mFalse\u001b[39;00m)\u001b[39m.\u001b[39miloc[\u001b[39m0\u001b[39m:\u001b[39m30\u001b[39m]\n",
      "File \u001b[1;32mc:\\Users\\Usuário\\AppData\\Local\\Programs\\Python\\Python310\\lib\\site-packages\\pandas\\util\\_decorators.py:311\u001b[0m, in \u001b[0;36mdeprecate_nonkeyword_arguments.<locals>.decorate.<locals>.wrapper\u001b[1;34m(*args, **kwargs)\u001b[0m\n\u001b[0;32m    305\u001b[0m \u001b[39mif\u001b[39;00m \u001b[39mlen\u001b[39m(args) \u001b[39m>\u001b[39m num_allow_args:\n\u001b[0;32m    306\u001b[0m     warnings\u001b[39m.\u001b[39mwarn(\n\u001b[0;32m    307\u001b[0m         msg\u001b[39m.\u001b[39mformat(arguments\u001b[39m=\u001b[39marguments),\n\u001b[0;32m    308\u001b[0m         \u001b[39mFutureWarning\u001b[39;00m,\n\u001b[0;32m    309\u001b[0m         stacklevel\u001b[39m=\u001b[39mstacklevel,\n\u001b[0;32m    310\u001b[0m     )\n\u001b[1;32m--> 311\u001b[0m \u001b[39mreturn\u001b[39;00m func(\u001b[39m*\u001b[39margs, \u001b[39m*\u001b[39m\u001b[39m*\u001b[39mkwargs)\n",
      "File \u001b[1;32mc:\\Users\\Usuário\\AppData\\Local\\Programs\\Python\\Python310\\lib\\site-packages\\pandas\\io\\excel\\_base.py:457\u001b[0m, in \u001b[0;36mread_excel\u001b[1;34m(io, sheet_name, header, names, index_col, usecols, squeeze, dtype, engine, converters, true_values, false_values, skiprows, nrows, na_values, keep_default_na, na_filter, verbose, parse_dates, date_parser, thousands, decimal, comment, skipfooter, convert_float, mangle_dupe_cols, storage_options)\u001b[0m\n\u001b[0;32m    455\u001b[0m \u001b[39mif\u001b[39;00m \u001b[39mnot\u001b[39;00m \u001b[39misinstance\u001b[39m(io, ExcelFile):\n\u001b[0;32m    456\u001b[0m     should_close \u001b[39m=\u001b[39m \u001b[39mTrue\u001b[39;00m\n\u001b[1;32m--> 457\u001b[0m     io \u001b[39m=\u001b[39m ExcelFile(io, storage_options\u001b[39m=\u001b[39;49mstorage_options, engine\u001b[39m=\u001b[39;49mengine)\n\u001b[0;32m    458\u001b[0m \u001b[39melif\u001b[39;00m engine \u001b[39mand\u001b[39;00m engine \u001b[39m!=\u001b[39m io\u001b[39m.\u001b[39mengine:\n\u001b[0;32m    459\u001b[0m     \u001b[39mraise\u001b[39;00m \u001b[39mValueError\u001b[39;00m(\n\u001b[0;32m    460\u001b[0m         \u001b[39m\"\u001b[39m\u001b[39mEngine should not be specified when passing \u001b[39m\u001b[39m\"\u001b[39m\n\u001b[0;32m    461\u001b[0m         \u001b[39m\"\u001b[39m\u001b[39man ExcelFile - ExcelFile already has the engine set\u001b[39m\u001b[39m\"\u001b[39m\n\u001b[0;32m    462\u001b[0m     )\n",
      "File \u001b[1;32mc:\\Users\\Usuário\\AppData\\Local\\Programs\\Python\\Python310\\lib\\site-packages\\pandas\\io\\excel\\_base.py:1376\u001b[0m, in \u001b[0;36mExcelFile.__init__\u001b[1;34m(self, path_or_buffer, engine, storage_options)\u001b[0m\n\u001b[0;32m   1374\u001b[0m     ext \u001b[39m=\u001b[39m \u001b[39m\"\u001b[39m\u001b[39mxls\u001b[39m\u001b[39m\"\u001b[39m\n\u001b[0;32m   1375\u001b[0m \u001b[39melse\u001b[39;00m:\n\u001b[1;32m-> 1376\u001b[0m     ext \u001b[39m=\u001b[39m inspect_excel_format(\n\u001b[0;32m   1377\u001b[0m         content_or_path\u001b[39m=\u001b[39;49mpath_or_buffer, storage_options\u001b[39m=\u001b[39;49mstorage_options\n\u001b[0;32m   1378\u001b[0m     )\n\u001b[0;32m   1379\u001b[0m     \u001b[39mif\u001b[39;00m ext \u001b[39mis\u001b[39;00m \u001b[39mNone\u001b[39;00m:\n\u001b[0;32m   1380\u001b[0m         \u001b[39mraise\u001b[39;00m \u001b[39mValueError\u001b[39;00m(\n\u001b[0;32m   1381\u001b[0m             \u001b[39m\"\u001b[39m\u001b[39mExcel file format cannot be determined, you must specify \u001b[39m\u001b[39m\"\u001b[39m\n\u001b[0;32m   1382\u001b[0m             \u001b[39m\"\u001b[39m\u001b[39man engine manually.\u001b[39m\u001b[39m\"\u001b[39m\n\u001b[0;32m   1383\u001b[0m         )\n",
      "File \u001b[1;32mc:\\Users\\Usuário\\AppData\\Local\\Programs\\Python\\Python310\\lib\\site-packages\\pandas\\io\\excel\\_base.py:1250\u001b[0m, in \u001b[0;36minspect_excel_format\u001b[1;34m(content_or_path, storage_options)\u001b[0m\n\u001b[0;32m   1247\u001b[0m \u001b[39mif\u001b[39;00m \u001b[39misinstance\u001b[39m(content_or_path, \u001b[39mbytes\u001b[39m):\n\u001b[0;32m   1248\u001b[0m     content_or_path \u001b[39m=\u001b[39m BytesIO(content_or_path)\n\u001b[1;32m-> 1250\u001b[0m \u001b[39mwith\u001b[39;00m get_handle(\n\u001b[0;32m   1251\u001b[0m     content_or_path, \u001b[39m\"\u001b[39;49m\u001b[39mrb\u001b[39;49m\u001b[39m\"\u001b[39;49m, storage_options\u001b[39m=\u001b[39;49mstorage_options, is_text\u001b[39m=\u001b[39;49m\u001b[39mFalse\u001b[39;49;00m\n\u001b[0;32m   1252\u001b[0m ) \u001b[39mas\u001b[39;00m handle:\n\u001b[0;32m   1253\u001b[0m     stream \u001b[39m=\u001b[39m handle\u001b[39m.\u001b[39mhandle\n\u001b[0;32m   1254\u001b[0m     stream\u001b[39m.\u001b[39mseek(\u001b[39m0\u001b[39m)\n",
      "File \u001b[1;32mc:\\Users\\Usuário\\AppData\\Local\\Programs\\Python\\Python310\\lib\\site-packages\\pandas\\io\\common.py:798\u001b[0m, in \u001b[0;36mget_handle\u001b[1;34m(path_or_buf, mode, encoding, compression, memory_map, is_text, errors, storage_options)\u001b[0m\n\u001b[0;32m    789\u001b[0m         handle \u001b[39m=\u001b[39m \u001b[39mopen\u001b[39m(\n\u001b[0;32m    790\u001b[0m             handle,\n\u001b[0;32m    791\u001b[0m             ioargs\u001b[39m.\u001b[39mmode,\n\u001b[1;32m   (...)\u001b[0m\n\u001b[0;32m    794\u001b[0m             newline\u001b[39m=\u001b[39m\u001b[39m\"\u001b[39m\u001b[39m\"\u001b[39m,\n\u001b[0;32m    795\u001b[0m         )\n\u001b[0;32m    796\u001b[0m     \u001b[39melse\u001b[39;00m:\n\u001b[0;32m    797\u001b[0m         \u001b[39m# Binary mode\u001b[39;00m\n\u001b[1;32m--> 798\u001b[0m         handle \u001b[39m=\u001b[39m \u001b[39mopen\u001b[39;49m(handle, ioargs\u001b[39m.\u001b[39;49mmode)\n\u001b[0;32m    799\u001b[0m     handles\u001b[39m.\u001b[39mappend(handle)\n\u001b[0;32m    801\u001b[0m \u001b[39m# Convert BytesIO or file objects passed with an encoding\u001b[39;00m\n",
      "\u001b[1;31mFileNotFoundError\u001b[0m: [Errno 2] No such file or directory: 'resultado_win_1M_ema_True_stop_tp.xlsx'"
     ]
    }
   ],
   "source": [
    "result = pd.read_excel('resultado_win_1M_ema_True_stop_tp.xlsx')\n",
    "result.sort_values(by = 'Taxa_acerto', ascending=False).iloc[0:30]"
   ]
  },
  {
   "cell_type": "code",
   "execution_count": 24,
   "metadata": {},
   "outputs": [
    {
     "name": "stdout",
     "output_type": "stream",
     "text": [
      "Time_period: 30.0 -- var_bb: 2.2 -- pontos: 150.0--Rate_tp: 1.0-- Retorno: 2.32 -- Pontos_total: 2999.9944\n",
      "   Hora_h  qtd_operacoes  taxa_acerto\n",
      "0       9             30     0.700000\n",
      "1      10             47     0.531915\n",
      "2      11             39     0.435897\n",
      "3      12             33     0.515152\n",
      "4      13             39     0.512821\n",
      "5      14             39     0.589744\n",
      "6      15             30     0.566667\n",
      "7      16             34     0.647059\n",
      "8      17             32     0.406250\n",
      "9      18              4     0.500000\n",
      "Time_period: 20.0 -- var_bb: 2.2 -- pontos: 200.0--Rate_tp: 1.0-- Retorno: 4.62 -- Pontos_total: 3599.9912\n",
      "   Hora_h  qtd_operacoes  taxa_acerto\n",
      "0       9             51     0.607843\n",
      "1      10             62     0.403226\n",
      "2      11             49     0.571429\n",
      "3      12             56     0.517857\n",
      "4      13             48     0.604167\n",
      "5      14             51     0.607843\n",
      "6      15             53     0.452830\n",
      "7      16             50     0.520000\n",
      "8      17             52     0.615385\n",
      "9      18              7     0.428571\n",
      "Time_period: 14.0 -- var_bb: 2.0 -- pontos: 150.0--Rate_tp: 1.0-- Retorno: -1.35 -- Pontos_total: 1649.98255\n",
      "   Hora_h  qtd_operacoes  taxa_acerto\n",
      "0       9             95     0.536842\n",
      "1      10            115     0.530435\n",
      "2      11            119     0.512605\n",
      "3      12            115     0.521739\n",
      "4      13            109     0.541284\n",
      "5      14            106     0.584906\n",
      "6      15             87     0.471264\n",
      "7      16             87     0.367816\n",
      "8      17             93     0.526882\n",
      "9      18             13     0.538462\n",
      "Time_period: 14.0 -- var_bb: 1.8 -- pontos: 200.0--Rate_tp: 1.0-- Retorno: -0.84 -- Pontos_total: 1799.97995\n",
      "   Hora_h  qtd_operacoes  taxa_acerto\n",
      "0       9            114     0.500000\n",
      "1      10            125     0.480000\n",
      "2      11            131     0.511450\n",
      "3      12            111     0.495495\n",
      "4      13            117     0.572650\n",
      "5      14            112     0.535714\n",
      "6      15            100     0.490000\n",
      "7      16            103     0.368932\n",
      "8      17             93     0.559140\n",
      "9      18             16     0.500000\n",
      "Time_period: 14.0 -- var_bb: 2.2 -- pontos: 200.0--Rate_tp: 1.0-- Retorno: -0.43 -- Pontos_total: 999.98675\n",
      "   Hora_h  qtd_operacoes  taxa_acerto\n",
      "0       9             63     0.476190\n",
      "1      10             82     0.463415\n",
      "2      11             89     0.460674\n",
      "3      12             72     0.416667\n",
      "4      13             75     0.573333\n",
      "5      14             77     0.558442\n",
      "6      15             69     0.492754\n",
      "7      16             62     0.483871\n",
      "8      17             76     0.605263\n",
      "9      18             11     0.272727\n"
     ]
    }
   ],
   "source": [
    "for index,result_atual in result.loc[[104,68,4,12,20]].iterrows():\n",
    "    time_period = result_atual['Time_period']\n",
    "    var_bb = result_atual['var_bb']\n",
    "    pontos = result_atual['pontos']\n",
    "    rate_stop = 1\n",
    "    rate_tp = result_atual['Rate_tp']\n",
    "    retorno = result_atual['Retorno']\n",
    "    Pontos_total = result_atual['Pontos_total']\n",
    "    spread = 5\n",
    "    timeframe = 5\n",
    "\n",
    "\n",
    "    df=df_puro.copy()\n",
    "    bt = setup_stop_tp(df,timeperiod=time_period,var_bb=var_bb,pontos = pontos,rate_tp = rate_tp,EMA=True)\n",
    "    #bt = setup_tsl(df,timeperiod=time_period,var_bb=var_bb,pontos = pontos,rate_tp = rate_tp,EMA=False)\n",
    "\n",
    "    stats = bt.run()\n",
    "\n",
    "    df_trades = stats['_trades']\n",
    "    #df_trades = df_trades.drop_duplicates('EntryTime')\n",
    "    df_trades['Hora_h'] = df_trades['EntryTime'].apply(lambda x: x.hour)\n",
    "    df_trades['resultado_binario'] = df_trades['ReturnPct'].apply(lambda x: 1 if x > 0 else 0)\n",
    "\n",
    "    print(f'Time_period: {time_period} -- var_bb: {var_bb} -- pontos: {pontos}--Rate_tp: {rate_tp}-- Retorno: {round(retorno,2)} -- Pontos_total: {Pontos_total}')\n",
    "    df_new_hora = df_trades[['Hora_h','resultado_binario']]\n",
    "    df_new_hora = df_trades.groupby(['Hora_h'],as_index=False).agg(qtd_operacoes=('resultado_binario', 'count'), taxa_acerto=('resultado_binario', 'mean'))\n",
    "\n",
    "    #df_new_hora['pontos_liquido'] = df_new_hora.apply(calc_pontos, axis = 1)\n",
    "    print(df_new_hora)\n"
   ]
  },
  {
   "cell_type": "code",
   "execution_count": null,
   "metadata": {},
   "outputs": [],
   "source": [
    "new[new['signal'] != 0][['signal']].tail(10)"
   ]
  },
  {
   "cell_type": "code",
   "execution_count": null,
   "metadata": {},
   "outputs": [],
   "source": [
    "stats['_trades'].tail(30)"
   ]
  },
  {
   "attachments": {},
   "cell_type": "markdown",
   "metadata": {},
   "source": [
    "#### Setup_Tsl"
   ]
  },
  {
   "cell_type": "code",
   "execution_count": null,
   "metadata": {},
   "outputs": [],
   "source": [
    "result = pd.read_excel('resultado_win_1M_ema_False_tls.xlsx')\n",
    "result.sort_values(by = 'Retorno', ascending=False).iloc[:]"
   ]
  },
  {
   "cell_type": "code",
   "execution_count": null,
   "metadata": {},
   "outputs": [],
   "source": [
    "for index,result_atual in result.loc[[0,7,6]].iterrows():\n",
    "    time_period = result_atual['Time_period']\n",
    "    var_bb = result_atual['var_bb']\n",
    "    pontos = result_atual['pontos']\n",
    "    rate_stop = 1\n",
    "    #rate_tp = result_atual['Rate_tp']\n",
    "    retorno = result_atual['Retorno']\n",
    "    #Pontos_total = result_atual['Pontos_total']\n",
    "    spread = 0.00005\n",
    "    timeframe = 5\n",
    "\n",
    "\n",
    "    df=df_puro.copy()\n",
    "    bt = setup_tsl(df,timeperiod=time_period,var_bb=var_bb,pontos = pontos,EMA=True)\n",
    "\n",
    "    stats = bt.run()\n",
    "\n",
    "    df_trades = stats['_trades']\n",
    "    df_trades = df_trades.drop_duplicates('EntryTime')\n",
    "    df_trades['Hora_h'] = df_trades['EntryTime'].apply(lambda x: x.hour)\n",
    "    df_trades['resultado_binario'] = df_trades['ReturnPct'].apply(lambda x: 1 if x > 0 else 0)\n",
    "\n",
    "    print(f'Time_period: {time_period} -- var_bb: {var_bb} -- pontos: {pontos}-- Retorno: {round(retorno,2)}')\n",
    "    df_new_hora = df_trades[['Hora_h','resultado_binario']]\n",
    "    df_new_hora = df_trades.groupby(['Hora_h'],as_index=False).agg(qtd_operacoes=('resultado_binario', 'count'), taxa_acerto=('resultado_binario', 'mean'))\n",
    "\n",
    "    #df_new_hora['pontos_liquido'] = df_new_hora.apply(calc_pontos, axis = 1)\n",
    "    print(df_new_hora)\n",
    "\n"
   ]
  },
  {
   "cell_type": "code",
   "execution_count": null,
   "metadata": {},
   "outputs": [],
   "source": [
    "bt.plot()"
   ]
  },
  {
   "cell_type": "code",
   "execution_count": null,
   "metadata": {},
   "outputs": [],
   "source": [
    "df_trades = stats['_trades']\n",
    "df_trades['Hora_h'] = df_trades['EntryTime'].apply(lambda x: x.hour)\n",
    "df_trades['resultado_binario'] = df_trades['ReturnPct'].apply(lambda x: 1 if x > 0 else 0)\n",
    "\n",
    "print(f'Time_period: {time_period} -- var_bb: {var_bb} -- pontos: {pontos}-- Retorno: {round(retorno,2)} ')\n",
    "df_new_hora = df_trades[['Hora_h','resultado_binario']]\n",
    "df_new_hora = df_trades.groupby(['Hora_h'],as_index=False).agg(qtd_operacoes=('resultado_binario', 'count'), taxa_acerto=('resultado_binario', 'mean'))\n",
    "\n",
    "#df_new_hora['pontos_liquido'] = df_new_hora.apply(calc_pontos, axis = 1)\n",
    "print(df_new_hora)"
   ]
  },
  {
   "cell_type": "code",
   "execution_count": null,
   "metadata": {},
   "outputs": [],
   "source": []
  }
 ],
 "metadata": {
  "kernelspec": {
   "display_name": "Python 3",
   "language": "python",
   "name": "python3"
  },
  "language_info": {
   "codemirror_mode": {
    "name": "ipython",
    "version": 3
   },
   "file_extension": ".py",
   "mimetype": "text/x-python",
   "name": "python",
   "nbconvert_exporter": "python",
   "pygments_lexer": "ipython3",
   "version": "3.10.4"
  },
  "orig_nbformat": 4,
  "vscode": {
   "interpreter": {
    "hash": "3e680e901da43b1ff7896a65bb9fdc0d88fdcb475def19e54fa2d4ad7c5b5275"
   }
  }
 },
 "nbformat": 4,
 "nbformat_minor": 2
}
