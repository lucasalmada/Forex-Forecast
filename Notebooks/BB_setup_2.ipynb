{
 "cells": [
  {
   "cell_type": "code",
   "execution_count": null,
   "metadata": {},
   "outputs": [],
   "source": [
    "import pandas as pd\n",
    "#import MetaTrader5 as mt5\n",
    "import talib as ta\n",
    "from bb_setup_1 import setup_2,main_indicators\n",
    "import warnings\n",
    "warnings.filterwarnings(\"ignore\")"
   ]
  },
  {
   "cell_type": "code",
   "execution_count": null,
   "metadata": {},
   "outputs": [],
   "source": [
    "ativo = 'wdo_1_full'\n",
    "colnames = ['Data','Open','High','Low','Close','Vol']\n",
    "df = pd.read_csv(f'./Dados/{ativo}.csv', names = colnames, skiprows=1)\n",
    "df = df[df['Data'] > '2022-06-01']"
   ]
  },
  {
   "cell_type": "code",
   "execution_count": null,
   "metadata": {},
   "outputs": [],
   "source": [
    "pontos = 3\n",
    "rate_stop = 1\n",
    "rate_tp = 2\n",
    "spread = 5\n",
    "\n",
    "df_total = None\n",
    "\n",
    "for timeframe in [1,5,15]:\n",
    "    for var_bb in [2]:\n",
    "        for pontos in [150,200,250,300,350]:\n",
    "            for rate_tp in [1.5,2,2.5,3]:\n",
    "                \n",
    "                ativo = f'win_{timeframe}_full'\n",
    "                colnames = ['Data','Open','High','Low','Close','Vol']\n",
    "                df = pd.read_csv(f'./Dados/{ativo}.csv', names = colnames, skiprows=1)\n",
    "                df = df[df['Data'] > '2022-06-01']\n",
    "\n",
    "                df_acao = setup_2(df,var_bb = var_bb,time_period = 20,pontos = pontos,rate_stop = 1,rate_tp = rate_tp)\n",
    "\n",
    "                qtd_operacoes = df_acao.shape[0]\n",
    "                taxa_acerto = df_acao['resultado_binario'].sum()/qtd_operacoes\n",
    "                operacoes_certas = qtd_operacoes * taxa_acerto\n",
    "                operacoes_erradas = qtd_operacoes - operacoes_certas\n",
    "                pontos_bruto =  (operacoes_certas * rate_tp - operacoes_erradas * rate_stop) * pontos\n",
    "\n",
    "                pontos_liquido = pontos_bruto - spread * qtd_operacoes\n",
    "\n",
    "\n",
    "                df_new = pd.DataFrame([[ativo[:-5],var_bb,rate_tp,rate_stop,pontos,qtd_operacoes,taxa_acerto,pontos_bruto,pontos_liquido]],\n",
    "                            columns = ['ativo','var_bb','rate_tp','rate_stop','pontos','qtd_operacoes','taxa_acerto','pontos_bruto','pontos_liquido'])\n",
    "\n",
    "                df_total = pd.concat([df_total,df_new])\n",
    "\n",
    "                print(df_total.to_string())"
   ]
  },
  {
   "cell_type": "code",
   "execution_count": null,
   "metadata": {},
   "outputs": [],
   "source": [
    "df_total = pd.read_csv('result_bb_setup_2_win.csv')\n",
    "#df_total.to_csv('result_bb_setup_2_wdo.csv')"
   ]
  },
  {
   "cell_type": "code",
   "execution_count": null,
   "metadata": {},
   "outputs": [],
   "source": [
    "df_1 = df_total[df_total['ativo'] == 'win_1']\n",
    "df_5 = df_total[df_total['ativo'] == 'win_5']\n",
    "df_15 = df_total[df_total['ativo'] == 'win_15']"
   ]
  },
  {
   "cell_type": "code",
   "execution_count": null,
   "metadata": {},
   "outputs": [],
   "source": [
    "df_1.sort_values(by = 'pontos_liquido', ascending = False).head(10)"
   ]
  },
  {
   "cell_type": "code",
   "execution_count": null,
   "metadata": {},
   "outputs": [],
   "source": [
    "df_5.sort_values(by = 'pontos_liquido', ascending = False).head(15)"
   ]
  },
  {
   "cell_type": "code",
   "execution_count": null,
   "metadata": {},
   "outputs": [],
   "source": [
    "df_15.sort_values(by = 'pontos_liquido', ascending = False).head(20)"
   ]
  },
  {
   "cell_type": "code",
   "execution_count": null,
   "metadata": {},
   "outputs": [],
   "source": [
    "timeframe = 15\n",
    "for index,row in df_15.sort_values(by = 'pontos_liquido', ascending = False).head(5).iterrows():\n",
    "\n",
    "    pontos = row['pontos']\n",
    "    rate_tp = row['rate_tp']\n",
    "    var_bb = row['var_bb']\n",
    "    rate_stop = 1\n",
    "    spread = 0.5\n",
    "\n",
    "    ativo = f'win_{timeframe}_full'\n",
    "    colnames = ['Data','Open','High','Low','Close','Vol']\n",
    "    df = pd.read_csv(f'./Dados/{ativo}.csv', names = colnames, skiprows=1)\n",
    "    df = df[df['Data'] > '2022-01-01']\n",
    "\n",
    "    df_acao = setup_2(df,var_bb = var_bb,time_period = 20,pontos = pontos,rate_stop = 1,rate_tp = rate_tp)\n",
    "\n",
    "    qtd_operacoes = df_acao.shape[0]\n",
    "    taxa_acerto = df_acao['resultado_binario'].sum()/qtd_operacoes\n",
    "    operacoes_certas = qtd_operacoes * taxa_acerto\n",
    "    operacoes_erradas = qtd_operacoes - operacoes_certas\n",
    "    pontos_bruto =  (operacoes_certas * rate_tp - operacoes_erradas * rate_stop) * pontos\n",
    "\n",
    "    pontos_liquido = pontos_bruto - spread * qtd_operacoes\n",
    "\n",
    "\n",
    "    print(f'Timeframe: {timeframe} --pontos: {pontos} --- rate_tp: {rate_tp} -- var_bb: {var_bb}')\n",
    "\n",
    "    print(f'Pontos_liquido: {pontos_liquido} -- Total_operacoes: {qtd_operacoes}')\n",
    "\n",
    "    df_acao['Hora'] = df_acao['Data'].apply(lambda x: x[11:])\n",
    "    df_acao['Hora_h'] = df_acao['Hora'].apply(lambda x: x[:2])\n",
    "    df_acao['Mes'] = df_acao['Data'].apply(lambda x: x[5:7])\n",
    "\n",
    "    df_new_mes = df_acao[['Mes','resultado_binario']]\n",
    "    df_new_hora = df_acao[['Hora_h','resultado_binario']]\n",
    "\n",
    "    def calc_pontos(x):\n",
    "        qtd_operacoes = x['qtd_operacoes']\n",
    "        taxa_acerto = x['taxa_acerto']\n",
    "        operacoes_certas = qtd_operacoes * taxa_acerto\n",
    "        operacoes_erradas = qtd_operacoes - operacoes_certas\n",
    "        pontos_bruto =  (operacoes_certas * rate_tp - operacoes_erradas * rate_stop) * pontos\n",
    "\n",
    "        pontos_liquido = pontos_bruto - spread * qtd_operacoes\n",
    "\n",
    "        return pontos_liquido\n",
    "\n",
    "    print('Agrupado por Hora')\n",
    "    df_new_hora = df_new_hora.groupby(['Hora_h'],as_index=False).agg(qtd_operacoes=('resultado_binario', 'count'), taxa_acerto=('resultado_binario', 'mean'))\n",
    "\n",
    "    df_new_hora['pontos_liquido'] = df_new_hora.apply(calc_pontos, axis = 1)\n",
    "    print(df_new_hora)\n",
    "\n",
    "    print('Agrupado por Mes')\n",
    "    df_new_mes = df_new_mes.groupby(['Mes'],as_index=False).agg(qtd_operacoes=('resultado_binario', 'count'), taxa_acerto=('resultado_binario', 'mean'))\n",
    "\n",
    "    df_new_mes['pontos_liquido'] = df_new_mes.apply(calc_pontos, axis = 1)\n",
    "    print(df_new_mes)\n",
    "    print('')\n"
   ]
  },
  {
   "attachments": {},
   "cell_type": "markdown",
   "metadata": {},
   "source": [
    "### Modelo"
   ]
  },
  {
   "cell_type": "code",
   "execution_count": null,
   "metadata": {},
   "outputs": [],
   "source": [
    "import pandas as pd\n",
    "#import MetaTrader5 as mt5\n",
    "import talib as ta\n",
    "from bb_setup_1 import setup_2,main_indicators\n",
    "import warnings\n",
    "warnings.filterwarnings(\"ignore\")"
   ]
  },
  {
   "cell_type": "code",
   "execution_count": null,
   "metadata": {},
   "outputs": [],
   "source": [
    "timeframe = 5\n",
    "pontos = 300\n",
    "rate_tp = 2\n",
    "var_bb = 2\n",
    "\n",
    "ativo = f'win_{timeframe}_full'\n",
    "colnames = ['Data','Open','High','Low','Close','Vol']\n",
    "df = pd.read_csv(f'./Dados/{ativo}.csv', names = colnames, skiprows=1)\n",
    "df = df[df['Data'] > '2022-06-01']\n",
    "\n",
    "df_acao = setup_2(df,var_bb = var_bb,time_period = 20,pontos = pontos,rate_stop = 1,rate_tp = rate_tp)\n",
    "df_acao['dist_bandas'] = df_acao['BB_up'] - df_acao['BB_low']\n",
    "\n",
    "df_acao = main_indicators(df_acao)"
   ]
  },
  {
   "cell_type": "code",
   "execution_count": null,
   "metadata": {},
   "outputs": [],
   "source": [
    "df_acao[['Data','Close','acao', 'stop','tp','resultado_binario']].tail(10)"
   ]
  },
  {
   "cell_type": "code",
   "execution_count": null,
   "metadata": {},
   "outputs": [],
   "source": [
    "df_acao['resultado_binario'].sum()/df_acao.shape[0]"
   ]
  },
  {
   "cell_type": "code",
   "execution_count": null,
   "metadata": {},
   "outputs": [],
   "source": [
    "df = df_acao.copy()\n",
    "\n",
    "df = df.drop(columns = ['proximo_candle','stop','tp','TRIX'])\n",
    "df = df.dropna()\n",
    "inicio = '2022-11-01'\n",
    "termino = '2022-01-01'\n",
    "\n",
    "df_train = df[(df['Data'] > '2022-01-01') & (df['Data'] < inicio)]\n",
    "df_train = df_train.set_index(['Data','acao'])\n",
    "\n",
    "df_test = df[(df['Data'] > inicio)]\n",
    "df_test = df_test.set_index(['Data','acao'])\n",
    "\n",
    "y_train = df_train['resultado_binario']\n",
    "x_train = df_train.drop(columns=['resultado_binario'])\n",
    "\n",
    "y_test = df_test['resultado_binario']\n",
    "x_test = df_test.drop(columns=['resultado_binario'])"
   ]
  },
  {
   "cell_type": "code",
   "execution_count": null,
   "metadata": {},
   "outputs": [],
   "source": [
    "df_test['resultado_binario'].sum()/df_test.shape[0]"
   ]
  },
  {
   "cell_type": "code",
   "execution_count": null,
   "metadata": {},
   "outputs": [],
   "source": [
    "from sklearn.ensemble import ExtraTreesClassifier\n",
    "from sklearn.linear_model import LogisticRegression\n",
    "from sklearn.model_selection import train_test_split\n",
    "import lightgbm as lgb"
   ]
  },
  {
   "cell_type": "code",
   "execution_count": null,
   "metadata": {},
   "outputs": [],
   "source": [
    "#clf = ExtraTreesClassifier()\n",
    "#clf = LogisticRegression()\n",
    "clf = lgb.LGBMClassifier()\n",
    "clf.fit(x_train, y_train)\n",
    "\n",
    "# predict the results\n",
    "y_pred=clf.predict(x_test)\n",
    "y_proba = clf.predict_proba(x_test)[:,1]\n",
    "# view accuracy\n",
    "from sklearn.metrics import accuracy_score\n",
    "accuracy=accuracy_score(y_pred, y_test)\n",
    "print('LightGBM Model accuracy score: {0:0.4f}'.format(accuracy_score(y_test, y_pred)))\n",
    "\n",
    "print('Training set score: {:.4f}'.format(clf.score(x_train, y_train)))\n",
    "\n",
    "print('Test set score: {:.4f}'.format(clf.score(x_test, y_test)))"
   ]
  },
  {
   "cell_type": "code",
   "execution_count": null,
   "metadata": {},
   "outputs": [],
   "source": [
    "y_pred.sum()"
   ]
  },
  {
   "cell_type": "code",
   "execution_count": null,
   "metadata": {},
   "outputs": [],
   "source": [
    "x_test = x_test.reset_index()\n",
    "x_test['predito'] = y_pred\n",
    "x_test['resultado_binario'] = y_test.values\n",
    "x_test['proba'] = y_proba"
   ]
  },
  {
   "cell_type": "code",
   "execution_count": null,
   "metadata": {},
   "outputs": [],
   "source": [
    "new = x_test[['Data','acao','resultado_binario','predito']]\n",
    "new = x_test[(x_test['predito'] == 1) & ((x_test['proba'] >= 0.5))]\n",
    "new['certo'] = new.apply(lambda x: 1 if x['resultado_binario'] == x['predito'] else 0, axis = 1)"
   ]
  },
  {
   "cell_type": "code",
   "execution_count": null,
   "metadata": {},
   "outputs": [],
   "source": [
    "#new[['Data','acao','resultado_binario','predito','certo']]"
   ]
  },
  {
   "cell_type": "code",
   "execution_count": null,
   "metadata": {},
   "outputs": [],
   "source": [
    "new['certo'].sum()/new.shape[0]"
   ]
  },
  {
   "cell_type": "code",
   "execution_count": null,
   "metadata": {},
   "outputs": [],
   "source": [
    "new.shape"
   ]
  },
  {
   "cell_type": "code",
   "execution_count": null,
   "metadata": {},
   "outputs": [],
   "source": [
    "new"
   ]
  },
  {
   "cell_type": "code",
   "execution_count": null,
   "metadata": {},
   "outputs": [],
   "source": []
  }
 ],
 "metadata": {
  "kernelspec": {
   "display_name": "Python 3",
   "language": "python",
   "name": "python3"
  },
  "language_info": {
   "codemirror_mode": {
    "name": "ipython",
    "version": 3
   },
   "file_extension": ".py",
   "mimetype": "text/x-python",
   "name": "python",
   "nbconvert_exporter": "python",
   "pygments_lexer": "ipython3",
   "version": "3.10.4 (tags/v3.10.4:9d38120, Mar 23 2022, 23:13:41) [MSC v.1929 64 bit (AMD64)]"
  },
  "orig_nbformat": 4,
  "vscode": {
   "interpreter": {
    "hash": "3e680e901da43b1ff7896a65bb9fdc0d88fdcb475def19e54fa2d4ad7c5b5275"
   }
  }
 },
 "nbformat": 4,
 "nbformat_minor": 2
}
