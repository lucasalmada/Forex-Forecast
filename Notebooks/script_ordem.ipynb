{
 "cells": [
  {
   "cell_type": "code",
   "execution_count": 1,
   "metadata": {},
   "outputs": [],
   "source": [
    "import pandas as pd\n",
    "import MetaTrader5 as mt5\n",
    "from datetime import datetime,timedelta\n",
    "import time\n",
    "import talib as ta"
   ]
  },
  {
   "cell_type": "code",
   "execution_count": 2,
   "metadata": {},
   "outputs": [],
   "source": [
    "#tz = pytz.timezone('America/Sao_Paulo')\n",
    "ativo = 'WIN@N'\n",
    "#ativos = ['EURUSD']\n",
    "\n",
    "\n",
    "\n",
    "if not mt5.initialize():\n",
    "    print(\"initialize() failed\")\n",
    "    mt5.shutdown()"
   ]
  },
  {
   "cell_type": "code",
   "execution_count": 3,
   "metadata": {},
   "outputs": [],
   "source": [
    "\n",
    "def comprar(symbol,stop,hora_fechamento):\n",
    "    point = mt5.symbol_info(symbol).point\n",
    "    request = {\n",
    "        \"action\": mt5.TRADE_ACTION_DEAL,\n",
    "        \"symbol\": symbol,\n",
    "        \"volume\": 1.0,\n",
    "        \"type\": mt5.ORDER_TYPE_BUY,\n",
    "        \"price\": mt5.symbol_info_tick(symbol).ask,\n",
    "        \"sl\": stop,\n",
    "        \"tp\": 0.0,\n",
    "        \"deviation\": 20,\n",
    "        \"magic\": 234000,\n",
    "        \"comment\": \"python script open\",\n",
    "        \"type_time\": mt5.ORDER_TIME_SPECIFIED,\n",
    "        \"expiration\": hora_fechamento,\n",
    "        \"type_filling\": mt5.ORDER_FILLING_RETURN,\n",
    "    }\n",
    "    result = mt5.order_send(request)\n",
    "    print(result)\n",
    "\n",
    "def vender(symbol,stop,hora_fechamento):\n",
    "    point = mt5.symbol_info(symbol).point\n",
    "    request = {\n",
    "        \"action\": mt5.TRADE_ACTION_DEAL,\n",
    "        \"symbol\": symbol,\n",
    "        \"volume\": 1.0,\n",
    "        \"type\": mt5.ORDER_TYPE_SELL,\n",
    "        \"price\": mt5.symbol_info_tick(symbol).bid,\n",
    "        \"sl\": stop,\n",
    "        \"tp\": 0.0,\n",
    "        \"deviation\": 20,\n",
    "        \"magic\": 234000,\n",
    "        \"comment\": \"python script open\",\n",
    "        \"type_time\": mt5.ORDER_TIME_SPECIFIED,\n",
    "        \"expiration\": hora_fechamento,\n",
    "        \"type_filling\": mt5.ORDER_FILLING_RETURN,\n",
    "    }\n",
    "    result = mt5.order_send(request)\n",
    "    print(result)"
   ]
  },
  {
   "cell_type": "code",
   "execution_count": null,
   "metadata": {},
   "outputs": [],
   "source": [
    "def verificar(ativo, hora_fechamento):\n",
    "\n",
    "    df = pd.DataFrame(mt5.copy_rates_from_pos(ativo, mt5.TIMEFRAME_M1, 0, 200))\n",
    "    df['MA_9'] = ta.EMA(df['Close'], timeperiod = 9)\n",
    "    df['MA_9_diff_value'] = df['MA_9'].diff(periods = 1)\n",
    "    df['MA_9_tend'] = df['MA_9_diff_value'].apply(lambda x: 1 if x > 0 else -1)\n",
    "    df['MA_9_tend_diff'] = df['MA_9_tend'].diff()\n",
    "    df['MA_100'] = ta.SMA(df['Close'],timeperiod=100)\n",
    "    df['tend'] = df.apply(lambda x: 1 if x['Close'] > x['MA_100'] else 0, axis = 1)\n",
    "\n",
    "    df['acao'] = df.apply(lambda x: 'sell' if (x['MA_9_tend_diff'] == 2 and x['tend'] == 1) \n",
    "        else 'call' if  (x['MA_9_tend_diff'] == -2 and x['tend'] == 0)  else 0, axis =1)\n",
    "\n",
    "    df['preco'] = df.apply(lambda x: x['Close'], axis =1)\n",
    "\n",
    "    df['stop'] = df.apply(lambda x: x['High'] + (x['High'] - x['Low'])  if x['acao']=='sell' else x['Low'] - (x['High'] - x['Low']) if x['acao'] == 'call' else 0, axis =1)\n",
    "\n",
    "\n",
    "\n",
    "    ##Excluir seguidos\n",
    "    lista = df['acao'].values\n",
    "\n",
    "    tempo_lista = 10\n",
    "    for num, i in enumerate(lista):\n",
    "        #print(num,i)\n",
    "        if i != 0:\n",
    "            for i in range(tempo_lista):\n",
    "                try:\n",
    "                    n_num = num + i + 1\n",
    "                    lista[n_num] = 0\n",
    "                except:\n",
    "                    pass\n",
    "    \n",
    "    df['acao'] = lista\n",
    "\n",
    "    ultima_linha = df.tail(1)\n",
    "    preco_entrada = ultima_linha['preco']\n",
    "    stop = ultima_linha['stop']\n",
    "    acao = ultima_linha['acao']\n",
    "    hora_fechamento = hora_fechamento\n",
    "\n",
    "    if acao == 'call':\n",
    "        comprar(ativo, stop,hora_fechamento)\n",
    "    elif acao == 'sell':\n",
    "        vender(ativo, stop,hora_fechamento)\n",
    "    else:\n",
    "        print(ultima_linha)\n",
    "\n",
    "\n",
    "\n"
   ]
  },
  {
   "cell_type": "code",
   "execution_count": 2,
   "metadata": {},
   "outputs": [
    {
     "name": "stdout",
     "output_type": "stream",
     "text": [
      "2022-12-25 08:39:59.001003\n"
     ]
    },
    {
     "ename": "KeyboardInterrupt",
     "evalue": "",
     "output_type": "error",
     "traceback": [
      "\u001b[1;31m---------------------------------------------------------------------------\u001b[0m",
      "\u001b[1;31mKeyboardInterrupt\u001b[0m                         Traceback (most recent call last)",
      "\u001b[1;32mc:\\Users\\Usuário\\Documents\\Github\\Forex-Forecast\\Notebooks\\script_ordem.ipynb Cell 6\u001b[0m in \u001b[0;36m<cell line: 1>\u001b[1;34m()\u001b[0m\n\u001b[0;32m      <a href='vscode-notebook-cell:/c%3A/Users/Usu%C3%A1rio/Documents/Github/Forex-Forecast/Notebooks/script_ordem.ipynb#X11sZmlsZQ%3D%3D?line=0'>1</a>\u001b[0m \u001b[39mwhile\u001b[39;00m \u001b[39mTrue\u001b[39;00m:\n\u001b[0;32m      <a href='vscode-notebook-cell:/c%3A/Users/Usu%C3%A1rio/Documents/Github/Forex-Forecast/Notebooks/script_ordem.ipynb#X11sZmlsZQ%3D%3D?line=1'>2</a>\u001b[0m     data_e_hora_atuais \u001b[39m=\u001b[39m datetime\u001b[39m.\u001b[39mnow()\n\u001b[1;32m----> <a href='vscode-notebook-cell:/c%3A/Users/Usu%C3%A1rio/Documents/Github/Forex-Forecast/Notebooks/script_ordem.ipynb#X11sZmlsZQ%3D%3D?line=2'>3</a>\u001b[0m     hora_teste \u001b[39m=\u001b[39m \u001b[39mstr\u001b[39;49m(data_e_hora_atuais\u001b[39m.\u001b[39;49mminute)[\u001b[39m-\u001b[39m\u001b[39m1\u001b[39m:] \u001b[39m+\u001b[39m \u001b[39mstr\u001b[39m(data_e_hora_atuais\u001b[39m.\u001b[39msecond)  \n\u001b[0;32m      <a href='vscode-notebook-cell:/c%3A/Users/Usu%C3%A1rio/Documents/Github/Forex-Forecast/Notebooks/script_ordem.ipynb#X11sZmlsZQ%3D%3D?line=3'>4</a>\u001b[0m     \u001b[39mif\u001b[39;00m hora_teste \u001b[39m==\u001b[39m \u001b[39m'\u001b[39m\u001b[39m959\u001b[39m\u001b[39m'\u001b[39m \u001b[39mor\u001b[39;00m hora_teste \u001b[39m==\u001b[39m \u001b[39m'\u001b[39m\u001b[39m459\u001b[39m\u001b[39m'\u001b[39m:\n\u001b[0;32m      <a href='vscode-notebook-cell:/c%3A/Users/Usu%C3%A1rio/Documents/Github/Forex-Forecast/Notebooks/script_ordem.ipynb#X11sZmlsZQ%3D%3D?line=4'>5</a>\u001b[0m         \u001b[39mprint\u001b[39m(\u001b[39mstr\u001b[39m(data_e_hora_atuais))\n",
      "\u001b[1;31mKeyboardInterrupt\u001b[0m: "
     ]
    }
   ],
   "source": [
    "while True:\n",
    "    data_e_hora_atuais = datetime.now()\n",
    "    hora_fechamento = data_e_hora_atuais + timedelta(minutes = 50)\n",
    "    hora_fechamento = int(hora_fechamento.timestamp())\n",
    "    hora_teste = str(data_e_hora_atuais.minute)[-1:] + str(data_e_hora_atuais.second)  \n",
    "    if hora_teste == '959' or hora_teste == '459':\n",
    "        verificar(ativo, hora_fechamento)\n",
    "        time.sleep(200)"
   ]
  },
  {
   "cell_type": "code",
   "execution_count": 3,
   "metadata": {},
   "outputs": [],
   "source": [
    "data_e_hora_atuais = datetime.now()"
   ]
  },
  {
   "cell_type": "code",
   "execution_count": 8,
   "metadata": {},
   "outputs": [
    {
     "data": {
      "text/plain": [
       "'2022-12-25 09:36:32.723920'"
      ]
     },
     "execution_count": 8,
     "metadata": {},
     "output_type": "execute_result"
    }
   ],
   "source": [
    "str(data_e_hora_atuais)"
   ]
  },
  {
   "cell_type": "code",
   "execution_count": 9,
   "metadata": {},
   "outputs": [
    {
     "data": {
      "text/plain": [
       "'2022-12-25 10:26:32.723920'"
      ]
     },
     "execution_count": 9,
     "metadata": {},
     "output_type": "execute_result"
    }
   ],
   "source": [
    "str(data_e_hora_atuais + timedelta(minutes = 50))"
   ]
  },
  {
   "cell_type": "code",
   "execution_count": 11,
   "metadata": {},
   "outputs": [
    {
     "data": {
      "text/plain": [
       "1671971792"
      ]
     },
     "execution_count": 11,
     "metadata": {},
     "output_type": "execute_result"
    }
   ],
   "source": [
    "int(data_e_hora_atuais.timestamp())"
   ]
  },
  {
   "cell_type": "code",
   "execution_count": null,
   "metadata": {},
   "outputs": [],
   "source": []
  }
 ],
 "metadata": {
  "kernelspec": {
   "display_name": "Python 3",
   "language": "python",
   "name": "python3"
  },
  "language_info": {
   "codemirror_mode": {
    "name": "ipython",
    "version": 3
   },
   "file_extension": ".py",
   "mimetype": "text/x-python",
   "name": "python",
   "nbconvert_exporter": "python",
   "pygments_lexer": "ipython3",
   "version": "3.10.4"
  },
  "orig_nbformat": 4,
  "vscode": {
   "interpreter": {
    "hash": "3e680e901da43b1ff7896a65bb9fdc0d88fdcb475def19e54fa2d4ad7c5b5275"
   }
  }
 },
 "nbformat": 4,
 "nbformat_minor": 2
}
