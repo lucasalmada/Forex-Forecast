{
 "cells": [
  {
   "cell_type": "code",
   "execution_count": 1,
   "metadata": {},
   "outputs": [],
   "source": [
    "import pandas as pd\n",
    "#import MetaTrader5 as mt5\n",
    "import talib as ta\n",
    "#from bb_setup import setup_teste\n",
    "import numpy as np\n",
    "import warnings\n",
    "warnings.filterwarnings(\"ignore\")"
   ]
  },
  {
   "cell_type": "code",
   "execution_count": 2,
   "metadata": {},
   "outputs": [],
   "source": [
    "df = pd.read_csv('./Dados/win_tick.csv',sep = '\\t')\n",
    "df.columns = ['Date', 'Time', '1', '2','Last','4','5']\n",
    "df = df[['Date','Time','Last']]\n",
    "\n",
    "df['Data'] = df['Date'] + ' ' + df['Time']\n",
    "df = df.set_index('Data')\n",
    "\n",
    "df.index = pd.to_datetime(df.index, format='%Y.%m.%d %H:%M:%S.%f')\n",
    "\n",
    "#timeframes (milliseconds/microseconds/seconds), use L for milliseconds, U for microseconds, and S for seconds\n",
    "\n",
    "df = df['Last'].resample('S').ohlc(_method='ohlc')\n",
    "\n",
    "df['media'] = df[['high','low']].mean(axis = 1)\n",
    "    \n",
    "df = df.reset_index()\n",
    "df_ticks = df[['Data','media']]"
   ]
  },
  {
   "cell_type": "code",
   "execution_count": 3,
   "metadata": {},
   "outputs": [],
   "source": [
    "df_ticks.to_csv('./Dados/win_tick_hoje.csv', index = False)"
   ]
  },
  {
   "cell_type": "code",
   "execution_count": null,
   "metadata": {},
   "outputs": [],
   "source": [
    "df_ticks_1 = pd.read_csv('./Dados/wdo_tick_11.csv')\n",
    "df_ticks_2 = pd.read_csv('./Dados/wdo_tick_12.csv')"
   ]
  },
  {
   "cell_type": "code",
   "execution_count": null,
   "metadata": {},
   "outputs": [],
   "source": [
    "df_total = pd.concat([df_ticks_1,df_ticks_2])"
   ]
  },
  {
   "cell_type": "code",
   "execution_count": null,
   "metadata": {},
   "outputs": [],
   "source": [
    "df_total.to_csv('./Dados/tick_wdo_11_12.csv', index = False)"
   ]
  },
  {
   "cell_type": "code",
   "execution_count": null,
   "metadata": {},
   "outputs": [],
   "source": [
    "df_total"
   ]
  },
  {
   "cell_type": "code",
   "execution_count": null,
   "metadata": {},
   "outputs": [],
   "source": [
    "df_ticks"
   ]
  },
  {
   "cell_type": "code",
   "execution_count": null,
   "metadata": {},
   "outputs": [],
   "source": [
    "df_new = pd.concat([df_ticks,df_total])"
   ]
  },
  {
   "cell_type": "code",
   "execution_count": null,
   "metadata": {},
   "outputs": [],
   "source": [
    "df_new.to_csv('tick_win_11_12.csv')"
   ]
  },
  {
   "cell_type": "code",
   "execution_count": null,
   "metadata": {},
   "outputs": [],
   "source": []
  }
 ],
 "metadata": {
  "kernelspec": {
   "display_name": "Python 3",
   "language": "python",
   "name": "python3"
  },
  "language_info": {
   "codemirror_mode": {
    "name": "ipython",
    "version": 3
   },
   "file_extension": ".py",
   "mimetype": "text/x-python",
   "name": "python",
   "nbconvert_exporter": "python",
   "pygments_lexer": "ipython3",
   "version": "3.10.4"
  },
  "orig_nbformat": 4,
  "vscode": {
   "interpreter": {
    "hash": "3e680e901da43b1ff7896a65bb9fdc0d88fdcb475def19e54fa2d4ad7c5b5275"
   }
  }
 },
 "nbformat": 4,
 "nbformat_minor": 2
}
