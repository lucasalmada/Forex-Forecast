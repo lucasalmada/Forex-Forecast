{
 "cells": [
  {
   "cell_type": "code",
   "execution_count": 1,
   "metadata": {},
   "outputs": [],
   "source": [
    "import pandas as pd\n",
    "#import MetaTrader5 as mt5\n",
    "import talib as ta\n",
    "#from bb_setup import setup_teste\n",
    "import numpy as np\n",
    "import warnings\n",
    "warnings.filterwarnings(\"ignore\")"
   ]
  },
  {
   "cell_type": "code",
   "execution_count": 2,
   "metadata": {},
   "outputs": [],
   "source": [
    "df = pd.read_csv('./Dados/win_teste.csv',sep = '\\t')\n",
    "df.columns = ['Date', 'Time', '1', '2','Last','4','5']\n",
    "df = df[['Date','Time','Last']]\n",
    "\n",
    "df['Data'] = df['Date'] + ' ' + df['Time']\n",
    "df = df.set_index('Data')\n",
    "\n",
    "df.index = pd.to_datetime(df.index, format='%Y.%m.%d %H:%M:%S.%f')\n",
    "\n",
    "#timeframes (milliseconds/microseconds/seconds), use L for milliseconds, U for microseconds, and S for seconds\n",
    "\n",
    "df = df['Last'].resample('S').ohlc(_method='ohlc')\n",
    "\n",
    "df['media'] = df[['high','low']].mean(axis = 1)\n",
    "\n",
    "df = df.reset_index()\n",
    "df_ticks = df[['Data','media']]"
   ]
  },
  {
   "cell_type": "code",
   "execution_count": 3,
   "metadata": {},
   "outputs": [],
   "source": [
    "df_ticks.to_csv('./Dados/win_hoje.csv', index = False)"
   ]
  },
  {
   "cell_type": "code",
   "execution_count": 66,
   "metadata": {},
   "outputs": [],
   "source": [
    "df_ticks_1 = pd.read_csv('./Dados/tick_12_01_12.csv')\n",
    "df_ticks_2 = pd.read_csv('./Dados/tick_12_12_31.csv')"
   ]
  },
  {
   "cell_type": "code",
   "execution_count": 67,
   "metadata": {},
   "outputs": [],
   "source": [
    "df_total = pd.concat([df_ticks_1,df_ticks_2])"
   ]
  },
  {
   "cell_type": "code",
   "execution_count": 69,
   "metadata": {},
   "outputs": [],
   "source": [
    "df_total.to_csv('./Dados/tick_win_12.csv', index = False)"
   ]
  },
  {
   "cell_type": "code",
   "execution_count": 72,
   "metadata": {},
   "outputs": [
    {
     "data": {
      "text/html": [
       "<div>\n",
       "<style scoped>\n",
       "    .dataframe tbody tr th:only-of-type {\n",
       "        vertical-align: middle;\n",
       "    }\n",
       "\n",
       "    .dataframe tbody tr th {\n",
       "        vertical-align: top;\n",
       "    }\n",
       "\n",
       "    .dataframe thead th {\n",
       "        text-align: right;\n",
       "    }\n",
       "</style>\n",
       "<table border=\"1\" class=\"dataframe\">\n",
       "  <thead>\n",
       "    <tr style=\"text-align: right;\">\n",
       "      <th></th>\n",
       "      <th>Data</th>\n",
       "      <th>media</th>\n",
       "    </tr>\n",
       "  </thead>\n",
       "  <tbody>\n",
       "    <tr>\n",
       "      <th>0</th>\n",
       "      <td>2022-12-01 09:00:40</td>\n",
       "      <td>112490.0</td>\n",
       "    </tr>\n",
       "    <tr>\n",
       "      <th>1</th>\n",
       "      <td>2022-12-01 09:00:41</td>\n",
       "      <td>112515.0</td>\n",
       "    </tr>\n",
       "    <tr>\n",
       "      <th>2</th>\n",
       "      <td>2022-12-01 09:00:42</td>\n",
       "      <td>112555.0</td>\n",
       "    </tr>\n",
       "    <tr>\n",
       "      <th>3</th>\n",
       "      <td>2022-12-01 09:00:43</td>\n",
       "      <td>112585.0</td>\n",
       "    </tr>\n",
       "    <tr>\n",
       "      <th>4</th>\n",
       "      <td>2022-12-01 09:00:44</td>\n",
       "      <td>112572.5</td>\n",
       "    </tr>\n",
       "    <tr>\n",
       "      <th>...</th>\n",
       "      <td>...</td>\n",
       "      <td>...</td>\n",
       "    </tr>\n",
       "    <tr>\n",
       "      <th>1416638</th>\n",
       "      <td>2022-12-29 18:31:10</td>\n",
       "      <td>NaN</td>\n",
       "    </tr>\n",
       "    <tr>\n",
       "      <th>1416639</th>\n",
       "      <td>2022-12-29 18:31:11</td>\n",
       "      <td>NaN</td>\n",
       "    </tr>\n",
       "    <tr>\n",
       "      <th>1416640</th>\n",
       "      <td>2022-12-29 18:31:12</td>\n",
       "      <td>NaN</td>\n",
       "    </tr>\n",
       "    <tr>\n",
       "      <th>1416641</th>\n",
       "      <td>2022-12-29 18:31:13</td>\n",
       "      <td>NaN</td>\n",
       "    </tr>\n",
       "    <tr>\n",
       "      <th>1416642</th>\n",
       "      <td>2022-12-29 18:31:14</td>\n",
       "      <td>111035.0</td>\n",
       "    </tr>\n",
       "  </tbody>\n",
       "</table>\n",
       "<p>2401284 rows × 2 columns</p>\n",
       "</div>"
      ],
      "text/plain": [
       "                        Data     media\n",
       "0        2022-12-01 09:00:40  112490.0\n",
       "1        2022-12-01 09:00:41  112515.0\n",
       "2        2022-12-01 09:00:42  112555.0\n",
       "3        2022-12-01 09:00:43  112585.0\n",
       "4        2022-12-01 09:00:44  112572.5\n",
       "...                      ...       ...\n",
       "1416638  2022-12-29 18:31:10       NaN\n",
       "1416639  2022-12-29 18:31:11       NaN\n",
       "1416640  2022-12-29 18:31:12       NaN\n",
       "1416641  2022-12-29 18:31:13       NaN\n",
       "1416642  2022-12-29 18:31:14  111035.0\n",
       "\n",
       "[2401284 rows x 2 columns]"
      ]
     },
     "execution_count": 72,
     "metadata": {},
     "output_type": "execute_result"
    }
   ],
   "source": [
    "df_total"
   ]
  },
  {
   "cell_type": "code",
   "execution_count": 71,
   "metadata": {},
   "outputs": [
    {
     "data": {
      "text/html": [
       "<div>\n",
       "<style scoped>\n",
       "    .dataframe tbody tr th:only-of-type {\n",
       "        vertical-align: middle;\n",
       "    }\n",
       "\n",
       "    .dataframe tbody tr th {\n",
       "        vertical-align: top;\n",
       "    }\n",
       "\n",
       "    .dataframe thead th {\n",
       "        text-align: right;\n",
       "    }\n",
       "</style>\n",
       "<table border=\"1\" class=\"dataframe\">\n",
       "  <thead>\n",
       "    <tr style=\"text-align: right;\">\n",
       "      <th></th>\n",
       "      <th>Data</th>\n",
       "      <th>media</th>\n",
       "    </tr>\n",
       "  </thead>\n",
       "  <tbody>\n",
       "    <tr>\n",
       "      <th>0</th>\n",
       "      <td>2022-11-01 09:00:32</td>\n",
       "      <td>118140.0</td>\n",
       "    </tr>\n",
       "    <tr>\n",
       "      <th>1</th>\n",
       "      <td>2022-11-01 09:00:33</td>\n",
       "      <td>118270.0</td>\n",
       "    </tr>\n",
       "    <tr>\n",
       "      <th>2</th>\n",
       "      <td>2022-11-01 09:00:34</td>\n",
       "      <td>118305.0</td>\n",
       "    </tr>\n",
       "    <tr>\n",
       "      <th>3</th>\n",
       "      <td>2022-11-01 09:00:35</td>\n",
       "      <td>118145.0</td>\n",
       "    </tr>\n",
       "    <tr>\n",
       "      <th>4</th>\n",
       "      <td>2022-11-01 09:00:36</td>\n",
       "      <td>118137.5</td>\n",
       "    </tr>\n",
       "    <tr>\n",
       "      <th>...</th>\n",
       "      <td>...</td>\n",
       "      <td>...</td>\n",
       "    </tr>\n",
       "    <tr>\n",
       "      <th>2539463</th>\n",
       "      <td>2022-11-30 18:24:55</td>\n",
       "      <td>112972.5</td>\n",
       "    </tr>\n",
       "    <tr>\n",
       "      <th>2539464</th>\n",
       "      <td>2022-11-30 18:24:56</td>\n",
       "      <td>112982.5</td>\n",
       "    </tr>\n",
       "    <tr>\n",
       "      <th>2539465</th>\n",
       "      <td>2022-11-30 18:24:57</td>\n",
       "      <td>112990.0</td>\n",
       "    </tr>\n",
       "    <tr>\n",
       "      <th>2539466</th>\n",
       "      <td>2022-11-30 18:24:58</td>\n",
       "      <td>112990.0</td>\n",
       "    </tr>\n",
       "    <tr>\n",
       "      <th>2539467</th>\n",
       "      <td>2022-11-30 18:24:59</td>\n",
       "      <td>112990.0</td>\n",
       "    </tr>\n",
       "  </tbody>\n",
       "</table>\n",
       "<p>2539468 rows × 2 columns</p>\n",
       "</div>"
      ],
      "text/plain": [
       "                       Data     media\n",
       "0       2022-11-01 09:00:32  118140.0\n",
       "1       2022-11-01 09:00:33  118270.0\n",
       "2       2022-11-01 09:00:34  118305.0\n",
       "3       2022-11-01 09:00:35  118145.0\n",
       "4       2022-11-01 09:00:36  118137.5\n",
       "...                     ...       ...\n",
       "2539463 2022-11-30 18:24:55  112972.5\n",
       "2539464 2022-11-30 18:24:56  112982.5\n",
       "2539465 2022-11-30 18:24:57  112990.0\n",
       "2539466 2022-11-30 18:24:58  112990.0\n",
       "2539467 2022-11-30 18:24:59  112990.0\n",
       "\n",
       "[2539468 rows x 2 columns]"
      ]
     },
     "execution_count": 71,
     "metadata": {},
     "output_type": "execute_result"
    }
   ],
   "source": [
    "df_ticks"
   ]
  },
  {
   "cell_type": "code",
   "execution_count": 73,
   "metadata": {},
   "outputs": [],
   "source": [
    "df_new = pd.concat([df_ticks,df_total])"
   ]
  },
  {
   "cell_type": "code",
   "execution_count": 75,
   "metadata": {},
   "outputs": [],
   "source": [
    "df_new.to_csv('tick_win_11_12.csv')"
   ]
  },
  {
   "cell_type": "code",
   "execution_count": null,
   "metadata": {},
   "outputs": [],
   "source": []
  }
 ],
 "metadata": {
  "kernelspec": {
   "display_name": "Python 3",
   "language": "python",
   "name": "python3"
  },
  "language_info": {
   "codemirror_mode": {
    "name": "ipython",
    "version": 3
   },
   "file_extension": ".py",
   "mimetype": "text/x-python",
   "name": "python",
   "nbconvert_exporter": "python",
   "pygments_lexer": "ipython3",
   "version": "3.10.4"
  },
  "orig_nbformat": 4,
  "vscode": {
   "interpreter": {
    "hash": "3e680e901da43b1ff7896a65bb9fdc0d88fdcb475def19e54fa2d4ad7c5b5275"
   }
  }
 },
 "nbformat": 4,
 "nbformat_minor": 2
}
