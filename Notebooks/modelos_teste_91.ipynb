{
 "cells": [
  {
   "cell_type": "code",
   "execution_count": 1,
   "metadata": {},
   "outputs": [],
   "source": [
    "import pandas as pd\n",
    "import talib as ta\n",
    "import matplotlib.pyplot as plt\n",
    "import warnings\n",
    "import lightgbm as lgb\n",
    "from workflow import main_indicators,Larry_simples_inverso,Larry_simples_compra,Larry_completo\n",
    "from sklearn.model_selection import train_test_split\n",
    "import plotly.express as px\n",
    "from datetime import datetime\n",
    "warnings.filterwarnings(\"ignore\")"
   ]
  },
  {
   "cell_type": "code",
   "execution_count": 12,
   "metadata": {},
   "outputs": [],
   "source": [
    "ativo = 'win_15_full'\n",
    "colnames = ['Data','Open','High','Low','Close','Vol']\n",
    "df = pd.read_csv(f'./Dados/{ativo}.csv', names = colnames, skiprows=1)\n",
    "\n",
    "#df = df.iloc[:1000]"
   ]
  },
  {
   "cell_type": "code",
   "execution_count": 2,
   "metadata": {},
   "outputs": [],
   "source": [
    "ativo = 'EURUSD1'\n",
    "colnames = ['Data','Open','High','Low','Close','Vol']\n",
    "df = pd.read_csv(f'./Dados/{ativo}.csv', sep = '\\t', names = colnames)"
   ]
  },
  {
   "cell_type": "code",
   "execution_count": 13,
   "metadata": {},
   "outputs": [
    {
     "name": "stdout",
     "output_type": "stream",
     "text": [
      "Venda: 0.5069486404833837% -- Compra: 0.530705079605762%\n",
      "Venda: 35800.0 -- Compra: 78830.0\n"
     ]
    }
   ],
   "source": [
    "df = main_indicators(df)\n",
    "\n",
    "df_acao = Larry_completo(df, tempo_fechar=-5, excluir_seguidos = True, acao = 'all', x_stop = 2)\n",
    "\n",
    "#df_acao = df_acao[df_acao['tend'] == 0]\n",
    "\n",
    "compra = df_acao[df_acao['acao'] =='call']['resultado_binario'].sum()/df_acao[df_acao['acao'] =='call'].shape[0]\n",
    "venda = df_acao[df_acao['acao'] =='sell']['resultado_binario'].sum()/df_acao[df_acao['acao'] =='sell'].shape[0]\n",
    "\n",
    "compra_result = df_acao[df_acao['acao'] =='call']['resultado_valor'].sum()\n",
    "venda_result = df_acao[df_acao['acao'] =='sell']['resultado_valor'].sum()\n",
    "\n",
    "print(f'Venda: {venda}% -- Compra: {compra}%')\n",
    "print(f'Venda: {venda_result} -- Compra: {compra_result}')"
   ]
  },
  {
   "cell_type": "code",
   "execution_count": 15,
   "metadata": {},
   "outputs": [],
   "source": [
    "df_acao = df_acao.drop(columns = ['MA_9_diff_value', 'MA_9_tend', 'MA_9_tend_diff', 'preco','stop', 'realizacao_simplista', 'stop_real', 'tend'])"
   ]
  },
  {
   "cell_type": "code",
   "execution_count": 22,
   "metadata": {},
   "outputs": [],
   "source": [
    "df_train = df_acao.set_index(['Data','resultado_valor'])\n",
    "\n",
    "y = df_train['resultado_binario']\n",
    "train = df_train.drop(columns = ['resultado_binario','acao'])"
   ]
  },
  {
   "cell_type": "code",
   "execution_count": 30,
   "metadata": {},
   "outputs": [],
   "source": [
    "from sklearn.ensemble import ExtraTreesClassifier\n",
    "from sklearn.model_selection import train_test_split\n",
    "import lightgbm as lgb"
   ]
  },
  {
   "cell_type": "code",
   "execution_count": 27,
   "metadata": {},
   "outputs": [],
   "source": [
    "x_train, x_test, y_train, y_test = train_test_split(train, y, test_size=0.3)"
   ]
  },
  {
   "cell_type": "code",
   "execution_count": 31,
   "metadata": {},
   "outputs": [
    {
     "name": "stdout",
     "output_type": "stream",
     "text": [
      "LightGBM Model accuracy score: 0.4647\n",
      "Training set score: 0.9933\n",
      "Test set score: 0.4647\n"
     ]
    }
   ],
   "source": [
    "clf = lgb.LGBMClassifier()\n",
    "clf.fit(x_train, y_train)\n",
    "\n",
    "# predict the results\n",
    "y_pred=clf.predict(x_test)\n",
    "\n",
    "# view accuracy\n",
    "from sklearn.metrics import accuracy_score\n",
    "accuracy=accuracy_score(y_pred, y_test)\n",
    "print('LightGBM Model accuracy score: {0:0.4f}'.format(accuracy_score(y_test, y_pred)))\n",
    "\n",
    "print('Training set score: {:.4f}'.format(clf.score(x_train, y_train)))\n",
    "\n",
    "print('Test set score: {:.4f}'.format(clf.score(x_test, y_test)))"
   ]
  },
  {
   "cell_type": "code",
   "execution_count": 33,
   "metadata": {},
   "outputs": [
    {
     "data": {
      "text/plain": [
       "0.5174848688634835"
      ]
     },
     "execution_count": 33,
     "metadata": {},
     "output_type": "execute_result"
    }
   ],
   "source": [
    "df_train['resultado_binario'].sum()/df_train.shape[0]"
   ]
  },
  {
   "cell_type": "code",
   "execution_count": null,
   "metadata": {},
   "outputs": [],
   "source": []
  }
 ],
 "metadata": {
  "kernelspec": {
   "display_name": "Python 3",
   "language": "python",
   "name": "python3"
  },
  "language_info": {
   "codemirror_mode": {
    "name": "ipython",
    "version": 3
   },
   "file_extension": ".py",
   "mimetype": "text/x-python",
   "name": "python",
   "nbconvert_exporter": "python",
   "pygments_lexer": "ipython3",
   "version": "3.10.4"
  },
  "orig_nbformat": 4,
  "vscode": {
   "interpreter": {
    "hash": "3e680e901da43b1ff7896a65bb9fdc0d88fdcb475def19e54fa2d4ad7c5b5275"
   }
  }
 },
 "nbformat": 4,
 "nbformat_minor": 2
}
