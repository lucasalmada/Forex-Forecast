{
 "cells": [
  {
   "cell_type": "code",
   "execution_count": 2,
   "metadata": {},
   "outputs": [],
   "source": [
    "import MetaTrader5 as mt5\n",
    "import pandas as pd"
   ]
  },
  {
   "cell_type": "code",
   "execution_count": 3,
   "metadata": {},
   "outputs": [],
   "source": [
    "if not mt5.initialize():\n",
    "    print(\"initialize() failed\")\n",
    "    mt5.shutdown()"
   ]
  },
  {
   "cell_type": "code",
   "execution_count": 6,
   "metadata": {},
   "outputs": [
    {
     "data": {
      "text/html": [
       "<div>\n",
       "<style scoped>\n",
       "    .dataframe tbody tr th:only-of-type {\n",
       "        vertical-align: middle;\n",
       "    }\n",
       "\n",
       "    .dataframe tbody tr th {\n",
       "        vertical-align: top;\n",
       "    }\n",
       "\n",
       "    .dataframe thead th {\n",
       "        text-align: right;\n",
       "    }\n",
       "</style>\n",
       "<table border=\"1\" class=\"dataframe\">\n",
       "  <thead>\n",
       "    <tr style=\"text-align: right;\">\n",
       "      <th></th>\n",
       "      <th>time</th>\n",
       "      <th>open</th>\n",
       "      <th>high</th>\n",
       "      <th>low</th>\n",
       "      <th>close</th>\n",
       "      <th>tick_volume</th>\n",
       "      <th>spread</th>\n",
       "      <th>real_volume</th>\n",
       "      <th>data</th>\n",
       "    </tr>\n",
       "  </thead>\n",
       "  <tbody>\n",
       "    <tr>\n",
       "      <th>75140</th>\n",
       "      <td>1641168000</td>\n",
       "      <td>1.13709</td>\n",
       "      <td>1.13730</td>\n",
       "      <td>1.13654</td>\n",
       "      <td>1.13719</td>\n",
       "      <td>121</td>\n",
       "      <td>10</td>\n",
       "      <td>0</td>\n",
       "      <td>2022-01-03 00:00:00</td>\n",
       "    </tr>\n",
       "    <tr>\n",
       "      <th>75141</th>\n",
       "      <td>1641168900</td>\n",
       "      <td>1.13721</td>\n",
       "      <td>1.13723</td>\n",
       "      <td>1.13701</td>\n",
       "      <td>1.13719</td>\n",
       "      <td>95</td>\n",
       "      <td>29</td>\n",
       "      <td>0</td>\n",
       "      <td>2022-01-03 00:15:00</td>\n",
       "    </tr>\n",
       "    <tr>\n",
       "      <th>75142</th>\n",
       "      <td>1641169800</td>\n",
       "      <td>1.13673</td>\n",
       "      <td>1.13719</td>\n",
       "      <td>1.13673</td>\n",
       "      <td>1.13719</td>\n",
       "      <td>21</td>\n",
       "      <td>66</td>\n",
       "      <td>0</td>\n",
       "      <td>2022-01-03 00:30:00</td>\n",
       "    </tr>\n",
       "    <tr>\n",
       "      <th>75143</th>\n",
       "      <td>1641170700</td>\n",
       "      <td>1.13719</td>\n",
       "      <td>1.13724</td>\n",
       "      <td>1.13705</td>\n",
       "      <td>1.13707</td>\n",
       "      <td>31</td>\n",
       "      <td>31</td>\n",
       "      <td>0</td>\n",
       "      <td>2022-01-03 00:45:00</td>\n",
       "    </tr>\n",
       "    <tr>\n",
       "      <th>75144</th>\n",
       "      <td>1641171600</td>\n",
       "      <td>1.13707</td>\n",
       "      <td>1.13781</td>\n",
       "      <td>1.13692</td>\n",
       "      <td>1.13724</td>\n",
       "      <td>1176</td>\n",
       "      <td>11</td>\n",
       "      <td>0</td>\n",
       "      <td>2022-01-03 01:00:00</td>\n",
       "    </tr>\n",
       "    <tr>\n",
       "      <th>...</th>\n",
       "      <td>...</td>\n",
       "      <td>...</td>\n",
       "      <td>...</td>\n",
       "      <td>...</td>\n",
       "      <td>...</td>\n",
       "      <td>...</td>\n",
       "      <td>...</td>\n",
       "      <td>...</td>\n",
       "      <td>...</td>\n",
       "    </tr>\n",
       "    <tr>\n",
       "      <th>99994</th>\n",
       "      <td>1672440300</td>\n",
       "      <td>1.07018</td>\n",
       "      <td>1.07077</td>\n",
       "      <td>1.07014</td>\n",
       "      <td>1.07049</td>\n",
       "      <td>1015</td>\n",
       "      <td>11</td>\n",
       "      <td>0</td>\n",
       "      <td>2022-12-30 22:45:00</td>\n",
       "    </tr>\n",
       "    <tr>\n",
       "      <th>99995</th>\n",
       "      <td>1672441200</td>\n",
       "      <td>1.07050</td>\n",
       "      <td>1.07068</td>\n",
       "      <td>1.07016</td>\n",
       "      <td>1.07029</td>\n",
       "      <td>531</td>\n",
       "      <td>11</td>\n",
       "      <td>0</td>\n",
       "      <td>2022-12-30 23:00:00</td>\n",
       "    </tr>\n",
       "    <tr>\n",
       "      <th>99996</th>\n",
       "      <td>1672442100</td>\n",
       "      <td>1.07030</td>\n",
       "      <td>1.07041</td>\n",
       "      <td>1.06995</td>\n",
       "      <td>1.07036</td>\n",
       "      <td>439</td>\n",
       "      <td>13</td>\n",
       "      <td>0</td>\n",
       "      <td>2022-12-30 23:15:00</td>\n",
       "    </tr>\n",
       "    <tr>\n",
       "      <th>99997</th>\n",
       "      <td>1672443000</td>\n",
       "      <td>1.07036</td>\n",
       "      <td>1.07038</td>\n",
       "      <td>1.07005</td>\n",
       "      <td>1.07020</td>\n",
       "      <td>348</td>\n",
       "      <td>11</td>\n",
       "      <td>0</td>\n",
       "      <td>2022-12-30 23:30:00</td>\n",
       "    </tr>\n",
       "    <tr>\n",
       "      <th>99998</th>\n",
       "      <td>1672443900</td>\n",
       "      <td>1.07019</td>\n",
       "      <td>1.07025</td>\n",
       "      <td>1.06936</td>\n",
       "      <td>1.07016</td>\n",
       "      <td>376</td>\n",
       "      <td>11</td>\n",
       "      <td>0</td>\n",
       "      <td>2022-12-30 23:45:00</td>\n",
       "    </tr>\n",
       "  </tbody>\n",
       "</table>\n",
       "<p>24859 rows × 9 columns</p>\n",
       "</div>"
      ],
      "text/plain": [
       "             time     open     high      low    close  tick_volume  spread  \\\n",
       "75140  1641168000  1.13709  1.13730  1.13654  1.13719          121      10   \n",
       "75141  1641168900  1.13721  1.13723  1.13701  1.13719           95      29   \n",
       "75142  1641169800  1.13673  1.13719  1.13673  1.13719           21      66   \n",
       "75143  1641170700  1.13719  1.13724  1.13705  1.13707           31      31   \n",
       "75144  1641171600  1.13707  1.13781  1.13692  1.13724         1176      11   \n",
       "...           ...      ...      ...      ...      ...          ...     ...   \n",
       "99994  1672440300  1.07018  1.07077  1.07014  1.07049         1015      11   \n",
       "99995  1672441200  1.07050  1.07068  1.07016  1.07029          531      11   \n",
       "99996  1672442100  1.07030  1.07041  1.06995  1.07036          439      13   \n",
       "99997  1672443000  1.07036  1.07038  1.07005  1.07020          348      11   \n",
       "99998  1672443900  1.07019  1.07025  1.06936  1.07016          376      11   \n",
       "\n",
       "       real_volume                data  \n",
       "75140            0 2022-01-03 00:00:00  \n",
       "75141            0 2022-01-03 00:15:00  \n",
       "75142            0 2022-01-03 00:30:00  \n",
       "75143            0 2022-01-03 00:45:00  \n",
       "75144            0 2022-01-03 01:00:00  \n",
       "...            ...                 ...  \n",
       "99994            0 2022-12-30 22:45:00  \n",
       "99995            0 2022-12-30 23:00:00  \n",
       "99996            0 2022-12-30 23:15:00  \n",
       "99997            0 2022-12-30 23:30:00  \n",
       "99998            0 2022-12-30 23:45:00  \n",
       "\n",
       "[24859 rows x 9 columns]"
      ]
     },
     "execution_count": 6,
     "metadata": {},
     "output_type": "execute_result"
    }
   ],
   "source": [
    "ativo = 'EURUSD'\n",
    "df1 = pd.DataFrame(mt5.copy_rates_from_pos(ativo, mt5.TIMEFRAME_M15, 0,99999))\n",
    "df1['data'] = pd.to_datetime(df1['time'], unit='s')\n",
    "df1 = df1[df1['data'] > '2022-01-01']\n",
    "df1"
   ]
  },
  {
   "cell_type": "code",
   "execution_count": 18,
   "metadata": {},
   "outputs": [
    {
     "ename": "KeyError",
     "evalue": "'time'",
     "output_type": "error",
     "traceback": [
      "\u001b[1;31m---------------------------------------------------------------------------\u001b[0m",
      "\u001b[1;31mKeyError\u001b[0m                                  Traceback (most recent call last)",
      "File \u001b[1;32mc:\\Users\\Usuário\\AppData\\Local\\Programs\\Python\\Python310\\lib\\site-packages\\pandas\\core\\indexes\\base.py:3621\u001b[0m, in \u001b[0;36mIndex.get_loc\u001b[1;34m(self, key, method, tolerance)\u001b[0m\n\u001b[0;32m   3620\u001b[0m \u001b[39mtry\u001b[39;00m:\n\u001b[1;32m-> 3621\u001b[0m     \u001b[39mreturn\u001b[39;00m \u001b[39mself\u001b[39;49m\u001b[39m.\u001b[39;49m_engine\u001b[39m.\u001b[39;49mget_loc(casted_key)\n\u001b[0;32m   3622\u001b[0m \u001b[39mexcept\u001b[39;00m \u001b[39mKeyError\u001b[39;00m \u001b[39mas\u001b[39;00m err:\n",
      "File \u001b[1;32mc:\\Users\\Usuário\\AppData\\Local\\Programs\\Python\\Python310\\lib\\site-packages\\pandas\\_libs\\index.pyx:136\u001b[0m, in \u001b[0;36mpandas._libs.index.IndexEngine.get_loc\u001b[1;34m()\u001b[0m\n",
      "File \u001b[1;32mc:\\Users\\Usuário\\AppData\\Local\\Programs\\Python\\Python310\\lib\\site-packages\\pandas\\_libs\\index.pyx:163\u001b[0m, in \u001b[0;36mpandas._libs.index.IndexEngine.get_loc\u001b[1;34m()\u001b[0m\n",
      "File \u001b[1;32mpandas\\_libs\\hashtable_class_helper.pxi:5198\u001b[0m, in \u001b[0;36mpandas._libs.hashtable.PyObjectHashTable.get_item\u001b[1;34m()\u001b[0m\n",
      "File \u001b[1;32mpandas\\_libs\\hashtable_class_helper.pxi:5206\u001b[0m, in \u001b[0;36mpandas._libs.hashtable.PyObjectHashTable.get_item\u001b[1;34m()\u001b[0m\n",
      "\u001b[1;31mKeyError\u001b[0m: 'time'",
      "\nThe above exception was the direct cause of the following exception:\n",
      "\u001b[1;31mKeyError\u001b[0m                                  Traceback (most recent call last)",
      "\u001b[1;32mc:\\Users\\Usuário\\Documents\\Github\\Forex-Forecast\\Notebooks\\mt5.ipynb Cell 3\u001b[0m in \u001b[0;36m<cell line: 3>\u001b[1;34m()\u001b[0m\n\u001b[0;32m      <a href='vscode-notebook-cell:/c%3A/Users/Usu%C3%A1rio/Documents/Github/Forex-Forecast/Notebooks/mt5.ipynb#W2sZmlsZQ%3D%3D?line=0'>1</a>\u001b[0m ativo \u001b[39m=\u001b[39m \u001b[39m'\u001b[39m\u001b[39mEURUSD10\u001b[39m\u001b[39m'\u001b[39m\n\u001b[0;32m      <a href='vscode-notebook-cell:/c%3A/Users/Usu%C3%A1rio/Documents/Github/Forex-Forecast/Notebooks/mt5.ipynb#W2sZmlsZQ%3D%3D?line=1'>2</a>\u001b[0m df1 \u001b[39m=\u001b[39m pd\u001b[39m.\u001b[39mDataFrame(mt5\u001b[39m.\u001b[39mcopy_rates_from_pos(ativo, mt5\u001b[39m.\u001b[39mTIMEFRAME_M10, \u001b[39m0\u001b[39m,\u001b[39m13700\u001b[39m))\n\u001b[1;32m----> <a href='vscode-notebook-cell:/c%3A/Users/Usu%C3%A1rio/Documents/Github/Forex-Forecast/Notebooks/mt5.ipynb#W2sZmlsZQ%3D%3D?line=2'>3</a>\u001b[0m df1[\u001b[39m'\u001b[39m\u001b[39mdata\u001b[39m\u001b[39m'\u001b[39m] \u001b[39m=\u001b[39m pd\u001b[39m.\u001b[39mto_datetime(df1[\u001b[39m'\u001b[39;49m\u001b[39mtime\u001b[39;49m\u001b[39m'\u001b[39;49m], unit\u001b[39m=\u001b[39m\u001b[39m'\u001b[39m\u001b[39ms\u001b[39m\u001b[39m'\u001b[39m)\n\u001b[0;32m      <a href='vscode-notebook-cell:/c%3A/Users/Usu%C3%A1rio/Documents/Github/Forex-Forecast/Notebooks/mt5.ipynb#W2sZmlsZQ%3D%3D?line=3'>4</a>\u001b[0m df1\n",
      "File \u001b[1;32mc:\\Users\\Usuário\\AppData\\Local\\Programs\\Python\\Python310\\lib\\site-packages\\pandas\\core\\frame.py:3505\u001b[0m, in \u001b[0;36mDataFrame.__getitem__\u001b[1;34m(self, key)\u001b[0m\n\u001b[0;32m   3503\u001b[0m \u001b[39mif\u001b[39;00m \u001b[39mself\u001b[39m\u001b[39m.\u001b[39mcolumns\u001b[39m.\u001b[39mnlevels \u001b[39m>\u001b[39m \u001b[39m1\u001b[39m:\n\u001b[0;32m   3504\u001b[0m     \u001b[39mreturn\u001b[39;00m \u001b[39mself\u001b[39m\u001b[39m.\u001b[39m_getitem_multilevel(key)\n\u001b[1;32m-> 3505\u001b[0m indexer \u001b[39m=\u001b[39m \u001b[39mself\u001b[39;49m\u001b[39m.\u001b[39;49mcolumns\u001b[39m.\u001b[39;49mget_loc(key)\n\u001b[0;32m   3506\u001b[0m \u001b[39mif\u001b[39;00m is_integer(indexer):\n\u001b[0;32m   3507\u001b[0m     indexer \u001b[39m=\u001b[39m [indexer]\n",
      "File \u001b[1;32mc:\\Users\\Usuário\\AppData\\Local\\Programs\\Python\\Python310\\lib\\site-packages\\pandas\\core\\indexes\\base.py:3623\u001b[0m, in \u001b[0;36mIndex.get_loc\u001b[1;34m(self, key, method, tolerance)\u001b[0m\n\u001b[0;32m   3621\u001b[0m     \u001b[39mreturn\u001b[39;00m \u001b[39mself\u001b[39m\u001b[39m.\u001b[39m_engine\u001b[39m.\u001b[39mget_loc(casted_key)\n\u001b[0;32m   3622\u001b[0m \u001b[39mexcept\u001b[39;00m \u001b[39mKeyError\u001b[39;00m \u001b[39mas\u001b[39;00m err:\n\u001b[1;32m-> 3623\u001b[0m     \u001b[39mraise\u001b[39;00m \u001b[39mKeyError\u001b[39;00m(key) \u001b[39mfrom\u001b[39;00m \u001b[39merr\u001b[39;00m\n\u001b[0;32m   3624\u001b[0m \u001b[39mexcept\u001b[39;00m \u001b[39mTypeError\u001b[39;00m:\n\u001b[0;32m   3625\u001b[0m     \u001b[39m# If we have a listlike key, _check_indexing_error will raise\u001b[39;00m\n\u001b[0;32m   3626\u001b[0m     \u001b[39m#  InvalidIndexError. Otherwise we fall through and re-raise\u001b[39;00m\n\u001b[0;32m   3627\u001b[0m     \u001b[39m#  the TypeError.\u001b[39;00m\n\u001b[0;32m   3628\u001b[0m     \u001b[39mself\u001b[39m\u001b[39m.\u001b[39m_check_indexing_error(key)\n",
      "\u001b[1;31mKeyError\u001b[0m: 'time'"
     ]
    }
   ],
   "source": [
    "ativo = 'WIN@N'\n",
    "df1 = pd.DataFrame(mt5.copy_rates_from_pos(ativo, mt5.TIMEFRAME_M10, 0,13700))\n",
    "df1['data'] = pd.to_datetime(df1['time'], unit='s')\n",
    "df1"
   ]
  },
  {
   "cell_type": "code",
   "execution_count": 11,
   "metadata": {},
   "outputs": [],
   "source": [
    "df = df1[['data','open','high','low','close','real_volume']]\n",
    "df = df.rename(columns = {'real_volume':'vol'})"
   ]
  },
  {
   "cell_type": "code",
   "execution_count": 12,
   "metadata": {},
   "outputs": [],
   "source": [
    "df.to_csv('EURUSD15_new.csv', index = False)"
   ]
  },
  {
   "cell_type": "code",
   "execution_count": 65,
   "metadata": {},
   "outputs": [
    {
     "data": {
      "text/html": [
       "<div>\n",
       "<style scoped>\n",
       "    .dataframe tbody tr th:only-of-type {\n",
       "        vertical-align: middle;\n",
       "    }\n",
       "\n",
       "    .dataframe tbody tr th {\n",
       "        vertical-align: top;\n",
       "    }\n",
       "\n",
       "    .dataframe thead th {\n",
       "        text-align: right;\n",
       "    }\n",
       "</style>\n",
       "<table border=\"1\" class=\"dataframe\">\n",
       "  <thead>\n",
       "    <tr style=\"text-align: right;\">\n",
       "      <th></th>\n",
       "    </tr>\n",
       "  </thead>\n",
       "  <tbody>\n",
       "  </tbody>\n",
       "</table>\n",
       "</div>"
      ],
      "text/plain": [
       "Empty DataFrame\n",
       "Columns: []\n",
       "Index: []"
      ]
     },
     "execution_count": 65,
     "metadata": {},
     "output_type": "execute_result"
    }
   ],
   "source": [
    "df1"
   ]
  },
  {
   "attachments": {},
   "cell_type": "markdown",
   "metadata": {},
   "source": [
    "#### Verificar posições abertas"
   ]
  },
  {
   "cell_type": "code",
   "execution_count": 30,
   "metadata": {},
   "outputs": [],
   "source": [
    "import time"
   ]
  },
  {
   "cell_type": "code",
   "execution_count": 31,
   "metadata": {},
   "outputs": [
    {
     "name": "stdout",
     "output_type": "stream",
     "text": [
      "OrderSendResult(retcode=10009, deal=0, order=0, volume=0.0, price=0.0, bid=0.0, ask=0.0, comment='Request executed', request_id=11, retcode_external=0, request=TradeRequest(action=6, magic=0, order=0, symbol='EURUSD', volume=1.0, price=1.08584, stoplimit=0.0, sl=1.08556, tp=0.0, deviation=0, type=1, type_filling=1, type_time=0, expiration=0, comment='', position=1566045347, position_by=0))\n",
      "OrderSendResult(retcode=10009, deal=0, order=0, volume=0.0, price=0.0, bid=0.0, ask=0.0, comment='Request executed', request_id=13, retcode_external=0, request=TradeRequest(action=6, magic=0, order=0, symbol='EURUSD', volume=1.0, price=1.08584, stoplimit=0.0, sl=1.08614, tp=0.0, deviation=0, type=1, type_filling=1, type_time=0, expiration=0, comment='', position=1566045347, position_by=0))\n",
      "OrderSendResult(retcode=10009, deal=0, order=0, volume=0.0, price=0.0, bid=0.0, ask=0.0, comment='Request executed', request_id=14, retcode_external=0, request=TradeRequest(action=6, magic=0, order=0, symbol='EURUSD', volume=1.0, price=1.08584, stoplimit=0.0, sl=1.08564, tp=0.0, deviation=0, type=1, type_filling=1, type_time=0, expiration=0, comment='', position=1566045347, position_by=0))\n"
     ]
    },
    {
     "ename": "KeyboardInterrupt",
     "evalue": "",
     "output_type": "error",
     "traceback": [
      "\u001b[1;31m---------------------------------------------------------------------------\u001b[0m",
      "\u001b[1;31mKeyboardInterrupt\u001b[0m                         Traceback (most recent call last)",
      "\u001b[1;32mc:\\Users\\Usuário\\Documents\\Github\\Forex-Forecast\\Notebooks\\mt5.ipynb Cell 10\u001b[0m in \u001b[0;36m<cell line: 1>\u001b[1;34m()\u001b[0m\n\u001b[0;32m     <a href='vscode-notebook-cell:/c%3A/Users/Usu%C3%A1rio/Documents/Github/Forex-Forecast/Notebooks/mt5.ipynb#X10sZmlsZQ%3D%3D?line=48'>49</a>\u001b[0m             \u001b[39mprint\u001b[39m(information)\n\u001b[0;32m     <a href='vscode-notebook-cell:/c%3A/Users/Usu%C3%A1rio/Documents/Github/Forex-Forecast/Notebooks/mt5.ipynb#X10sZmlsZQ%3D%3D?line=50'>51</a>\u001b[0m     \u001b[39m#summary = pd.concat((summary, element_pandas), axis=0)\u001b[39;00m\n\u001b[1;32m---> <a href='vscode-notebook-cell:/c%3A/Users/Usu%C3%A1rio/Documents/Github/Forex-Forecast/Notebooks/mt5.ipynb#X10sZmlsZQ%3D%3D?line=52'>53</a>\u001b[0m time\u001b[39m.\u001b[39;49msleep(\u001b[39m2\u001b[39;49m)\n",
      "\u001b[1;31mKeyboardInterrupt\u001b[0m: "
     ]
    }
   ],
   "source": [
    "\n",
    "while True:\n",
    "    #colonnes = [\"ticket\", \"position\", \"symbol\", \"volume\", \"magic\", \"profit\", \"pip_diff\", \"tp\", \"sl\",\"trade_size\"]\n",
    "    # Pega as posições em aberto\n",
    "    liste = mt5.positions_get()\n",
    "    for element in liste:\n",
    "        '''element_pandas = pd.DataFrame([element.ticket, element.type, element.symbol, element.volume, element.magic,\n",
    "                                        element.profit, element.price_current - element.price_open, element.tp,\n",
    "                                        element.sl, mt5.symbol_info(element.symbol).trade_contract_size],\n",
    "                                        index=colonnes).transpose()'''\n",
    "\n",
    "        pip_diff = abs(element.sl - element.price_current)\n",
    "        symbol = element.symbol\n",
    "        position = element.type\n",
    "        vol = element.volume\n",
    "        price = element.price_open\n",
    "        sl = element.sl\n",
    "        ticket = element.ticket\n",
    "\n",
    "        if pip_diff > 0.0005 * 2:\n",
    "\n",
    "            if position == 0:\n",
    "                request = {\n",
    "                \"action\": mt5.TRADE_ACTION_SLTP,\n",
    "                \"symbol\": symbol,\n",
    "                \"position\": ticket,\n",
    "                \"volume\": vol,\n",
    "                \"type\": mt5.ORDER_TYPE_BUY,\n",
    "                \"price\": price,\n",
    "                \"sl\": sl + 0.0005,\n",
    "                \"type_filling\": mt5.ORDER_FILLING_IOC,\n",
    "                \"type_time\": mt5.ORDER_TIME_GTC,\n",
    "                }\n",
    "                information = mt5.order_send(request)\n",
    "                print(information)\n",
    "\n",
    "            else:\n",
    "                request = {\n",
    "                \"action\": mt5.TRADE_ACTION_SLTP,\n",
    "                \"symbol\": symbol,\n",
    "                \"position\": ticket,\n",
    "                \"volume\": vol,\n",
    "                \"type\": mt5.ORDER_TYPE_SELL,\n",
    "                \"price\": price,\n",
    "                \"sl\": sl - 0.0005,\n",
    "                \"type_filling\": mt5.ORDER_FILLING_IOC,\n",
    "                \"type_time\": mt5.ORDER_TIME_GTC,\n",
    "                }\n",
    "                information = mt5.order_send(request)\n",
    "                print(information)\n",
    "\n",
    "        #summary = pd.concat((summary, element_pandas), axis=0)\n",
    "\n",
    "    time.sleep(2)"
   ]
  },
  {
   "cell_type": "code",
   "execution_count": 22,
   "metadata": {},
   "outputs": [
    {
     "data": {
      "text/plain": [
       "1"
      ]
     },
     "execution_count": 22,
     "metadata": {},
     "output_type": "execute_result"
    }
   ],
   "source": [
    "mt5.symbol_info('GBPUSD').filling_mode"
   ]
  },
  {
   "cell_type": "code",
   "execution_count": 10,
   "metadata": {},
   "outputs": [
    {
     "data": {
      "text/html": [
       "<div>\n",
       "<style scoped>\n",
       "    .dataframe tbody tr th:only-of-type {\n",
       "        vertical-align: middle;\n",
       "    }\n",
       "\n",
       "    .dataframe tbody tr th {\n",
       "        vertical-align: top;\n",
       "    }\n",
       "\n",
       "    .dataframe thead th {\n",
       "        text-align: right;\n",
       "    }\n",
       "</style>\n",
       "<table border=\"1\" class=\"dataframe\">\n",
       "  <thead>\n",
       "    <tr style=\"text-align: right;\">\n",
       "      <th></th>\n",
       "      <th>ticket</th>\n",
       "      <th>position</th>\n",
       "      <th>symbol</th>\n",
       "      <th>volume</th>\n",
       "      <th>magic</th>\n",
       "      <th>profit</th>\n",
       "      <th>pip_diff</th>\n",
       "      <th>tp</th>\n",
       "      <th>sl</th>\n",
       "      <th>trade_size</th>\n",
       "    </tr>\n",
       "  </thead>\n",
       "  <tbody>\n",
       "    <tr>\n",
       "      <th>0</th>\n",
       "      <td>1566045347</td>\n",
       "      <td>1</td>\n",
       "      <td>EURUSD</td>\n",
       "      <td>1.0</td>\n",
       "      <td>0</td>\n",
       "      <td>15.0</td>\n",
       "      <td>-0.00015</td>\n",
       "      <td>0.0</td>\n",
       "      <td>0.0</td>\n",
       "      <td>100000.0</td>\n",
       "    </tr>\n",
       "  </tbody>\n",
       "</table>\n",
       "</div>"
      ],
      "text/plain": [
       "       ticket position  symbol volume magic profit pip_diff   tp   sl  \\\n",
       "0  1566045347        1  EURUSD    1.0     0   15.0 -0.00015  0.0  0.0   \n",
       "\n",
       "  trade_size  \n",
       "0   100000.0  "
      ]
     },
     "execution_count": 10,
     "metadata": {},
     "output_type": "execute_result"
    }
   ],
   "source": [
    "summary"
   ]
  },
  {
   "cell_type": "code",
   "execution_count": 11,
   "metadata": {},
   "outputs": [
    {
     "data": {
      "text/plain": [
       "TradePosition(ticket=1566045347, time=1673556364, time_msc=1673556364307, time_update=1673556364, time_update_msc=1673556364307, type=1, magic=0, identifier=1566045347, reason=0, volume=1.0, price_open=1.08584, sl=0.0, tp=0.0, price_current=1.08578, swap=0.0, profit=6.0, symbol='EURUSD', comment='', external_id='')"
      ]
     },
     "execution_count": 11,
     "metadata": {},
     "output_type": "execute_result"
    }
   ],
   "source": [
    "mt5.positions_get()[0]"
   ]
  },
  {
   "cell_type": "code",
   "execution_count": 17,
   "metadata": {},
   "outputs": [],
   "source": [
    "information"
   ]
  },
  {
   "cell_type": "code",
   "execution_count": 29,
   "metadata": {},
   "outputs": [
    {
     "name": "stdout",
     "output_type": "stream",
     "text": [
      "OrderSendResult(retcode=10009, deal=0, order=0, volume=0.0, price=0.0, bid=0.0, ask=0.0, comment='Request executed', request_id=6, retcode_external=0, request=TradeRequest(action=6, magic=0, order=0, symbol='EURUSD', volume=1.0, price=1.08584, stoplimit=0.0, sl=1.08795, tp=0.0, deviation=0, type=1, type_filling=1, type_time=0, expiration=0, comment='', position=1566045347, position_by=0))\n"
     ]
    }
   ],
   "source": [
    "request = {\n",
    "\"action\": mt5.TRADE_ACTION_SLTP,\n",
    "\"symbol\": symbol,\n",
    "\"position\": ticket,\n",
    "\"volume\": vol,\n",
    "\"type\": mt5.ORDER_TYPE_SELL,\n",
    "\"price\": price,\n",
    "\"sl\": 1.08795,\n",
    "\"type_filling\": mt5.ORDER_FILLING_IOC,\n",
    "\"type_time\": mt5.ORDER_TIME_GTC,\n",
    "}\n",
    "\n",
    "information = mt5.order_send(request)\n",
    "print(information)"
   ]
  },
  {
   "cell_type": "code",
   "execution_count": 25,
   "metadata": {},
   "outputs": [
    {
     "data": {
      "text/plain": [
       "1.0"
      ]
     },
     "execution_count": 25,
     "metadata": {},
     "output_type": "execute_result"
    }
   ],
   "source": [
    "vol"
   ]
  },
  {
   "cell_type": "code",
   "execution_count": null,
   "metadata": {},
   "outputs": [],
   "source": []
  }
 ],
 "metadata": {
  "kernelspec": {
   "display_name": "Python 3",
   "language": "python",
   "name": "python3"
  },
  "language_info": {
   "codemirror_mode": {
    "name": "ipython",
    "version": 3
   },
   "file_extension": ".py",
   "mimetype": "text/x-python",
   "name": "python",
   "nbconvert_exporter": "python",
   "pygments_lexer": "ipython3",
   "version": "3.10.4 (tags/v3.10.4:9d38120, Mar 23 2022, 23:13:41) [MSC v.1929 64 bit (AMD64)]"
  },
  "orig_nbformat": 4,
  "vscode": {
   "interpreter": {
    "hash": "3e680e901da43b1ff7896a65bb9fdc0d88fdcb475def19e54fa2d4ad7c5b5275"
   }
  }
 },
 "nbformat": 4,
 "nbformat_minor": 2
}
