{
 "cells": [
  {
   "cell_type": "code",
   "execution_count": null,
   "metadata": {},
   "outputs": [],
   "source": [
    "import MetaTrader5 as mt5\n",
    "import pandas as pd"
   ]
  },
  {
   "cell_type": "code",
   "execution_count": null,
   "metadata": {},
   "outputs": [],
   "source": [
    "if not mt5.initialize():\n",
    "    print(\"initialize() failed\")\n",
    "    mt5.shutdown()"
   ]
  },
  {
   "cell_type": "code",
   "execution_count": null,
   "metadata": {},
   "outputs": [],
   "source": [
    "ativo = 'EURUSD'\n",
    "df1 = pd.DataFrame(mt5.copy_rates_from_pos(ativo, mt5.TIMEFRAME_M15, 0,99999))\n",
    "df1['data'] = pd.to_datetime(df1['time'], unit='s')\n",
    "df1 = df1[df1['data'] > '2022-01-01']\n",
    "df1"
   ]
  },
  {
   "cell_type": "code",
   "execution_count": null,
   "metadata": {},
   "outputs": [],
   "source": [
    "ativo = 'WIN@N'\n",
    "df1 = pd.DataFrame(mt5.copy_rates_from_pos(ativo, mt5.TIMEFRAME_M10, 0,13700))\n",
    "df1['data'] = pd.to_datetime(df1['time'], unit='s')\n",
    "df1"
   ]
  },
  {
   "cell_type": "code",
   "execution_count": null,
   "metadata": {},
   "outputs": [],
   "source": [
    "df = df1[['data','open','high','low','close','real_volume']]\n",
    "df = df.rename(columns = {'real_volume':'vol'})"
   ]
  },
  {
   "cell_type": "code",
   "execution_count": null,
   "metadata": {},
   "outputs": [],
   "source": [
    "df.to_csv('EURUSD15_new.csv', index = False)"
   ]
  },
  {
   "cell_type": "code",
   "execution_count": null,
   "metadata": {},
   "outputs": [],
   "source": [
    "df1"
   ]
  },
  {
   "attachments": {},
   "cell_type": "markdown",
   "metadata": {},
   "source": [
    "#### Verificar posições abertas"
   ]
  },
  {
   "cell_type": "code",
   "execution_count": null,
   "metadata": {},
   "outputs": [],
   "source": [
    "import time"
   ]
  },
  {
   "cell_type": "code",
   "execution_count": null,
   "metadata": {},
   "outputs": [],
   "source": [
    "\n",
    "while True:\n",
    "    #colonnes = [\"ticket\", \"position\", \"symbol\", \"volume\", \"magic\", \"profit\", \"pip_diff\", \"tp\", \"sl\",\"trade_size\"]\n",
    "    # Pega as posições em aberto\n",
    "    liste = mt5.positions_get()\n",
    "    for element in liste:\n",
    "        '''element_pandas = pd.DataFrame([element.ticket, element.type, element.symbol, element.volume, element.magic,\n",
    "                                        element.profit, element.price_current - element.price_open, element.tp,\n",
    "                                        element.sl, mt5.symbol_info(element.symbol).trade_contract_size],\n",
    "                                        index=colonnes).transpose()'''\n",
    "\n",
    "        pip_diff = abs(element.sl - element.price_current)\n",
    "        symbol = element.symbol\n",
    "        position = element.type\n",
    "        vol = element.volume\n",
    "        price = element.price_open\n",
    "        sl = element.sl\n",
    "        ticket = element.ticket\n",
    "\n",
    "        if pip_diff > 0.0005 * 2:\n",
    "\n",
    "            if position == 0:\n",
    "                request = {\n",
    "                \"action\": mt5.TRADE_ACTION_SLTP,\n",
    "                \"symbol\": symbol,\n",
    "                \"position\": ticket,\n",
    "                \"volume\": vol,\n",
    "                \"type\": mt5.ORDER_TYPE_BUY,\n",
    "                \"price\": price,\n",
    "                \"sl\": sl + 0.0005,\n",
    "                \"type_filling\": mt5.ORDER_FILLING_IOC,\n",
    "                \"type_time\": mt5.ORDER_TIME_GTC,\n",
    "                }\n",
    "                information = mt5.order_send(request)\n",
    "                print(information)\n",
    "\n",
    "            else:\n",
    "                request = {\n",
    "                \"action\": mt5.TRADE_ACTION_SLTP,\n",
    "                \"symbol\": symbol,\n",
    "                \"position\": ticket,\n",
    "                \"volume\": vol,\n",
    "                \"type\": mt5.ORDER_TYPE_SELL,\n",
    "                \"price\": price,\n",
    "                \"sl\": sl - 0.0005,\n",
    "                \"type_filling\": mt5.ORDER_FILLING_IOC,\n",
    "                \"type_time\": mt5.ORDER_TIME_GTC,\n",
    "                }\n",
    "                information = mt5.order_send(request)\n",
    "                print(information)\n",
    "\n",
    "        #summary = pd.concat((summary, element_pandas), axis=0)\n",
    "\n",
    "    time.sleep(2)"
   ]
  },
  {
   "cell_type": "code",
   "execution_count": null,
   "metadata": {},
   "outputs": [],
   "source": [
    "mt5.symbol_info('GBPUSD').filling_mode"
   ]
  },
  {
   "cell_type": "code",
   "execution_count": null,
   "metadata": {},
   "outputs": [],
   "source": [
    "summary"
   ]
  },
  {
   "cell_type": "code",
   "execution_count": null,
   "metadata": {},
   "outputs": [],
   "source": [
    "information = mt5.positions_get()[0]"
   ]
  },
  {
   "cell_type": "code",
   "execution_count": null,
   "metadata": {},
   "outputs": [],
   "source": [
    "information.comment"
   ]
  },
  {
   "cell_type": "code",
   "execution_count": null,
   "metadata": {},
   "outputs": [],
   "source": [
    "request = {\n",
    "\"action\": mt5.TRADE_ACTION_SLTP,\n",
    "\"symbol\": symbol,\n",
    "\"position\": ticket,\n",
    "\"volume\": vol,\n",
    "\"type\": mt5.ORDER_TYPE_SELL,\n",
    "\"price\": price,\n",
    "\"sl\": 1.08795,\n",
    "\"type_filling\": mt5.ORDER_FILLING_IOC,\n",
    "\"type_time\": mt5.ORDER_TIME_GTC,\n",
    "}\n",
    "\n",
    "information = mt5.order_send(request)\n",
    "print(information)"
   ]
  },
  {
   "cell_type": "code",
   "execution_count": null,
   "metadata": {},
   "outputs": [],
   "source": [
    "vol"
   ]
  },
  {
   "cell_type": "code",
   "execution_count": null,
   "metadata": {},
   "outputs": [],
   "source": []
  }
 ],
 "metadata": {
  "kernelspec": {
   "display_name": "Python 3",
   "language": "python",
   "name": "python3"
  },
  "language_info": {
   "codemirror_mode": {
    "name": "ipython",
    "version": 3
   },
   "file_extension": ".py",
   "mimetype": "text/x-python",
   "name": "python",
   "nbconvert_exporter": "python",
   "pygments_lexer": "ipython3",
   "version": "3.10.4"
  },
  "orig_nbformat": 4,
  "vscode": {
   "interpreter": {
    "hash": "3e680e901da43b1ff7896a65bb9fdc0d88fdcb475def19e54fa2d4ad7c5b5275"
   }
  }
 },
 "nbformat": 4,
 "nbformat_minor": 2
}
