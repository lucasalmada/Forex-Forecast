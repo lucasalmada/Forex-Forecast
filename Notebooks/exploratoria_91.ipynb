{
 "cells": [
  {
   "cell_type": "code",
   "execution_count": 20,
   "metadata": {},
   "outputs": [],
   "source": [
    "import pandas as pd\n",
    "import talib as ta\n",
    "import matplotlib.pyplot as plt\n",
    "import warnings\n",
    "import lightgbm as lgb\n",
    "from workflow import main_indicators,Larry_simples_inverso,Larry_simples_compra,Larry_completo\n",
    "from sklearn.model_selection import train_test_split\n",
    "import plotly.express as px\n",
    "from datetime import datetime\n",
    "warnings.filterwarnings(\"ignore\")"
   ]
  },
  {
   "cell_type": "code",
   "execution_count": 2,
   "metadata": {},
   "outputs": [],
   "source": [
    "ativo = 'win_1_full'\n",
    "colnames = ['Data','Open','High','Low','Close','Vol']\n",
    "df = pd.read_csv(f'./Dados/{ativo}.csv', names = colnames, skiprows=1)\n",
    "\n",
    "#df = df.iloc[:1000]"
   ]
  },
  {
   "cell_type": "code",
   "execution_count": 21,
   "metadata": {},
   "outputs": [],
   "source": [
    "ativo = 'EURUSD1'\n",
    "colnames = ['Data','Open','High','Low','Close','Vol']\n",
    "df = pd.read_csv(f'./Dados/{ativo}.csv', sep = '\\t', names = colnames)"
   ]
  },
  {
   "cell_type": "code",
   "execution_count": 23,
   "metadata": {},
   "outputs": [
    {
     "name": "stdout",
     "output_type": "stream",
     "text": [
      "Venda: 0.49931493442943825% -- Compra: 0.4975279252884087%\n",
      "Venda: 0.13832000000001377 -- Compra: 0.15942000000000656\n"
     ]
    }
   ],
   "source": [
    "df = main_indicators(df)\n",
    "\n",
    "df_acao = Larry_completo(df, tempo_fechar=-5, excluir_seguidos = False, acao = 'all', x_stop = 2)\n",
    "\n",
    "#df_acao = df_acao[df_acao['tend'] == 0]\n",
    "\n",
    "compra = df_acao[df_acao['acao'] =='call']['resultado_binario'].sum()/df_acao[df_acao['acao'] =='call'].shape[0]\n",
    "venda = df_acao[df_acao['acao'] =='sell']['resultado_binario'].sum()/df_acao[df_acao['acao'] =='sell'].shape[0]\n",
    "\n",
    "compra_result = df_acao[df_acao['acao'] =='call']['resultado_valor'].sum()\n",
    "venda_result = df_acao[df_acao['acao'] =='sell']['resultado_valor'].sum()\n",
    "\n",
    "print(f'Venda: {venda}% -- Compra: {compra}%')\n",
    "print(f'Venda: {venda_result} -- Compra: {compra_result}')"
   ]
  },
  {
   "cell_type": "code",
   "execution_count": 10,
   "metadata": {},
   "outputs": [],
   "source": [
    "df_acao = df_acao.drop(columns = ['MA_9_diff_value', 'MA_9_tend', 'MA_9_tend_diff', 'preco','stop', 'realizacao_simplista', 'stop_real', 'tend'])"
   ]
  },
  {
   "cell_type": "code",
   "execution_count": 30,
   "metadata": {},
   "outputs": [],
   "source": [
    "df_acao['Hora'] = df_acao['Data'].apply(lambda x: x[11:])\n",
    "df_acao['Hora_h'] = df_acao['Hora'].apply(lambda x: x[:2])\n",
    "df_acao['Hora_h'] = df_acao['Hora'].apply(lambda x: x[:2])\n",
    "df_acao['Mes'] = df_acao['Data'].apply(lambda x: x[5:7])\n",
    "\n",
    "\n",
    "df_acao_12 = df_acao[df_acao['Data'] > '2022-12-01']"
   ]
  },
  {
   "cell_type": "code",
   "execution_count": 32,
   "metadata": {},
   "outputs": [],
   "source": [
    "df_new = df_acao[['Mes','resultado_binario','resultado_valor']]"
   ]
  },
  {
   "cell_type": "code",
   "execution_count": 33,
   "metadata": {},
   "outputs": [
    {
     "data": {
      "text/html": [
       "<div>\n",
       "<style scoped>\n",
       "    .dataframe tbody tr th:only-of-type {\n",
       "        vertical-align: middle;\n",
       "    }\n",
       "\n",
       "    .dataframe tbody tr th {\n",
       "        vertical-align: top;\n",
       "    }\n",
       "\n",
       "    .dataframe thead th {\n",
       "        text-align: right;\n",
       "    }\n",
       "</style>\n",
       "<table border=\"1\" class=\"dataframe\">\n",
       "  <thead>\n",
       "    <tr style=\"text-align: right;\">\n",
       "      <th></th>\n",
       "      <th>resultado_binario</th>\n",
       "      <th>resultado_valor</th>\n",
       "    </tr>\n",
       "    <tr>\n",
       "      <th>Mes</th>\n",
       "      <th></th>\n",
       "      <th></th>\n",
       "    </tr>\n",
       "  </thead>\n",
       "  <tbody>\n",
       "    <tr>\n",
       "      <th>05</th>\n",
       "      <td>1568</td>\n",
       "      <td>0.06184</td>\n",
       "    </tr>\n",
       "    <tr>\n",
       "      <th>06</th>\n",
       "      <td>1676</td>\n",
       "      <td>0.04376</td>\n",
       "    </tr>\n",
       "    <tr>\n",
       "      <th>07</th>\n",
       "      <td>1480</td>\n",
       "      <td>0.03183</td>\n",
       "    </tr>\n",
       "    <tr>\n",
       "      <th>08</th>\n",
       "      <td>1775</td>\n",
       "      <td>0.03687</td>\n",
       "    </tr>\n",
       "    <tr>\n",
       "      <th>09</th>\n",
       "      <td>1720</td>\n",
       "      <td>0.06312</td>\n",
       "    </tr>\n",
       "    <tr>\n",
       "      <th>10</th>\n",
       "      <td>1660</td>\n",
       "      <td>0.06694</td>\n",
       "    </tr>\n",
       "    <tr>\n",
       "      <th>11</th>\n",
       "      <td>657</td>\n",
       "      <td>-0.00662</td>\n",
       "    </tr>\n",
       "  </tbody>\n",
       "</table>\n",
       "</div>"
      ],
      "text/plain": [
       "     resultado_binario  resultado_valor\n",
       "Mes                                    \n",
       "05                1568          0.06184\n",
       "06                1676          0.04376\n",
       "07                1480          0.03183\n",
       "08                1775          0.03687\n",
       "09                1720          0.06312\n",
       "10                1660          0.06694\n",
       "11                 657         -0.00662"
      ]
     },
     "execution_count": 33,
     "metadata": {},
     "output_type": "execute_result"
    }
   ],
   "source": [
    "df_new.groupby(['Mes']).sum()"
   ]
  },
  {
   "cell_type": "code",
   "execution_count": 27,
   "metadata": {},
   "outputs": [
    {
     "data": {
      "text/html": [
       "<div>\n",
       "<style scoped>\n",
       "    .dataframe tbody tr th:only-of-type {\n",
       "        vertical-align: middle;\n",
       "    }\n",
       "\n",
       "    .dataframe tbody tr th {\n",
       "        vertical-align: top;\n",
       "    }\n",
       "\n",
       "    .dataframe thead th {\n",
       "        text-align: right;\n",
       "    }\n",
       "</style>\n",
       "<table border=\"1\" class=\"dataframe\">\n",
       "  <thead>\n",
       "    <tr style=\"text-align: right;\">\n",
       "      <th></th>\n",
       "      <th>resultado_binario</th>\n",
       "      <th>resultado_valor</th>\n",
       "    </tr>\n",
       "    <tr>\n",
       "      <th>Hora_h</th>\n",
       "      <th></th>\n",
       "      <th></th>\n",
       "    </tr>\n",
       "  </thead>\n",
       "  <tbody>\n",
       "    <tr>\n",
       "      <th>00</th>\n",
       "      <td>469</td>\n",
       "      <td>0.01877</td>\n",
       "    </tr>\n",
       "    <tr>\n",
       "      <th>01</th>\n",
       "      <td>427</td>\n",
       "      <td>0.00488</td>\n",
       "    </tr>\n",
       "    <tr>\n",
       "      <th>02</th>\n",
       "      <td>406</td>\n",
       "      <td>-0.00302</td>\n",
       "    </tr>\n",
       "    <tr>\n",
       "      <th>03</th>\n",
       "      <td>442</td>\n",
       "      <td>0.00691</td>\n",
       "    </tr>\n",
       "    <tr>\n",
       "      <th>04</th>\n",
       "      <td>457</td>\n",
       "      <td>0.00650</td>\n",
       "    </tr>\n",
       "    <tr>\n",
       "      <th>05</th>\n",
       "      <td>430</td>\n",
       "      <td>-0.01175</td>\n",
       "    </tr>\n",
       "    <tr>\n",
       "      <th>06</th>\n",
       "      <td>472</td>\n",
       "      <td>0.03617</td>\n",
       "    </tr>\n",
       "    <tr>\n",
       "      <th>07</th>\n",
       "      <td>443</td>\n",
       "      <td>0.01529</td>\n",
       "    </tr>\n",
       "    <tr>\n",
       "      <th>08</th>\n",
       "      <td>446</td>\n",
       "      <td>0.01273</td>\n",
       "    </tr>\n",
       "    <tr>\n",
       "      <th>09</th>\n",
       "      <td>421</td>\n",
       "      <td>0.00089</td>\n",
       "    </tr>\n",
       "    <tr>\n",
       "      <th>10</th>\n",
       "      <td>451</td>\n",
       "      <td>0.02388</td>\n",
       "    </tr>\n",
       "    <tr>\n",
       "      <th>11</th>\n",
       "      <td>531</td>\n",
       "      <td>0.06375</td>\n",
       "    </tr>\n",
       "    <tr>\n",
       "      <th>12</th>\n",
       "      <td>456</td>\n",
       "      <td>0.02519</td>\n",
       "    </tr>\n",
       "    <tr>\n",
       "      <th>13</th>\n",
       "      <td>396</td>\n",
       "      <td>-0.04303</td>\n",
       "    </tr>\n",
       "    <tr>\n",
       "      <th>14</th>\n",
       "      <td>454</td>\n",
       "      <td>0.02245</td>\n",
       "    </tr>\n",
       "    <tr>\n",
       "      <th>15</th>\n",
       "      <td>438</td>\n",
       "      <td>0.00679</td>\n",
       "    </tr>\n",
       "    <tr>\n",
       "      <th>16</th>\n",
       "      <td>407</td>\n",
       "      <td>0.00554</td>\n",
       "    </tr>\n",
       "    <tr>\n",
       "      <th>17</th>\n",
       "      <td>418</td>\n",
       "      <td>0.02204</td>\n",
       "    </tr>\n",
       "    <tr>\n",
       "      <th>18</th>\n",
       "      <td>487</td>\n",
       "      <td>0.02113</td>\n",
       "    </tr>\n",
       "    <tr>\n",
       "      <th>19</th>\n",
       "      <td>466</td>\n",
       "      <td>0.02423</td>\n",
       "    </tr>\n",
       "    <tr>\n",
       "      <th>20</th>\n",
       "      <td>391</td>\n",
       "      <td>0.02229</td>\n",
       "    </tr>\n",
       "    <tr>\n",
       "      <th>21</th>\n",
       "      <td>368</td>\n",
       "      <td>0.00069</td>\n",
       "    </tr>\n",
       "    <tr>\n",
       "      <th>22</th>\n",
       "      <td>446</td>\n",
       "      <td>0.00812</td>\n",
       "    </tr>\n",
       "    <tr>\n",
       "      <th>23</th>\n",
       "      <td>414</td>\n",
       "      <td>0.00730</td>\n",
       "    </tr>\n",
       "  </tbody>\n",
       "</table>\n",
       "</div>"
      ],
      "text/plain": [
       "        resultado_binario  resultado_valor\n",
       "Hora_h                                    \n",
       "00                    469          0.01877\n",
       "01                    427          0.00488\n",
       "02                    406         -0.00302\n",
       "03                    442          0.00691\n",
       "04                    457          0.00650\n",
       "05                    430         -0.01175\n",
       "06                    472          0.03617\n",
       "07                    443          0.01529\n",
       "08                    446          0.01273\n",
       "09                    421          0.00089\n",
       "10                    451          0.02388\n",
       "11                    531          0.06375\n",
       "12                    456          0.02519\n",
       "13                    396         -0.04303\n",
       "14                    454          0.02245\n",
       "15                    438          0.00679\n",
       "16                    407          0.00554\n",
       "17                    418          0.02204\n",
       "18                    487          0.02113\n",
       "19                    466          0.02423\n",
       "20                    391          0.02229\n",
       "21                    368          0.00069\n",
       "22                    446          0.00812\n",
       "23                    414          0.00730"
      ]
     },
     "execution_count": 27,
     "metadata": {},
     "output_type": "execute_result"
    }
   ],
   "source": [
    "df_new.groupby(['Hora_h']).sum()"
   ]
  },
  {
   "cell_type": "code",
   "execution_count": 37,
   "metadata": {},
   "outputs": [
    {
     "data": {
      "text/plain": [
       "1.03525"
      ]
     },
     "execution_count": 37,
     "metadata": {},
     "output_type": "execute_result"
    }
   ],
   "source": [
    "df_acao.tail(1)['preco'].values[0]"
   ]
  },
  {
   "cell_type": "code",
   "execution_count": null,
   "metadata": {},
   "outputs": [],
   "source": []
  }
 ],
 "metadata": {
  "kernelspec": {
   "display_name": "Python 3",
   "language": "python",
   "name": "python3"
  },
  "language_info": {
   "codemirror_mode": {
    "name": "ipython",
    "version": 3
   },
   "file_extension": ".py",
   "mimetype": "text/x-python",
   "name": "python",
   "nbconvert_exporter": "python",
   "pygments_lexer": "ipython3",
   "version": "3.10.4"
  },
  "orig_nbformat": 4,
  "vscode": {
   "interpreter": {
    "hash": "3e680e901da43b1ff7896a65bb9fdc0d88fdcb475def19e54fa2d4ad7c5b5275"
   }
  }
 },
 "nbformat": 4,
 "nbformat_minor": 2
}
