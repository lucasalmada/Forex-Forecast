{
 "cells": [
  {
   "cell_type": "code",
   "execution_count": 1,
   "metadata": {},
   "outputs": [],
   "source": [
    "import pandas as pd\n",
    "import talib as ta\n",
    "import matplotlib.pyplot as plt\n",
    "import numpy as np\n",
    "\n",
    "import plotly \n",
    "import plotly.io as pio\n",
    "import plotly.graph_objects as go\n",
    "import plotly.express as px\n",
    "from plotly.subplots import make_subplots"
   ]
  },
  {
   "attachments": {},
   "cell_type": "markdown",
   "metadata": {},
   "source": [
    "#### RSI + MFI + Stochastic"
   ]
  },
  {
   "cell_type": "code",
   "execution_count": 94,
   "metadata": {},
   "outputs": [],
   "source": [
    "#Forex\n",
    "colnames = ['Data','Open','High','Low','Close','Vol']\n",
    "df = pd.read_csv('./Forex Data/EURUSD_eatradingacademy/EURUSD1.csv', sep = '\\t', header=None, names = colnames)\n",
    "df = pd.read_csv('./Forex Data/EURUSD_eatradingacademy/EURUSD1.csv', sep = '\\t', header=None, names = colnames)"
   ]
  },
  {
   "cell_type": "code",
   "execution_count": 95,
   "metadata": {},
   "outputs": [],
   "source": [
    "#Ação yfinance"
   ]
  },
  {
   "cell_type": "code",
   "execution_count": 96,
   "metadata": {},
   "outputs": [],
   "source": [
    "#df = df.iloc[:10000]"
   ]
  },
  {
   "cell_type": "code",
   "execution_count": 97,
   "metadata": {},
   "outputs": [],
   "source": [
    "'''df['MA_50'] = ta.SMA(df['Close'],timeperiod=50)\n",
    "df['EMA'] = ta.EMA(df['Close'], timeperiod = 5)\n",
    "df['BB_up'],df['BB_mid'],df['BB_low'] = ta.BBANDS(df['Close'], timeperiod=20, nbdevup=2, nbdevdn=2, matype=0)\n",
    "df['TEMA_S'] = ta.TEMA(df['Close'], timeperiod = 12)\n",
    "df['TEMA_L'] = ta.TEMA(df['Close'], timeperiod = 36)\n",
    "df['Tamanho_candle'] = abs(df['Close'] - df['Open'])\n",
    "df['Tamanho_total'] = abs(df['High'] - df['Low'])'''\n",
    "\n",
    "def tendencia(x):\n",
    "    if x['Close'] > x['MA_200']:\n",
    "        return 'Alta'\n",
    "    else:\n",
    "        return 'Baixa'\n",
    "\n",
    "def mfi_rsi_stochastic_tendencia(x):\n",
    "    if x['RSI'] < 30 and x['MFI'] < 20 and x['slowk'] < 20 and x['Tendencia'] == 'Alta':\n",
    "        return 'call'\n",
    "    elif x['RSI'] > 70 and x['MFI'] > 80 and x['slowk'] > 80 and x['Tendencia'] == 'Baixa':\n",
    "        return 'sell' \n",
    "    else:\n",
    "        return 0\n",
    "\n",
    "def resultado_var(x):\n",
    "    if x['pos_mfi_rsi_stoch_tend'] == 'call':\n",
    "        resultado = x['close_distancia']/x['Close']\n",
    "        return resultado\n",
    "    elif x['pos_mfi_rsi_stoch_tend'] == 'sell':\n",
    "        resultado = x['Close']/ x['close_distancia']\n",
    "        return resultado\n",
    "    else:\n",
    "        return 0\n",
    "\n",
    "def resultado_qtd(x):\n",
    "    if x['pos_mfi_rsi_stoch_tend'] == 'call':\n",
    "        resultado = x['close_distancia'] - x['Close']\n",
    "        return resultado\n",
    "    elif x['pos_mfi_rsi_stoch_tend'] == 'sell':\n",
    "        resultado = x['Close'] - x['close_distancia']\n",
    "        return resultado\n",
    "    else:\n",
    "        return 0\n",
    "\n",
    "tempo_distancia = -10\n",
    "\n",
    "df['MA_200'] = ta.SMA(df['Close'],timeperiod=200)\n",
    "df['RSI'] = ta.RSI(df['Close'],14)\n",
    "df['MFI'] = ta.MFI(df['High'], df['Low'], df['Close'], df['Vol'], timeperiod=14)\n",
    "df['slowk'], df['slowd'] = ta.STOCH(df['High'], df['Low'], df['Close'], fastk_period=5, slowk_period=3, slowk_matype=0, slowd_period=3, slowd_matype=0)\n",
    "df['Tendencia'] = df.apply(tendencia,axis=1)\n",
    "df['pos_mfi_rsi_stoch_tend'] = df.apply(mfi_rsi_stochastic_tendencia, axis = 1)\n",
    "df['close_distancia'] = df['Close'].shift(tempo_distancia)\n",
    "df['Resultado_var'] = df.apply(resultado_var, axis = 1)\n",
    "df['Resultado_qtd'] = df.apply(resultado_qtd, axis = 1)\n"
   ]
  },
  {
   "cell_type": "code",
   "execution_count": 98,
   "metadata": {},
   "outputs": [
    {
     "name": "stdout",
     "output_type": "stream",
     "text": [
      "Total de compras: 161 \n",
      "Total de compras com lucro: 84 \n",
      "Porcentagem de acerto:  52.17391304347826%\n"
     ]
    }
   ],
   "source": [
    "qtd_compras = df[(df['Resultado_var'] != 0) & (df['pos_mfi_rsi_stoch_tend'] == 'call')].shape[0]\n",
    "qtd_compras_lucro = df[(df['Resultado_var'] != 0) & (df['pos_mfi_rsi_stoch_tend'] == 'call') & (df['Resultado_qtd'] > 0)].shape[0]\n",
    "\n",
    "print(f'Total de compras: {qtd_compras} \\nTotal de compras com lucro: {qtd_compras_lucro} \\nPorcentagem de acerto:  {100 * qtd_compras_lucro/qtd_compras}%')"
   ]
  },
  {
   "cell_type": "code",
   "execution_count": 99,
   "metadata": {},
   "outputs": [
    {
     "name": "stdout",
     "output_type": "stream",
     "text": [
      "Total de vendas: 146 \n",
      "Total de vendas com lucro: 91 \n",
      "Porcentagem de acerto:  62.32876712328767%\n"
     ]
    }
   ],
   "source": [
    "qtd_compras = df[(df['Resultado_var'] != 0) & (df['pos_mfi_rsi_stoch_tend'] == 'sell')].shape[0]\n",
    "qtd_compras_lucro = df[(df['Resultado_var'] != 0) & (df['pos_mfi_rsi_stoch_tend'] == 'sell') & (df['Resultado_qtd'] > 0)].shape[0]\n",
    "\n",
    "print(f'Total de vendas: {qtd_compras} \\nTotal de vendas com lucro: {qtd_compras_lucro} \\nPorcentagem de acerto:  {100 * qtd_compras_lucro/qtd_compras}%')"
   ]
  },
  {
   "cell_type": "code",
   "execution_count": null,
   "metadata": {},
   "outputs": [],
   "source": []
  }
 ],
 "metadata": {
  "kernelspec": {
   "display_name": "Python 3",
   "language": "python",
   "name": "python3"
  },
  "language_info": {
   "codemirror_mode": {
    "name": "ipython",
    "version": 3
   },
   "file_extension": ".py",
   "mimetype": "text/x-python",
   "name": "python",
   "nbconvert_exporter": "python",
   "pygments_lexer": "ipython3",
   "version": "3.10.4"
  },
  "orig_nbformat": 4,
  "vscode": {
   "interpreter": {
    "hash": "3e680e901da43b1ff7896a65bb9fdc0d88fdcb475def19e54fa2d4ad7c5b5275"
   }
  }
 },
 "nbformat": 4,
 "nbformat_minor": 2
}
