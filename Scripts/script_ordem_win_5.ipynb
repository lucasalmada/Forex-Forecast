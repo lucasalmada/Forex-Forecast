{
 "cells": [
  {
   "cell_type": "code",
   "execution_count": 1,
   "metadata": {},
   "outputs": [],
   "source": [
    "import pandas as pd\n",
    "import MetaTrader5 as mt5\n",
    "from datetime import datetime,timedelta\n",
    "import time\n",
    "import talib as ta"
   ]
  },
  {
   "cell_type": "code",
   "execution_count": 2,
   "metadata": {},
   "outputs": [],
   "source": [
    "#tz = pytz.timezone('America/Sao_Paulo')\n",
    "ativo = 'WING23'\n",
    "#ativos = ['EURUSD']\n",
    "\n",
    "\n",
    "\n",
    "path = r'C:\\Program Files\\MetaTrader 5\\terminal64.exe'\n",
    "\n",
    "if not mt5.initialize(path = path):\n",
    "    print(\"initialize() failed\")\n",
    "    mt5.shutdown()"
   ]
  },
  {
   "cell_type": "code",
   "execution_count": 3,
   "metadata": {},
   "outputs": [],
   "source": [
    "\n",
    "def comprar(symbol,stop):\n",
    "    point = mt5.symbol_info(symbol).point\n",
    "    request = {\n",
    "        \"action\": mt5.TRADE_ACTION_DEAL,\n",
    "        \"symbol\": symbol,\n",
    "        \"volume\": 1.0,\n",
    "        \"type\": mt5.ORDER_TYPE_BUY,\n",
    "        \"price\": mt5.symbol_info_tick(symbol).ask,\n",
    "        \"sl\": stop,\n",
    "        \"tp\": 0.0,\n",
    "        \"deviation\": 20,\n",
    "        \"magic\": 234000,\n",
    "        \"comment\": \"teste\",\n",
    "        \"type_time\": mt5.ORDER_TIME_GTC,\n",
    "        \"type_filling\": mt5.ORDER_FILLING_RETURN,\n",
    "    }\n",
    "    result = mt5.order_send(request)\n",
    "    print(result)\n",
    "\n",
    "def vender(symbol,stop):\n",
    "    point = mt5.symbol_info(symbol).point\n",
    "    request = {\n",
    "        \"action\": mt5.TRADE_ACTION_DEAL,\n",
    "        \"symbol\": symbol,\n",
    "        \"volume\": 1.0,\n",
    "        \"type\": mt5.ORDER_TYPE_SELL,\n",
    "        \"price\": mt5.symbol_info_tick(symbol).bid,\n",
    "        \"sl\": stop,\n",
    "        \"tp\": 0.0,\n",
    "        \"deviation\": 20,\n",
    "        \"magic\": 234000,\n",
    "        \"comment\": \"teste\",\n",
    "        \"type_time\": mt5.ORDER_TIME_GTC,\n",
    "        \"type_filling\": mt5.ORDER_FILLING_RETURN,\n",
    "    }\n",
    "    result = mt5.order_send(request)\n",
    "    print(result)\n",
    "\n",
    "def check_close(timestamp_abertura):\n",
    "    tempo_espera = 50\n",
    "    conserto_timestamp = -10800\n",
    "    tempo_fechamento = timestamp_abertura + tempo_espera * 60\n",
    "    agora_timestamp = int(datetime.now().timestamp()) + conserto_timestamp\n",
    "    while tempo_fechamento > agora_timestamp:\n",
    "        print(str(datetime.fromtimestamp(tempo_fechamento)))\n",
    "        agora_timestamp = int(datetime.now().timestamp()) + conserto_timestamp\n",
    "        print(str(datetime.fromtimestamp(agora_timestamp)))\n",
    "        time.sleep(2)\n",
    "\n",
    "    print('passou')\n",
    "\n",
    "    result = mt5.Close(symbol = 'WING23')\n",
    "\n",
    "    print(result)"
   ]
  },
  {
   "cell_type": "code",
   "execution_count": 4,
   "metadata": {},
   "outputs": [],
   "source": [
    "def verificar(ativo):\n",
    "\n",
    "    df = pd.DataFrame(mt5.copy_rates_from_pos(ativo, mt5.TIMEFRAME_M5, 0, 200))\n",
    "    df.columns = ['Data','Open','High','Low','Close','Vol','','']\n",
    "    df['MA_9'] = ta.EMA(df['Close'], timeperiod = 9)\n",
    "    df['MA_9_diff_value'] = df['MA_9'].diff(periods = 1)\n",
    "    df['MA_9_tend'] = df['MA_9_diff_value'].apply(lambda x: 1 if x > 0 else -1)\n",
    "    df['MA_9_tend_diff'] = df['MA_9_tend'].diff()\n",
    "    df['MA_100'] = ta.SMA(df['Close'],timeperiod=100)\n",
    "    df['tend'] = df.apply(lambda x: 1 if x['Close'] > x['MA_100'] else 0, axis = 1)\n",
    "\n",
    "    df['acao'] = df.apply(lambda x: 'sell' if (x['MA_9_tend_diff'] == 2 and x['tend'] == 1) \n",
    "        else 'call' if  (x['MA_9_tend_diff'] == -2 and x['tend'] == 0)  else 0, axis =1)\n",
    "\n",
    "    df['preco'] = df.apply(lambda x: x['Close'], axis =1)\n",
    "\n",
    "    df['stop'] = df.apply(lambda x: x['High'] + (x['High'] - x['Low'])  if x['acao']=='sell' else x['Low'] - (x['High'] - x['Low']) if x['acao'] == 'call' else 0, axis =1)\n",
    "\n",
    "\n",
    "\n",
    "    ##Excluir seguidos\n",
    "    lista = df['acao'].values\n",
    "\n",
    "    tempo_lista = 10\n",
    "    for num, i in enumerate(lista):\n",
    "        #print(num,i)\n",
    "        if i != 0:\n",
    "            for i in range(tempo_lista):\n",
    "                try:\n",
    "                    n_num = num + i + 1\n",
    "                    lista[n_num] = 0\n",
    "                except:\n",
    "                    pass\n",
    "    \n",
    "    df['acao'] = lista\n",
    "\n",
    "    ultima_linha = df.tail(1)\n",
    "    data = (ultima_linha['Data'].values[0])\n",
    "    data = str(datetime.fromtimestamp(data))\n",
    "    preco_entrada = ultima_linha['preco'].values[0]\n",
    "    stop = ultima_linha['stop'].values[0]\n",
    "    acao = ultima_linha['acao'].values[0]\n",
    "    MA_9_tend_diff = ultima_linha['MA_9_tend_diff'].values[0]\n",
    "    print(data, preco_entrada,MA_9_tend_diff)\n",
    "\n",
    "    if acao == 'call':\n",
    "        comprar(ativo, stop)\n",
    "    elif acao == 'sell': \n",
    "        vender(ativo, stop)\n",
    "    else:\n",
    "        print('Sem operacao')\n",
    "\n",
    "\n",
    "\n"
   ]
  },
  {
   "cell_type": "code",
   "execution_count": 5,
   "metadata": {},
   "outputs": [
    {
     "name": "stdout",
     "output_type": "stream",
     "text": [
      "2022-12-28 06:20:00 110445.0 0.0\n",
      "Sem operacao\n",
      "2022-12-28 06:25:00 110475.0 0.0\n",
      "Sem operacao\n"
     ]
    }
   ],
   "source": [
    "while True: \n",
    "    positions=mt5.positions_get()\n",
    "    if positions:\n",
    "        timestamp_abertura = positions[0].time\n",
    "        check_close(timestamp_abertura)\n",
    "    else:\n",
    "        data_e_hora_atuais = datetime.now()\n",
    "        hora_teste = str(data_e_hora_atuais.minute)[-1:] + str(data_e_hora_atuais.second)  \n",
    "        time.sleep(0.1)\n",
    "        if hora_teste == '51' or hora_teste == '01':\n",
    "            verificar(ativo)\n",
    "            #print(str(data_e_hora_atuais))\n",
    "            time.sleep(1)\n"
   ]
  },
  {
   "cell_type": "code",
   "execution_count": null,
   "metadata": {},
   "outputs": [],
   "source": [
    "while True:\n",
    "    data_e_hora_atuais = datetime.now()\n",
    "    hora_fechamento = data_e_hora_atuais + timedelta(minutes = 50)\n",
    "    hora_fechamento = int(hora_fechamento.timestamp())\n",
    "    hora_teste = str(data_e_hora_atuais.minute)[-1:] + str(data_e_hora_atuais.second)  \n",
    "    #if hora_teste == '51' or hora_teste == '01':\n",
    "    if True:\n",
    "        #verificar(ativo)\n",
    "        print(hora_teste)\n",
    "        time.sleep(1)"
   ]
  },
  {
   "cell_type": "code",
   "execution_count": null,
   "metadata": {},
   "outputs": [],
   "source": [
    "symbol = 'WING23'\n",
    "point=mt5.symbol_info(symbol).point\n",
    "stop = mt5.symbol_info_tick(symbol).ask-200*point\n",
    "request = {\n",
    "    \"action\": mt5.TRADE_ACTION_DEAL,\n",
    "    \"symbol\": symbol,\n",
    "    \"volume\": 2.0,\n",
    "    \"type\": mt5.ORDER_TYPE_BUY,\n",
    "    \"price\": mt5.symbol_info_tick(symbol).ask,\n",
    "    \"sl\": 0.0,\n",
    "    \"tp\": 0.0,\n",
    "    \"deviation\": 20,\n",
    "    \"magic\": 234000,\n",
    "    \"comment\": \"teste\",\n",
    "    \"type_time\": mt5.ORDER_TIME_GTC,\n",
    "    \"type_filling\": mt5.ORDER_FILLING_RETURN,\n",
    "}\n",
    "result = mt5.order_send(request)\n",
    "print(result)"
   ]
  },
  {
   "cell_type": "code",
   "execution_count": null,
   "metadata": {},
   "outputs": [],
   "source": [
    "data_e_hora_atuais = datetime.now()\n",
    "hora_fechamento = data_e_hora_atuais + timedelta(minutes = 10)\n",
    "hora_fechamento = int(hora_fechamento.timestamp())\n",
    "symbol = 'WING23'\n",
    "request = {\n",
    "        \"action\": mt5.TRADE_ACTION_DEAL,\n",
    "        \"symbol\": symbol,\n",
    "        \"volume\": 1.0,\n",
    "        \"type\": mt5.ORDER_TYPE_BUY,\n",
    "        \"price\": mt5.symbol_info_tick(symbol).ask,\n",
    "        \"sl\": 0.0,\n",
    "        \"tp\": 0.0,\n",
    "        \"deviation\": 20,\n",
    "        \"magic\": 234000,\n",
    "        \"comment\": \"teste\",\n",
    "        \"type_time\": mt5.ORDER_TIME_GTC,\n",
    "        \"type_filling\": mt5.ORDER_FILLING_RETURN,\n",
    "    }\n",
    "result = mt5.order_send(request)\n",
    "print(result)"
   ]
  },
  {
   "cell_type": "code",
   "execution_count": null,
   "metadata": {},
   "outputs": [],
   "source": [
    "usd_positions=mt5.positions_get()\n",
    "df=pd.DataFrame(list(usd_positions),columns=usd_positions[0]._asdict().keys())\n",
    "df['time'] = pd.to_datetime(df['time'], unit='s')\n",
    "df.drop(['time_update', 'time_msc', 'time_update_msc', 'external_id'], axis=1, inplace=True)\n",
    "df"
   ]
  },
  {
   "cell_type": "code",
   "execution_count": null,
   "metadata": {},
   "outputs": [],
   "source": [
    "mt5.Close(symbol = 'EURUSD')"
   ]
  },
  {
   "cell_type": "code",
   "execution_count": null,
   "metadata": {},
   "outputs": [],
   "source": [
    "df = pd.DataFrame(mt5.copy_rates_from_pos(ativo, mt5.TIMEFRAME_M5, 0, 200))\n",
    "df.columns = ['Data','Open','High','Low','Close','Vol','','']\n",
    "str(datetime.fromtimestamp(df.tail(1)['Data'].values[0] +10800))"
   ]
  },
  {
   "cell_type": "code",
   "execution_count": null,
   "metadata": {},
   "outputs": [],
   "source": [
    "int(datetime.now().timestamp())"
   ]
  },
  {
   "cell_type": "code",
   "execution_count": null,
   "metadata": {},
   "outputs": [],
   "source": []
  }
 ],
 "metadata": {
  "kernelspec": {
   "display_name": "Python 3",
   "language": "python",
   "name": "python3"
  },
  "language_info": {
   "codemirror_mode": {
    "name": "ipython",
    "version": 3
   },
   "file_extension": ".py",
   "mimetype": "text/x-python",
   "name": "python",
   "nbconvert_exporter": "python",
   "pygments_lexer": "ipython3",
   "version": "3.10.4"
  },
  "orig_nbformat": 4,
  "vscode": {
   "interpreter": {
    "hash": "3e680e901da43b1ff7896a65bb9fdc0d88fdcb475def19e54fa2d4ad7c5b5275"
   }
  }
 },
 "nbformat": 4,
 "nbformat_minor": 2
}
