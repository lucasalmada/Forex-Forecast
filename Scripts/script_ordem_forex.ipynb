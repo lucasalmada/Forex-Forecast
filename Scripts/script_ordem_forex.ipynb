{
 "cells": [
  {
   "cell_type": "code",
   "execution_count": 1,
   "metadata": {},
   "outputs": [],
   "source": [
    "import pandas as pd\n",
    "import MetaTrader5 as mt5\n",
    "from datetime import datetime,timedelta\n",
    "import time\n",
    "import talib as ta"
   ]
  },
  {
   "cell_type": "code",
   "execution_count": 2,
   "metadata": {},
   "outputs": [],
   "source": [
    "#tz = pytz.timezone('America/Sao_Paulo')\n",
    "ativo = 'EURUSD'\n",
    "#ativos = ['EURUSD']\n",
    "\n",
    "path = r'C:\\Program Files\\MT5 by FOREX.com Terminal\\terminal64.exe'\n",
    "\n",
    "if not mt5.initialize(path = path):\n",
    "    print(\"initialize() failed\")\n",
    "    mt5.shutdown()"
   ]
  },
  {
   "cell_type": "code",
   "execution_count": 3,
   "metadata": {},
   "outputs": [],
   "source": [
    "\n",
    "def comprar(symbol,stop,hora_fechamento):\n",
    "    point = mt5.symbol_info(symbol).point\n",
    "    request = {\n",
    "        \"action\": mt5.TRADE_ACTION_DEAL,\n",
    "        \"symbol\": symbol,\n",
    "        \"volume\": 0.1,\n",
    "        \"type\": mt5.ORDER_TYPE_BUY,\n",
    "        \"price\": mt5.symbol_info_tick(symbol).ask,\n",
    "        \"sl\": stop,\n",
    "        \"tp\": 0.0,\n",
    "        \"deviation\": 20,\n",
    "        \"magic\": 234000,\n",
    "        \"comment\": \"python script open\",\n",
    "        \"type_time\": mt5.ORDER_TIME_SPECIFIED,\n",
    "        \"expiration\": hora_fechamento,\n",
    "        \"type_filling\": mt5.ORDER_FILLING_RETURN,\n",
    "    }\n",
    "    result = mt5.order_send(request)\n",
    "    print(result)\n",
    "\n",
    "def vender(symbol,stop,hora_fechamento):\n",
    "    point = mt5.symbol_info(symbol).point\n",
    "    request = {\n",
    "        \"action\": mt5.TRADE_ACTION_DEAL,\n",
    "        \"symbol\": symbol,\n",
    "        \"volume\": 0.1,\n",
    "        \"type\": mt5.ORDER_TYPE_SELL,\n",
    "        \"price\": mt5.symbol_info_tick(symbol).bid,\n",
    "        \"sl\": stop,\n",
    "        \"tp\": 0.0,\n",
    "        \"deviation\": 20,\n",
    "        \"magic\": 234000,\n",
    "        \"comment\": \"python script open\",\n",
    "        \"type_time\": mt5.ORDER_TIME_SPECIFIED,\n",
    "        \"expiration\": hora_fechamento,\n",
    "        \"type_filling\": mt5.ORDER_FILLING_RETURN,\n",
    "    }\n",
    "    result = mt5.order_send(request)\n",
    "    print(result)"
   ]
  },
  {
   "cell_type": "code",
   "execution_count": 15,
   "metadata": {},
   "outputs": [],
   "source": [
    "def verificar(ativo, hora_fechamento):\n",
    "\n",
    "    df = pd.DataFrame(mt5.copy_rates_from_pos(ativo, mt5.TIMEFRAME_M1, 0, 200))\n",
    "    df.columns = ['Data','Open','High','Low','Close','Vol','','']\n",
    "    df['MA_9'] = ta.EMA(df['Close'], timeperiod = 9)\n",
    "    df['MA_9_diff_value'] = df['MA_9'].diff(periods = 1)\n",
    "    df['MA_9_tend'] = df['MA_9_diff_value'].apply(lambda x: 1 if x > 0 else -1)\n",
    "    df['MA_9_tend_diff'] = df['MA_9_tend'].diff()\n",
    "    df['MA_100'] = ta.SMA(df['Close'],timeperiod=100)\n",
    "    df['tend'] = df.apply(lambda x: 1 if x['Close'] > x['MA_100'] else 0, axis = 1)\n",
    "\n",
    "    df['acao'] = df.apply(lambda x: 'sell' if (x['MA_9_tend_diff'] == 2 and x['tend'] == 1) \n",
    "        else 'call' if  (x['MA_9_tend_diff'] == -2 and x['tend'] == 0)  else 0, axis =1)\n",
    "\n",
    "    df['preco'] = df.apply(lambda x: x['Close'], axis =1)\n",
    "\n",
    "    df['stop'] = df.apply(lambda x: x['High'] + (x['High'] - x['Low']) * 2  if x['acao']=='sell' else x['Low'] - (x['High'] - x['Low']) * 2 if x['acao'] == 'call' else 0, axis =1)\n",
    "\n",
    "    \n",
    "    ultima_linha = df.tail(1)\n",
    "    preco_entrada = ultima_linha['preco'].values[0]\n",
    "    stop = ultima_linha['stop'].values[0]\n",
    "    acao = ultima_linha['acao'].values[0]\n",
    "    hora_fechamento = hora_fechamento\n",
    "\n",
    "    if acao == 'call':\n",
    "        comprar(ativo, stop,hora_fechamento)\n",
    "    elif acao == 'sell':\n",
    "        vender(ativo, stop,hora_fechamento)\n",
    "    else:\n",
    "        print(f'Não houve operação:')\n",
    "\n"
   ]
  },
  {
   "cell_type": "code",
   "execution_count": 16,
   "metadata": {},
   "outputs": [
    {
     "name": "stdout",
     "output_type": "stream",
     "text": [
      "OrderSendResult(retcode=10027, deal=0, order=0, volume=0.0, price=0.0, bid=0.0, ask=0.0, comment='AutoTrading disabled by client', request_id=0, retcode_external=0, request=TradeRequest(action=1, magic=234000, order=0, symbol='EURUSD', volume=0.1, price=1.0619, stoplimit=0.0, sl=1.0605000000000002, tp=0.0, deviation=20, type=0, type_filling=2, type_time=2, expiration=1672021379, comment='python script open', position=0, position_by=0))\n",
      "Não houve operação:\n",
      "Não houve operação:\n"
     ]
    },
    {
     "ename": "KeyboardInterrupt",
     "evalue": "",
     "output_type": "error",
     "traceback": [
      "\u001b[1;31m---------------------------------------------------------------------------\u001b[0m",
      "\u001b[1;31mKeyboardInterrupt\u001b[0m                         Traceback (most recent call last)",
      "\u001b[1;32mc:\\Users\\Usuário\\Documents\\Github\\Forex-Forecast\\Scripts\\script_ordem_forex.ipynb Cell 5\u001b[0m in \u001b[0;36m<cell line: 1>\u001b[1;34m()\u001b[0m\n\u001b[0;32m      <a href='vscode-notebook-cell:/c%3A/Users/Usu%C3%A1rio/Documents/Github/Forex-Forecast/Scripts/script_ordem_forex.ipynb#W4sZmlsZQ%3D%3D?line=6'>7</a>\u001b[0m verificar(ativo, hora_fechamento)\n\u001b[0;32m      <a href='vscode-notebook-cell:/c%3A/Users/Usu%C3%A1rio/Documents/Github/Forex-Forecast/Scripts/script_ordem_forex.ipynb#W4sZmlsZQ%3D%3D?line=7'>8</a>\u001b[0m \u001b[39m#print(str(data_e_hora_atuais))\u001b[39;00m\n\u001b[1;32m----> <a href='vscode-notebook-cell:/c%3A/Users/Usu%C3%A1rio/Documents/Github/Forex-Forecast/Scripts/script_ordem_forex.ipynb#W4sZmlsZQ%3D%3D?line=8'>9</a>\u001b[0m time\u001b[39m.\u001b[39;49msleep(\u001b[39m10\u001b[39;49m)\n",
      "\u001b[1;31mKeyboardInterrupt\u001b[0m: "
     ]
    }
   ],
   "source": [
    "while True:\n",
    "    data_e_hora_atuais = datetime.now()\n",
    "    hora_fechamento = data_e_hora_atuais + timedelta(minutes = 20)\n",
    "    hora_fechamento = int(hora_fechamento.timestamp())\n",
    "    hora_teste = str(data_e_hora_atuais.second)  \n",
    "    if hora_teste == '59':\n",
    "        verificar(ativo, hora_fechamento)\n",
    "        #print(str(data_e_hora_atuais))\n",
    "        time.sleep(10)"
   ]
  },
  {
   "cell_type": "code",
   "execution_count": 14,
   "metadata": {},
   "outputs": [
    {
     "name": "stdout",
     "output_type": "stream",
     "text": [
      "OrderSendResult(retcode=10030, deal=0, order=0, volume=0.0, price=0.0, bid=0.0, ask=0.0, comment='Unsupported filling mode', request_id=0, retcode_external=0, request=TradeRequest(action=1, magic=234000, order=0, symbol='EURUSD', volume=0.1, price=1.06375, stoplimit=0.0, sl=0.0, tp=0.0, deviation=20, type=0, type_filling=1, type_time=2, expiration=1672108619, comment='python script open', position=0, position_by=0))\n"
     ]
    }
   ],
   "source": [
    "data_e_hora_atuais = datetime.now()\n",
    "hora_fechamento = data_e_hora_atuais + timedelta(minutes = 5*60 + 1)\n",
    "hora_fechamento = int(hora_fechamento.timestamp())\n",
    "symbol = 'EURUSD'\n",
    "request = {\n",
    "    \"action\": mt5.TRADE_ACTION_DEAL,\n",
    "    \"symbol\": symbol,\n",
    "    \"volume\": 0.1,\n",
    "    \"type\": mt5.ORDER_TYPE_BUY,\n",
    "    \"price\": mt5.symbol_info_tick(symbol).ask,\n",
    "    \"sl\": 0.0,\n",
    "    \"tp\": 0.0,\n",
    "    \"deviation\": 20,\n",
    "    \"magic\": 234000,\n",
    "    \"comment\": \"python script open\",\n",
    "    \"type_time\": mt5.ORDER_TIME_SPECIFIED,\n",
    "    \"expiration\": hora_fechamento,\n",
    "    \"type_filling\": mt5.ORDER_FILLING_IOC,\n",
    "}\n",
    "result = mt5.order_send(request)\n",
    "print(result)"
   ]
  },
  {
   "cell_type": "code",
   "execution_count": 25,
   "metadata": {},
   "outputs": [],
   "source": [
    "data_e_hora_atuais = datetime.now()\n",
    "hora_fechamento = data_e_hora_atuais + timedelta(minutes = 0.5)\n",
    "hora_fechamento = int(hora_fechamento.timestamp())"
   ]
  },
  {
   "cell_type": "code",
   "execution_count": 12,
   "metadata": {},
   "outputs": [
    {
     "data": {
      "text/plain": [
       "'2022-12-26 23:40:14'"
      ]
     },
     "execution_count": 12,
     "metadata": {},
     "output_type": "execute_result"
    }
   ],
   "source": [
    "str(datetime.fromtimestamp(hora_fechamento))"
   ]
  },
  {
   "cell_type": "code",
   "execution_count": null,
   "metadata": {},
   "outputs": [],
   "source": [
    "datetime.from"
   ]
  }
 ],
 "metadata": {
  "kernelspec": {
   "display_name": "Python 3",
   "language": "python",
   "name": "python3"
  },
  "language_info": {
   "codemirror_mode": {
    "name": "ipython",
    "version": 3
   },
   "file_extension": ".py",
   "mimetype": "text/x-python",
   "name": "python",
   "nbconvert_exporter": "python",
   "pygments_lexer": "ipython3",
   "version": "3.10.4 (tags/v3.10.4:9d38120, Mar 23 2022, 23:13:41) [MSC v.1929 64 bit (AMD64)]"
  },
  "orig_nbformat": 4,
  "vscode": {
   "interpreter": {
    "hash": "3e680e901da43b1ff7896a65bb9fdc0d88fdcb475def19e54fa2d4ad7c5b5275"
   }
  }
 },
 "nbformat": 4,
 "nbformat_minor": 2
}
